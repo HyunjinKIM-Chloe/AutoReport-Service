{
 "cells": [
  {
   "cell_type": "code",
   "execution_count": 1,
   "id": "1b134fec",
   "metadata": {},
   "outputs": [
    {
     "data": {
      "text/html": [
       "<div>\n",
       "<style scoped>\n",
       "    .dataframe tbody tr th:only-of-type {\n",
       "        vertical-align: middle;\n",
       "    }\n",
       "\n",
       "    .dataframe tbody tr th {\n",
       "        vertical-align: top;\n",
       "    }\n",
       "\n",
       "    .dataframe thead th {\n",
       "        text-align: right;\n",
       "    }\n",
       "</style>\n",
       "<table border=\"1\" class=\"dataframe\">\n",
       "  <thead>\n",
       "    <tr style=\"text-align: right;\">\n",
       "      <th></th>\n",
       "      <th>년</th>\n",
       "      <th>월</th>\n",
       "      <th>Advertiser</th>\n",
       "      <th>Product</th>\n",
       "      <th>연령대</th>\n",
       "      <th>광고횟수</th>\n",
       "      <th>시청자수</th>\n",
       "      <th>GRP</th>\n",
       "      <th>도달자수</th>\n",
       "      <th>도달율 1+</th>\n",
       "      <th>도달율 3+</th>\n",
       "      <th>도달율 5+</th>\n",
       "      <th>도달율 7+</th>\n",
       "      <th>도달율 9+</th>\n",
       "    </tr>\n",
       "  </thead>\n",
       "  <tbody>\n",
       "    <tr>\n",
       "      <th>0</th>\n",
       "      <td>2016.0</td>\n",
       "      <td>01월</td>\n",
       "      <td>BMW코리아</td>\n",
       "      <td>BMW미니클럽맨</td>\n",
       "      <td>20대</td>\n",
       "      <td>1.0</td>\n",
       "      <td>0.0</td>\n",
       "      <td>0.0</td>\n",
       "      <td>0.0</td>\n",
       "      <td>0.0</td>\n",
       "      <td>0.0</td>\n",
       "      <td>0.0</td>\n",
       "      <td>0.0</td>\n",
       "      <td>0.0</td>\n",
       "    </tr>\n",
       "    <tr>\n",
       "      <th>1</th>\n",
       "      <td>2016.0</td>\n",
       "      <td>01월</td>\n",
       "      <td>BMW코리아</td>\n",
       "      <td>BMW미니클럽맨</td>\n",
       "      <td>30대</td>\n",
       "      <td>1.0</td>\n",
       "      <td>21000.0</td>\n",
       "      <td>0.5</td>\n",
       "      <td>21000.0</td>\n",
       "      <td>0.5</td>\n",
       "      <td>0.0</td>\n",
       "      <td>0.0</td>\n",
       "      <td>0.0</td>\n",
       "      <td>0.0</td>\n",
       "    </tr>\n",
       "    <tr>\n",
       "      <th>2</th>\n",
       "      <td>2016.0</td>\n",
       "      <td>01월</td>\n",
       "      <td>BMW코리아</td>\n",
       "      <td>BMW미니클럽맨</td>\n",
       "      <td>40대</td>\n",
       "      <td>1.0</td>\n",
       "      <td>23840.0</td>\n",
       "      <td>0.6</td>\n",
       "      <td>23840.0</td>\n",
       "      <td>0.6</td>\n",
       "      <td>0.0</td>\n",
       "      <td>0.0</td>\n",
       "      <td>0.0</td>\n",
       "      <td>0.0</td>\n",
       "    </tr>\n",
       "    <tr>\n",
       "      <th>3</th>\n",
       "      <td>2016.0</td>\n",
       "      <td>01월</td>\n",
       "      <td>BMW코리아</td>\n",
       "      <td>BMW미니클럽맨</td>\n",
       "      <td>50대</td>\n",
       "      <td>1.0</td>\n",
       "      <td>0.0</td>\n",
       "      <td>0.0</td>\n",
       "      <td>0.0</td>\n",
       "      <td>0.0</td>\n",
       "      <td>0.0</td>\n",
       "      <td>0.0</td>\n",
       "      <td>0.0</td>\n",
       "      <td>0.0</td>\n",
       "    </tr>\n",
       "    <tr>\n",
       "      <th>4</th>\n",
       "      <td>2016.0</td>\n",
       "      <td>01월</td>\n",
       "      <td>BMW코리아</td>\n",
       "      <td>BMW미니클럽맨</td>\n",
       "      <td>60대</td>\n",
       "      <td>1.0</td>\n",
       "      <td>5638.0</td>\n",
       "      <td>0.2</td>\n",
       "      <td>5638.0</td>\n",
       "      <td>0.2</td>\n",
       "      <td>0.0</td>\n",
       "      <td>0.0</td>\n",
       "      <td>0.0</td>\n",
       "      <td>0.0</td>\n",
       "    </tr>\n",
       "    <tr>\n",
       "      <th>...</th>\n",
       "      <td>...</td>\n",
       "      <td>...</td>\n",
       "      <td>...</td>\n",
       "      <td>...</td>\n",
       "      <td>...</td>\n",
       "      <td>...</td>\n",
       "      <td>...</td>\n",
       "      <td>...</td>\n",
       "      <td>...</td>\n",
       "      <td>...</td>\n",
       "      <td>...</td>\n",
       "      <td>...</td>\n",
       "      <td>...</td>\n",
       "      <td>...</td>\n",
       "    </tr>\n",
       "    <tr>\n",
       "      <th>6291</th>\n",
       "      <td>2020.0</td>\n",
       "      <td>10월</td>\n",
       "      <td>혼다코리아</td>\n",
       "      <td>혼다CR-V</td>\n",
       "      <td>50대</td>\n",
       "      <td>27.0</td>\n",
       "      <td>35197.0</td>\n",
       "      <td>0.9</td>\n",
       "      <td>25964.0</td>\n",
       "      <td>0.6</td>\n",
       "      <td>0.0</td>\n",
       "      <td>0.0</td>\n",
       "      <td>0.0</td>\n",
       "      <td>0.0</td>\n",
       "    </tr>\n",
       "    <tr>\n",
       "      <th>6292</th>\n",
       "      <td>2020.0</td>\n",
       "      <td>10월</td>\n",
       "      <td>혼다코리아</td>\n",
       "      <td>혼다CR-V</td>\n",
       "      <td>60대</td>\n",
       "      <td>27.0</td>\n",
       "      <td>36975.0</td>\n",
       "      <td>0.8</td>\n",
       "      <td>19556.0</td>\n",
       "      <td>0.4</td>\n",
       "      <td>0.1</td>\n",
       "      <td>0.1</td>\n",
       "      <td>0.0</td>\n",
       "      <td>0.0</td>\n",
       "    </tr>\n",
       "    <tr>\n",
       "      <th>6293</th>\n",
       "      <td>2020.0</td>\n",
       "      <td>10월</td>\n",
       "      <td>혼다코리아</td>\n",
       "      <td>혼다CR-V</td>\n",
       "      <td>개인</td>\n",
       "      <td>27.0</td>\n",
       "      <td>115055.0</td>\n",
       "      <td>0.5</td>\n",
       "      <td>82280.0</td>\n",
       "      <td>0.3</td>\n",
       "      <td>0.0</td>\n",
       "      <td>0.0</td>\n",
       "      <td>0.0</td>\n",
       "      <td>0.0</td>\n",
       "    </tr>\n",
       "    <tr>\n",
       "      <th>6294</th>\n",
       "      <td>NaN</td>\n",
       "      <td>NaN</td>\n",
       "      <td>NaN</td>\n",
       "      <td>NaN</td>\n",
       "      <td>개인</td>\n",
       "      <td>NaN</td>\n",
       "      <td>NaN</td>\n",
       "      <td>NaN</td>\n",
       "      <td>NaN</td>\n",
       "      <td>NaN</td>\n",
       "      <td>NaN</td>\n",
       "      <td>NaN</td>\n",
       "      <td>NaN</td>\n",
       "      <td>NaN</td>\n",
       "    </tr>\n",
       "    <tr>\n",
       "      <th>6295</th>\n",
       "      <td>NaN</td>\n",
       "      <td>NaN</td>\n",
       "      <td>NaN</td>\n",
       "      <td>NaN</td>\n",
       "      <td>개인</td>\n",
       "      <td>NaN</td>\n",
       "      <td>NaN</td>\n",
       "      <td>NaN</td>\n",
       "      <td>NaN</td>\n",
       "      <td>NaN</td>\n",
       "      <td>NaN</td>\n",
       "      <td>NaN</td>\n",
       "      <td>NaN</td>\n",
       "      <td>NaN</td>\n",
       "    </tr>\n",
       "  </tbody>\n",
       "</table>\n",
       "<p>6296 rows × 14 columns</p>\n",
       "</div>"
      ],
      "text/plain": [
       "           년    월 Advertiser   Product  연령대  광고횟수      시청자수  GRP     도달자수  \\\n",
       "0     2016.0  01월     BMW코리아  BMW미니클럽맨  20대   1.0       0.0  0.0      0.0   \n",
       "1     2016.0  01월     BMW코리아  BMW미니클럽맨  30대   1.0   21000.0  0.5  21000.0   \n",
       "2     2016.0  01월     BMW코리아  BMW미니클럽맨  40대   1.0   23840.0  0.6  23840.0   \n",
       "3     2016.0  01월     BMW코리아  BMW미니클럽맨  50대   1.0       0.0  0.0      0.0   \n",
       "4     2016.0  01월     BMW코리아  BMW미니클럽맨  60대   1.0    5638.0  0.2   5638.0   \n",
       "...      ...  ...        ...       ...  ...   ...       ...  ...      ...   \n",
       "6291  2020.0  10월      혼다코리아    혼다CR-V  50대  27.0   35197.0  0.9  25964.0   \n",
       "6292  2020.0  10월      혼다코리아    혼다CR-V  60대  27.0   36975.0  0.8  19556.0   \n",
       "6293  2020.0  10월      혼다코리아    혼다CR-V   개인  27.0  115055.0  0.5  82280.0   \n",
       "6294     NaN  NaN        NaN       NaN   개인   NaN       NaN  NaN      NaN   \n",
       "6295     NaN  NaN        NaN       NaN   개인   NaN       NaN  NaN      NaN   \n",
       "\n",
       "      도달율 1+  도달율 3+  도달율 5+  도달율 7+  도달율 9+  \n",
       "0        0.0     0.0     0.0     0.0     0.0  \n",
       "1        0.5     0.0     0.0     0.0     0.0  \n",
       "2        0.6     0.0     0.0     0.0     0.0  \n",
       "3        0.0     0.0     0.0     0.0     0.0  \n",
       "4        0.2     0.0     0.0     0.0     0.0  \n",
       "...      ...     ...     ...     ...     ...  \n",
       "6291     0.6     0.0     0.0     0.0     0.0  \n",
       "6292     0.4     0.1     0.1     0.0     0.0  \n",
       "6293     0.3     0.0     0.0     0.0     0.0  \n",
       "6294     NaN     NaN     NaN     NaN     NaN  \n",
       "6295     NaN     NaN     NaN     NaN     NaN  \n",
       "\n",
       "[6296 rows x 14 columns]"
      ]
     },
     "execution_count": 1,
     "metadata": {},
     "output_type": "execute_result"
    }
   ],
   "source": [
    "original = pd.read_csv(\"../datas/TV_GRPs_by_models_v2.csv\")\n",
    "original"
   ]
  },
  {
   "cell_type": "code",
   "execution_count": 2,
   "id": "d9857a7c",
   "metadata": {},
   "outputs": [
    {
     "name": "stdout",
     "output_type": "stream",
     "text": [
      "<class 'pandas.core.frame.DataFrame'>\n",
      "RangeIndex: 6296 entries, 0 to 6295\n",
      "Data columns (total 14 columns):\n",
      " #   Column      Non-Null Count  Dtype  \n",
      "---  ------      --------------  -----  \n",
      " 0   년           6294 non-null   float64\n",
      " 1   월           6294 non-null   object \n",
      " 2   Advertiser  6294 non-null   object \n",
      " 3   Product     6294 non-null   object \n",
      " 4   연령대         6296 non-null   object \n",
      " 5   광고횟수        6294 non-null   float64\n",
      " 6   시청자수        6294 non-null   float64\n",
      " 7   GRP         6294 non-null   float64\n",
      " 8   도달자수        6294 non-null   float64\n",
      " 9   도달율 1+      6294 non-null   float64\n",
      " 10  도달율 3+      6294 non-null   float64\n",
      " 11  도달율 5+      6294 non-null   float64\n",
      " 12  도달율 7+      6294 non-null   float64\n",
      " 13  도달율 9+      6294 non-null   float64\n",
      "dtypes: float64(10), object(4)\n",
      "memory usage: 688.8+ KB\n"
     ]
    }
   ],
   "source": [
    "original.info()"
   ]
  },
  {
   "cell_type": "code",
   "execution_count": 3,
   "id": "ed57d644",
   "metadata": {},
   "outputs": [],
   "source": [
    "# original = original.dropna(axis=0,inplace=True)\n",
    "original.dropna(axis=0, inplace=True)"
   ]
  },
  {
   "cell_type": "code",
   "execution_count": 14,
   "id": "df9a595c",
   "metadata": {},
   "outputs": [
    {
     "data": {
      "text/html": [
       "<div>\n",
       "<style scoped>\n",
       "    .dataframe tbody tr th:only-of-type {\n",
       "        vertical-align: middle;\n",
       "    }\n",
       "\n",
       "    .dataframe tbody tr th {\n",
       "        vertical-align: top;\n",
       "    }\n",
       "\n",
       "    .dataframe thead th {\n",
       "        text-align: right;\n",
       "    }\n",
       "</style>\n",
       "<table border=\"1\" class=\"dataframe\">\n",
       "  <thead>\n",
       "    <tr style=\"text-align: right;\">\n",
       "      <th></th>\n",
       "      <th>년</th>\n",
       "      <th>월</th>\n",
       "      <th>Advertiser</th>\n",
       "      <th>Product</th>\n",
       "      <th>연령대</th>\n",
       "      <th>광고횟수</th>\n",
       "      <th>시청자수</th>\n",
       "      <th>GRP</th>\n",
       "      <th>도달자수</th>\n",
       "      <th>도달율 1+</th>\n",
       "      <th>도달율 3+</th>\n",
       "      <th>도달율 5+</th>\n",
       "      <th>도달율 7+</th>\n",
       "      <th>도달율 9+</th>\n",
       "    </tr>\n",
       "  </thead>\n",
       "  <tbody>\n",
       "    <tr>\n",
       "      <th>0</th>\n",
       "      <td>2016</td>\n",
       "      <td>1</td>\n",
       "      <td>BMW코리아</td>\n",
       "      <td>BMW미니클럽맨</td>\n",
       "      <td>20대</td>\n",
       "      <td>1.0</td>\n",
       "      <td>0.0</td>\n",
       "      <td>0.0</td>\n",
       "      <td>0.0</td>\n",
       "      <td>0.0</td>\n",
       "      <td>0.0</td>\n",
       "      <td>0.0</td>\n",
       "      <td>0.0</td>\n",
       "      <td>0.0</td>\n",
       "    </tr>\n",
       "    <tr>\n",
       "      <th>1</th>\n",
       "      <td>2016</td>\n",
       "      <td>1</td>\n",
       "      <td>BMW코리아</td>\n",
       "      <td>BMW미니클럽맨</td>\n",
       "      <td>30대</td>\n",
       "      <td>1.0</td>\n",
       "      <td>21000.0</td>\n",
       "      <td>0.5</td>\n",
       "      <td>21000.0</td>\n",
       "      <td>0.5</td>\n",
       "      <td>0.0</td>\n",
       "      <td>0.0</td>\n",
       "      <td>0.0</td>\n",
       "      <td>0.0</td>\n",
       "    </tr>\n",
       "    <tr>\n",
       "      <th>2</th>\n",
       "      <td>2016</td>\n",
       "      <td>1</td>\n",
       "      <td>BMW코리아</td>\n",
       "      <td>BMW미니클럽맨</td>\n",
       "      <td>40대</td>\n",
       "      <td>1.0</td>\n",
       "      <td>23840.0</td>\n",
       "      <td>0.6</td>\n",
       "      <td>23840.0</td>\n",
       "      <td>0.6</td>\n",
       "      <td>0.0</td>\n",
       "      <td>0.0</td>\n",
       "      <td>0.0</td>\n",
       "      <td>0.0</td>\n",
       "    </tr>\n",
       "    <tr>\n",
       "      <th>3</th>\n",
       "      <td>2016</td>\n",
       "      <td>1</td>\n",
       "      <td>BMW코리아</td>\n",
       "      <td>BMW미니클럽맨</td>\n",
       "      <td>50대</td>\n",
       "      <td>1.0</td>\n",
       "      <td>0.0</td>\n",
       "      <td>0.0</td>\n",
       "      <td>0.0</td>\n",
       "      <td>0.0</td>\n",
       "      <td>0.0</td>\n",
       "      <td>0.0</td>\n",
       "      <td>0.0</td>\n",
       "      <td>0.0</td>\n",
       "    </tr>\n",
       "    <tr>\n",
       "      <th>4</th>\n",
       "      <td>2016</td>\n",
       "      <td>1</td>\n",
       "      <td>BMW코리아</td>\n",
       "      <td>BMW미니클럽맨</td>\n",
       "      <td>60대</td>\n",
       "      <td>1.0</td>\n",
       "      <td>5638.0</td>\n",
       "      <td>0.2</td>\n",
       "      <td>5638.0</td>\n",
       "      <td>0.2</td>\n",
       "      <td>0.0</td>\n",
       "      <td>0.0</td>\n",
       "      <td>0.0</td>\n",
       "      <td>0.0</td>\n",
       "    </tr>\n",
       "    <tr>\n",
       "      <th>...</th>\n",
       "      <td>...</td>\n",
       "      <td>...</td>\n",
       "      <td>...</td>\n",
       "      <td>...</td>\n",
       "      <td>...</td>\n",
       "      <td>...</td>\n",
       "      <td>...</td>\n",
       "      <td>...</td>\n",
       "      <td>...</td>\n",
       "      <td>...</td>\n",
       "      <td>...</td>\n",
       "      <td>...</td>\n",
       "      <td>...</td>\n",
       "      <td>...</td>\n",
       "    </tr>\n",
       "    <tr>\n",
       "      <th>6289</th>\n",
       "      <td>2020</td>\n",
       "      <td>10</td>\n",
       "      <td>혼다코리아</td>\n",
       "      <td>혼다CR-V</td>\n",
       "      <td>30대</td>\n",
       "      <td>27.0</td>\n",
       "      <td>9939.0</td>\n",
       "      <td>0.3</td>\n",
       "      <td>9939.0</td>\n",
       "      <td>0.3</td>\n",
       "      <td>0.0</td>\n",
       "      <td>0.0</td>\n",
       "      <td>0.0</td>\n",
       "      <td>0.0</td>\n",
       "    </tr>\n",
       "    <tr>\n",
       "      <th>6290</th>\n",
       "      <td>2020</td>\n",
       "      <td>10</td>\n",
       "      <td>혼다코리아</td>\n",
       "      <td>혼다CR-V</td>\n",
       "      <td>40대</td>\n",
       "      <td>27.0</td>\n",
       "      <td>32944.0</td>\n",
       "      <td>0.8</td>\n",
       "      <td>27119.0</td>\n",
       "      <td>0.7</td>\n",
       "      <td>0.0</td>\n",
       "      <td>0.0</td>\n",
       "      <td>0.0</td>\n",
       "      <td>0.0</td>\n",
       "    </tr>\n",
       "    <tr>\n",
       "      <th>6291</th>\n",
       "      <td>2020</td>\n",
       "      <td>10</td>\n",
       "      <td>혼다코리아</td>\n",
       "      <td>혼다CR-V</td>\n",
       "      <td>50대</td>\n",
       "      <td>27.0</td>\n",
       "      <td>35197.0</td>\n",
       "      <td>0.9</td>\n",
       "      <td>25964.0</td>\n",
       "      <td>0.6</td>\n",
       "      <td>0.0</td>\n",
       "      <td>0.0</td>\n",
       "      <td>0.0</td>\n",
       "      <td>0.0</td>\n",
       "    </tr>\n",
       "    <tr>\n",
       "      <th>6292</th>\n",
       "      <td>2020</td>\n",
       "      <td>10</td>\n",
       "      <td>혼다코리아</td>\n",
       "      <td>혼다CR-V</td>\n",
       "      <td>60대</td>\n",
       "      <td>27.0</td>\n",
       "      <td>36975.0</td>\n",
       "      <td>0.8</td>\n",
       "      <td>19556.0</td>\n",
       "      <td>0.4</td>\n",
       "      <td>0.1</td>\n",
       "      <td>0.1</td>\n",
       "      <td>0.0</td>\n",
       "      <td>0.0</td>\n",
       "    </tr>\n",
       "    <tr>\n",
       "      <th>6293</th>\n",
       "      <td>2020</td>\n",
       "      <td>10</td>\n",
       "      <td>혼다코리아</td>\n",
       "      <td>혼다CR-V</td>\n",
       "      <td>개인</td>\n",
       "      <td>27.0</td>\n",
       "      <td>115055.0</td>\n",
       "      <td>0.5</td>\n",
       "      <td>82280.0</td>\n",
       "      <td>0.3</td>\n",
       "      <td>0.0</td>\n",
       "      <td>0.0</td>\n",
       "      <td>0.0</td>\n",
       "      <td>0.0</td>\n",
       "    </tr>\n",
       "  </tbody>\n",
       "</table>\n",
       "<p>6294 rows × 14 columns</p>\n",
       "</div>"
      ],
      "text/plain": [
       "         년   월 Advertiser   Product  연령대  광고횟수      시청자수  GRP     도달자수  \\\n",
       "0     2016   1     BMW코리아  BMW미니클럽맨  20대   1.0       0.0  0.0      0.0   \n",
       "1     2016   1     BMW코리아  BMW미니클럽맨  30대   1.0   21000.0  0.5  21000.0   \n",
       "2     2016   1     BMW코리아  BMW미니클럽맨  40대   1.0   23840.0  0.6  23840.0   \n",
       "3     2016   1     BMW코리아  BMW미니클럽맨  50대   1.0       0.0  0.0      0.0   \n",
       "4     2016   1     BMW코리아  BMW미니클럽맨  60대   1.0    5638.0  0.2   5638.0   \n",
       "...    ...  ..        ...       ...  ...   ...       ...  ...      ...   \n",
       "6289  2020  10      혼다코리아    혼다CR-V  30대  27.0    9939.0  0.3   9939.0   \n",
       "6290  2020  10      혼다코리아    혼다CR-V  40대  27.0   32944.0  0.8  27119.0   \n",
       "6291  2020  10      혼다코리아    혼다CR-V  50대  27.0   35197.0  0.9  25964.0   \n",
       "6292  2020  10      혼다코리아    혼다CR-V  60대  27.0   36975.0  0.8  19556.0   \n",
       "6293  2020  10      혼다코리아    혼다CR-V   개인  27.0  115055.0  0.5  82280.0   \n",
       "\n",
       "      도달율 1+  도달율 3+  도달율 5+  도달율 7+  도달율 9+  \n",
       "0        0.0     0.0     0.0     0.0     0.0  \n",
       "1        0.5     0.0     0.0     0.0     0.0  \n",
       "2        0.6     0.0     0.0     0.0     0.0  \n",
       "3        0.0     0.0     0.0     0.0     0.0  \n",
       "4        0.2     0.0     0.0     0.0     0.0  \n",
       "...      ...     ...     ...     ...     ...  \n",
       "6289     0.3     0.0     0.0     0.0     0.0  \n",
       "6290     0.7     0.0     0.0     0.0     0.0  \n",
       "6291     0.6     0.0     0.0     0.0     0.0  \n",
       "6292     0.4     0.1     0.1     0.0     0.0  \n",
       "6293     0.3     0.0     0.0     0.0     0.0  \n",
       "\n",
       "[6294 rows x 14 columns]"
      ]
     },
     "execution_count": 14,
     "metadata": {},
     "output_type": "execute_result"
    }
   ],
   "source": [
    "original['년'] = [int(y) for y in original['년']]\n",
    "original['월'] = [int(d.replace(\"월\",\"\")) for d in original['월']]\n",
    "original"
   ]
  },
  {
   "cell_type": "code",
   "execution_count": 5,
   "id": "590b6512",
   "metadata": {},
   "outputs": [
    {
     "data": {
      "text/plain": [
       "array(['BMW코리아', 'FMK', '메르세데스벤츠코리아', '아우디코리아', '재규어랜드로버코리아',\n",
       "       '포드세일즈서비스코리아', '한국닛산', '한국토요타자동차', '한불모터스', '볼보자동차코리아', '캐딜락코리아',\n",
       "       '혼다코리아', '아우디폭스바겐코리아', '지엠코리아', '지엠아시아퍼시픽지역본부', '포르쉐코리아',\n",
       "       '에프씨에이코리아', 'FCA코리아', '기흥인터내셔널', '더클래스효성', '비워크', '도이치모터스'],\n",
       "      dtype=object)"
      ]
     },
     "execution_count": 5,
     "metadata": {},
     "output_type": "execute_result"
    }
   ],
   "source": [
    "original['Advertiser'].unique()"
   ]
  },
  {
   "cell_type": "code",
   "execution_count": 8,
   "id": "b6b429e2",
   "metadata": {},
   "outputs": [
    {
     "data": {
      "text/html": [
       "<div>\n",
       "<style scoped>\n",
       "    .dataframe tbody tr th:only-of-type {\n",
       "        vertical-align: middle;\n",
       "    }\n",
       "\n",
       "    .dataframe tbody tr th {\n",
       "        vertical-align: top;\n",
       "    }\n",
       "\n",
       "    .dataframe thead th {\n",
       "        text-align: right;\n",
       "    }\n",
       "</style>\n",
       "<table border=\"1\" class=\"dataframe\">\n",
       "  <thead>\n",
       "    <tr style=\"text-align: right;\">\n",
       "      <th></th>\n",
       "      <th>GRP</th>\n",
       "      <th>광고횟수</th>\n",
       "      <th>도달자수</th>\n",
       "      <th>시청자수</th>\n",
       "    </tr>\n",
       "    <tr>\n",
       "      <th>Advertiser</th>\n",
       "      <th></th>\n",
       "      <th></th>\n",
       "      <th></th>\n",
       "      <th></th>\n",
       "    </tr>\n",
       "  </thead>\n",
       "  <tbody>\n",
       "    <tr>\n",
       "      <th>BMW코리아</th>\n",
       "      <td>52573.6</td>\n",
       "      <td>287898.0</td>\n",
       "      <td>9.829090e+08</td>\n",
       "      <td>3.637055e+09</td>\n",
       "    </tr>\n",
       "    <tr>\n",
       "      <th>FCA코리아</th>\n",
       "      <td>9257.0</td>\n",
       "      <td>32268.0</td>\n",
       "      <td>1.476068e+08</td>\n",
       "      <td>6.757251e+08</td>\n",
       "    </tr>\n",
       "    <tr>\n",
       "      <th>FMK</th>\n",
       "      <td>11642.1</td>\n",
       "      <td>168012.0</td>\n",
       "      <td>2.616659e+08</td>\n",
       "      <td>8.032177e+08</td>\n",
       "    </tr>\n",
       "    <tr>\n",
       "      <th>기흥인터내셔널</th>\n",
       "      <td>469.1</td>\n",
       "      <td>108.0</td>\n",
       "      <td>1.138107e+07</td>\n",
       "      <td>3.371542e+07</td>\n",
       "    </tr>\n",
       "    <tr>\n",
       "      <th>더클래스효성</th>\n",
       "      <td>1209.3</td>\n",
       "      <td>4494.0</td>\n",
       "      <td>1.499650e+07</td>\n",
       "      <td>8.085446e+07</td>\n",
       "    </tr>\n",
       "    <tr>\n",
       "      <th>도이치모터스</th>\n",
       "      <td>83.9</td>\n",
       "      <td>30.0</td>\n",
       "      <td>1.927607e+06</td>\n",
       "      <td>6.022322e+06</td>\n",
       "    </tr>\n",
       "    <tr>\n",
       "      <th>메르세데스벤츠코리아</th>\n",
       "      <td>31360.0</td>\n",
       "      <td>71268.0</td>\n",
       "      <td>7.029918e+08</td>\n",
       "      <td>2.230973e+09</td>\n",
       "    </tr>\n",
       "    <tr>\n",
       "      <th>볼보자동차코리아</th>\n",
       "      <td>70174.9</td>\n",
       "      <td>339582.0</td>\n",
       "      <td>9.629041e+08</td>\n",
       "      <td>5.020345e+09</td>\n",
       "    </tr>\n",
       "    <tr>\n",
       "      <th>비워크</th>\n",
       "      <td>38.1</td>\n",
       "      <td>660.0</td>\n",
       "      <td>1.706712e+06</td>\n",
       "      <td>2.702507e+06</td>\n",
       "    </tr>\n",
       "    <tr>\n",
       "      <th>아우디코리아</th>\n",
       "      <td>41375.5</td>\n",
       "      <td>137790.0</td>\n",
       "      <td>7.986421e+08</td>\n",
       "      <td>2.908083e+09</td>\n",
       "    </tr>\n",
       "    <tr>\n",
       "      <th>아우디폭스바겐코리아</th>\n",
       "      <td>34919.5</td>\n",
       "      <td>115044.0</td>\n",
       "      <td>5.765579e+08</td>\n",
       "      <td>2.515130e+09</td>\n",
       "    </tr>\n",
       "    <tr>\n",
       "      <th>에프씨에이코리아</th>\n",
       "      <td>29119.4</td>\n",
       "      <td>89934.0</td>\n",
       "      <td>5.176984e+08</td>\n",
       "      <td>2.077563e+09</td>\n",
       "    </tr>\n",
       "    <tr>\n",
       "      <th>재규어랜드로버코리아</th>\n",
       "      <td>46580.8</td>\n",
       "      <td>157062.0</td>\n",
       "      <td>6.549124e+08</td>\n",
       "      <td>3.177229e+09</td>\n",
       "    </tr>\n",
       "    <tr>\n",
       "      <th>지엠아시아퍼시픽지역본부</th>\n",
       "      <td>20960.9</td>\n",
       "      <td>167658.0</td>\n",
       "      <td>5.075826e+08</td>\n",
       "      <td>1.504519e+09</td>\n",
       "    </tr>\n",
       "    <tr>\n",
       "      <th>지엠코리아</th>\n",
       "      <td>12621.2</td>\n",
       "      <td>129858.0</td>\n",
       "      <td>2.642346e+08</td>\n",
       "      <td>8.641510e+08</td>\n",
       "    </tr>\n",
       "    <tr>\n",
       "      <th>캐딜락코리아</th>\n",
       "      <td>17447.1</td>\n",
       "      <td>248430.0</td>\n",
       "      <td>4.330411e+08</td>\n",
       "      <td>1.227905e+09</td>\n",
       "    </tr>\n",
       "    <tr>\n",
       "      <th>포드세일즈서비스코리아</th>\n",
       "      <td>46082.9</td>\n",
       "      <td>250560.0</td>\n",
       "      <td>6.884788e+08</td>\n",
       "      <td>3.195267e+09</td>\n",
       "    </tr>\n",
       "    <tr>\n",
       "      <th>포르쉐코리아</th>\n",
       "      <td>1671.1</td>\n",
       "      <td>3498.0</td>\n",
       "      <td>3.698392e+07</td>\n",
       "      <td>1.173963e+08</td>\n",
       "    </tr>\n",
       "    <tr>\n",
       "      <th>한국닛산</th>\n",
       "      <td>21125.4</td>\n",
       "      <td>134592.0</td>\n",
       "      <td>2.698894e+08</td>\n",
       "      <td>1.512680e+09</td>\n",
       "    </tr>\n",
       "    <tr>\n",
       "      <th>한국토요타자동차</th>\n",
       "      <td>98713.5</td>\n",
       "      <td>763236.0</td>\n",
       "      <td>1.969809e+09</td>\n",
       "      <td>6.842467e+09</td>\n",
       "    </tr>\n",
       "    <tr>\n",
       "      <th>한불모터스</th>\n",
       "      <td>15084.5</td>\n",
       "      <td>141852.0</td>\n",
       "      <td>4.492074e+08</td>\n",
       "      <td>1.033017e+09</td>\n",
       "    </tr>\n",
       "    <tr>\n",
       "      <th>혼다코리아</th>\n",
       "      <td>13858.3</td>\n",
       "      <td>78600.0</td>\n",
       "      <td>4.215795e+08</td>\n",
       "      <td>9.973505e+08</td>\n",
       "    </tr>\n",
       "  </tbody>\n",
       "</table>\n",
       "</div>"
      ],
      "text/plain": [
       "                  GRP      광고횟수          도달자수          시청자수\n",
       "Advertiser                                                 \n",
       "BMW코리아        52573.6  287898.0  9.829090e+08  3.637055e+09\n",
       "FCA코리아         9257.0   32268.0  1.476068e+08  6.757251e+08\n",
       "FMK           11642.1  168012.0  2.616659e+08  8.032177e+08\n",
       "기흥인터내셔널         469.1     108.0  1.138107e+07  3.371542e+07\n",
       "더클래스효성         1209.3    4494.0  1.499650e+07  8.085446e+07\n",
       "도이치모터스           83.9      30.0  1.927607e+06  6.022322e+06\n",
       "메르세데스벤츠코리아    31360.0   71268.0  7.029918e+08  2.230973e+09\n",
       "볼보자동차코리아      70174.9  339582.0  9.629041e+08  5.020345e+09\n",
       "비워크              38.1     660.0  1.706712e+06  2.702507e+06\n",
       "아우디코리아        41375.5  137790.0  7.986421e+08  2.908083e+09\n",
       "아우디폭스바겐코리아    34919.5  115044.0  5.765579e+08  2.515130e+09\n",
       "에프씨에이코리아      29119.4   89934.0  5.176984e+08  2.077563e+09\n",
       "재규어랜드로버코리아    46580.8  157062.0  6.549124e+08  3.177229e+09\n",
       "지엠아시아퍼시픽지역본부  20960.9  167658.0  5.075826e+08  1.504519e+09\n",
       "지엠코리아         12621.2  129858.0  2.642346e+08  8.641510e+08\n",
       "캐딜락코리아        17447.1  248430.0  4.330411e+08  1.227905e+09\n",
       "포드세일즈서비스코리아   46082.9  250560.0  6.884788e+08  3.195267e+09\n",
       "포르쉐코리아         1671.1    3498.0  3.698392e+07  1.173963e+08\n",
       "한국닛산          21125.4  134592.0  2.698894e+08  1.512680e+09\n",
       "한국토요타자동차      98713.5  763236.0  1.969809e+09  6.842467e+09\n",
       "한불모터스         15084.5  141852.0  4.492074e+08  1.033017e+09\n",
       "혼다코리아         13858.3   78600.0  4.215795e+08  9.973505e+08"
      ]
     },
     "execution_count": 8,
     "metadata": {},
     "output_type": "execute_result"
    }
   ],
   "source": [
    "br = original[[\"Advertiser\",\"광고횟수\",\"GRP\",\"도달자수\",\"시청자수\"]].copy()\n",
    "br_pivot = pd.pivot_table(br,index=['Advertiser'],\n",
    "                             aggfunc={\"광고횟수\":'sum',\"GRP\":'sum',\"도달자수\":'sum',\"시청자수\":'sum'})\n",
    "br_pivot['도달자수'] = round(br_pivot['도달자수'])\n",
    "br_pivot['시청자수'] = round(br_pivot['시청자수'])\n",
    "br_pivot"
   ]
  },
  {
   "cell_type": "code",
   "execution_count": 38,
   "id": "ca7261b1",
   "metadata": {},
   "outputs": [
    {
     "data": {
      "application/vnd.plotly.v1+json": {
       "config": {
        "plotlyServerURL": "https://plot.ly"
       },
       "data": [
        {
         "hovertemplate": "variable=GRP<br>Advertiser=%{x}<br>value=%{y}<extra></extra>",
         "legendgroup": "GRP",
         "marker": {
          "color": "#636efa",
          "symbol": "circle"
         },
         "mode": "markers",
         "name": "GRP",
         "orientation": "v",
         "showlegend": true,
         "type": "scatter",
         "x": [
          "BMW코리아",
          "FCA코리아",
          "FMK",
          "기흥인터내셔널",
          "더클래스효성",
          "도이치모터스",
          "메르세데스벤츠코리아",
          "볼보자동차코리아",
          "비워크",
          "아우디코리아",
          "아우디폭스바겐코리아",
          "에프씨에이코리아",
          "재규어랜드로버코리아",
          "지엠아시아퍼시픽지역본부",
          "지엠코리아",
          "캐딜락코리아",
          "포드세일즈서비스코리아",
          "포르쉐코리아",
          "한국닛산",
          "한국토요타자동차",
          "한불모터스",
          "혼다코리아"
         ],
         "xaxis": "x",
         "y": [
          52573.60000000004,
          9257,
          11642.100000000002,
          469.09999999999997,
          1209.3,
          83.9,
          31360,
          70174.9,
          38.1,
          41375.50000000001,
          34919.50000000001,
          29119.399999999998,
          46580.8,
          20960.9,
          12621.2,
          17447.100000000002,
          46082.89999999996,
          1671.1000000000001,
          21125.399999999987,
          98713.49999999984,
          15084.499999999993,
          13858.299999999996
         ],
         "yaxis": "y"
        },
        {
         "hovertemplate": "variable=광고횟수<br>Advertiser=%{x}<br>value=%{y}<extra></extra>",
         "legendgroup": "광고횟수",
         "marker": {
          "color": "#EF553B",
          "symbol": "circle"
         },
         "mode": "markers",
         "name": "광고횟수",
         "orientation": "v",
         "showlegend": true,
         "type": "scatter",
         "x": [
          "BMW코리아",
          "FCA코리아",
          "FMK",
          "기흥인터내셔널",
          "더클래스효성",
          "도이치모터스",
          "메르세데스벤츠코리아",
          "볼보자동차코리아",
          "비워크",
          "아우디코리아",
          "아우디폭스바겐코리아",
          "에프씨에이코리아",
          "재규어랜드로버코리아",
          "지엠아시아퍼시픽지역본부",
          "지엠코리아",
          "캐딜락코리아",
          "포드세일즈서비스코리아",
          "포르쉐코리아",
          "한국닛산",
          "한국토요타자동차",
          "한불모터스",
          "혼다코리아"
         ],
         "xaxis": "x",
         "y": [
          287898,
          32268,
          168012,
          108,
          4494,
          30,
          71268,
          339582,
          660,
          137790,
          115044,
          89934,
          157062,
          167658,
          129858,
          248430,
          250560,
          3498,
          134592,
          763236,
          141852,
          78600
         ],
         "yaxis": "y"
        },
        {
         "hovertemplate": "variable=도달자수<br>Advertiser=%{x}<br>value=%{y}<extra></extra>",
         "legendgroup": "도달자수",
         "marker": {
          "color": "#00cc96",
          "symbol": "circle"
         },
         "mode": "markers",
         "name": "도달자수",
         "orientation": "v",
         "showlegend": true,
         "type": "scatter",
         "x": [
          "BMW코리아",
          "FCA코리아",
          "FMK",
          "기흥인터내셔널",
          "더클래스효성",
          "도이치모터스",
          "메르세데스벤츠코리아",
          "볼보자동차코리아",
          "비워크",
          "아우디코리아",
          "아우디폭스바겐코리아",
          "에프씨에이코리아",
          "재규어랜드로버코리아",
          "지엠아시아퍼시픽지역본부",
          "지엠코리아",
          "캐딜락코리아",
          "포드세일즈서비스코리아",
          "포르쉐코리아",
          "한국닛산",
          "한국토요타자동차",
          "한불모터스",
          "혼다코리아"
         ],
         "xaxis": "x",
         "y": [
          982908993,
          147606815,
          261665899,
          11381072,
          14996504,
          1927607,
          702991830,
          962904106,
          1706712,
          798642082,
          576557926,
          517698440,
          654912390,
          507582646,
          264234631,
          433041133,
          688478777,
          36983922,
          269889409,
          1969808970,
          449207365,
          421579453
         ],
         "yaxis": "y"
        },
        {
         "hovertemplate": "variable=시청자수<br>Advertiser=%{x}<br>value=%{y}<extra></extra>",
         "legendgroup": "시청자수",
         "marker": {
          "color": "#ab63fa",
          "symbol": "circle"
         },
         "mode": "markers",
         "name": "시청자수",
         "orientation": "v",
         "showlegend": true,
         "type": "scatter",
         "x": [
          "BMW코리아",
          "FCA코리아",
          "FMK",
          "기흥인터내셔널",
          "더클래스효성",
          "도이치모터스",
          "메르세데스벤츠코리아",
          "볼보자동차코리아",
          "비워크",
          "아우디코리아",
          "아우디폭스바겐코리아",
          "에프씨에이코리아",
          "재규어랜드로버코리아",
          "지엠아시아퍼시픽지역본부",
          "지엠코리아",
          "캐딜락코리아",
          "포드세일즈서비스코리아",
          "포르쉐코리아",
          "한국닛산",
          "한국토요타자동차",
          "한불모터스",
          "혼다코리아"
         ],
         "xaxis": "x",
         "y": [
          3637055454,
          675725057,
          803217689,
          33715417,
          80854464,
          6022322,
          2230972533,
          5020344582,
          2702507,
          2908083417,
          2515129882,
          2077562972,
          3177229296,
          1504519000,
          864150998,
          1227905222,
          3195266801,
          117396276,
          1512679583,
          6842467425,
          1033016795,
          997350485
         ],
         "yaxis": "y"
        }
       ],
       "layout": {
        "legend": {
         "title": {
          "text": "variable"
         },
         "tracegroupgap": 0
        },
        "margin": {
         "t": 60
        },
        "template": {
         "data": {
          "bar": [
           {
            "error_x": {
             "color": "#2a3f5f"
            },
            "error_y": {
             "color": "#2a3f5f"
            },
            "marker": {
             "line": {
              "color": "#E5ECF6",
              "width": 0.5
             }
            },
            "type": "bar"
           }
          ],
          "barpolar": [
           {
            "marker": {
             "line": {
              "color": "#E5ECF6",
              "width": 0.5
             }
            },
            "type": "barpolar"
           }
          ],
          "carpet": [
           {
            "aaxis": {
             "endlinecolor": "#2a3f5f",
             "gridcolor": "white",
             "linecolor": "white",
             "minorgridcolor": "white",
             "startlinecolor": "#2a3f5f"
            },
            "baxis": {
             "endlinecolor": "#2a3f5f",
             "gridcolor": "white",
             "linecolor": "white",
             "minorgridcolor": "white",
             "startlinecolor": "#2a3f5f"
            },
            "type": "carpet"
           }
          ],
          "choropleth": [
           {
            "colorbar": {
             "outlinewidth": 0,
             "ticks": ""
            },
            "type": "choropleth"
           }
          ],
          "contour": [
           {
            "colorbar": {
             "outlinewidth": 0,
             "ticks": ""
            },
            "colorscale": [
             [
              0,
              "#0d0887"
             ],
             [
              0.1111111111111111,
              "#46039f"
             ],
             [
              0.2222222222222222,
              "#7201a8"
             ],
             [
              0.3333333333333333,
              "#9c179e"
             ],
             [
              0.4444444444444444,
              "#bd3786"
             ],
             [
              0.5555555555555556,
              "#d8576b"
             ],
             [
              0.6666666666666666,
              "#ed7953"
             ],
             [
              0.7777777777777778,
              "#fb9f3a"
             ],
             [
              0.8888888888888888,
              "#fdca26"
             ],
             [
              1,
              "#f0f921"
             ]
            ],
            "type": "contour"
           }
          ],
          "contourcarpet": [
           {
            "colorbar": {
             "outlinewidth": 0,
             "ticks": ""
            },
            "type": "contourcarpet"
           }
          ],
          "heatmap": [
           {
            "colorbar": {
             "outlinewidth": 0,
             "ticks": ""
            },
            "colorscale": [
             [
              0,
              "#0d0887"
             ],
             [
              0.1111111111111111,
              "#46039f"
             ],
             [
              0.2222222222222222,
              "#7201a8"
             ],
             [
              0.3333333333333333,
              "#9c179e"
             ],
             [
              0.4444444444444444,
              "#bd3786"
             ],
             [
              0.5555555555555556,
              "#d8576b"
             ],
             [
              0.6666666666666666,
              "#ed7953"
             ],
             [
              0.7777777777777778,
              "#fb9f3a"
             ],
             [
              0.8888888888888888,
              "#fdca26"
             ],
             [
              1,
              "#f0f921"
             ]
            ],
            "type": "heatmap"
           }
          ],
          "heatmapgl": [
           {
            "colorbar": {
             "outlinewidth": 0,
             "ticks": ""
            },
            "colorscale": [
             [
              0,
              "#0d0887"
             ],
             [
              0.1111111111111111,
              "#46039f"
             ],
             [
              0.2222222222222222,
              "#7201a8"
             ],
             [
              0.3333333333333333,
              "#9c179e"
             ],
             [
              0.4444444444444444,
              "#bd3786"
             ],
             [
              0.5555555555555556,
              "#d8576b"
             ],
             [
              0.6666666666666666,
              "#ed7953"
             ],
             [
              0.7777777777777778,
              "#fb9f3a"
             ],
             [
              0.8888888888888888,
              "#fdca26"
             ],
             [
              1,
              "#f0f921"
             ]
            ],
            "type": "heatmapgl"
           }
          ],
          "histogram": [
           {
            "marker": {
             "colorbar": {
              "outlinewidth": 0,
              "ticks": ""
             }
            },
            "type": "histogram"
           }
          ],
          "histogram2d": [
           {
            "colorbar": {
             "outlinewidth": 0,
             "ticks": ""
            },
            "colorscale": [
             [
              0,
              "#0d0887"
             ],
             [
              0.1111111111111111,
              "#46039f"
             ],
             [
              0.2222222222222222,
              "#7201a8"
             ],
             [
              0.3333333333333333,
              "#9c179e"
             ],
             [
              0.4444444444444444,
              "#bd3786"
             ],
             [
              0.5555555555555556,
              "#d8576b"
             ],
             [
              0.6666666666666666,
              "#ed7953"
             ],
             [
              0.7777777777777778,
              "#fb9f3a"
             ],
             [
              0.8888888888888888,
              "#fdca26"
             ],
             [
              1,
              "#f0f921"
             ]
            ],
            "type": "histogram2d"
           }
          ],
          "histogram2dcontour": [
           {
            "colorbar": {
             "outlinewidth": 0,
             "ticks": ""
            },
            "colorscale": [
             [
              0,
              "#0d0887"
             ],
             [
              0.1111111111111111,
              "#46039f"
             ],
             [
              0.2222222222222222,
              "#7201a8"
             ],
             [
              0.3333333333333333,
              "#9c179e"
             ],
             [
              0.4444444444444444,
              "#bd3786"
             ],
             [
              0.5555555555555556,
              "#d8576b"
             ],
             [
              0.6666666666666666,
              "#ed7953"
             ],
             [
              0.7777777777777778,
              "#fb9f3a"
             ],
             [
              0.8888888888888888,
              "#fdca26"
             ],
             [
              1,
              "#f0f921"
             ]
            ],
            "type": "histogram2dcontour"
           }
          ],
          "mesh3d": [
           {
            "colorbar": {
             "outlinewidth": 0,
             "ticks": ""
            },
            "type": "mesh3d"
           }
          ],
          "parcoords": [
           {
            "line": {
             "colorbar": {
              "outlinewidth": 0,
              "ticks": ""
             }
            },
            "type": "parcoords"
           }
          ],
          "pie": [
           {
            "automargin": true,
            "type": "pie"
           }
          ],
          "scatter": [
           {
            "marker": {
             "colorbar": {
              "outlinewidth": 0,
              "ticks": ""
             }
            },
            "type": "scatter"
           }
          ],
          "scatter3d": [
           {
            "line": {
             "colorbar": {
              "outlinewidth": 0,
              "ticks": ""
             }
            },
            "marker": {
             "colorbar": {
              "outlinewidth": 0,
              "ticks": ""
             }
            },
            "type": "scatter3d"
           }
          ],
          "scattercarpet": [
           {
            "marker": {
             "colorbar": {
              "outlinewidth": 0,
              "ticks": ""
             }
            },
            "type": "scattercarpet"
           }
          ],
          "scattergeo": [
           {
            "marker": {
             "colorbar": {
              "outlinewidth": 0,
              "ticks": ""
             }
            },
            "type": "scattergeo"
           }
          ],
          "scattergl": [
           {
            "marker": {
             "colorbar": {
              "outlinewidth": 0,
              "ticks": ""
             }
            },
            "type": "scattergl"
           }
          ],
          "scattermapbox": [
           {
            "marker": {
             "colorbar": {
              "outlinewidth": 0,
              "ticks": ""
             }
            },
            "type": "scattermapbox"
           }
          ],
          "scatterpolar": [
           {
            "marker": {
             "colorbar": {
              "outlinewidth": 0,
              "ticks": ""
             }
            },
            "type": "scatterpolar"
           }
          ],
          "scatterpolargl": [
           {
            "marker": {
             "colorbar": {
              "outlinewidth": 0,
              "ticks": ""
             }
            },
            "type": "scatterpolargl"
           }
          ],
          "scatterternary": [
           {
            "marker": {
             "colorbar": {
              "outlinewidth": 0,
              "ticks": ""
             }
            },
            "type": "scatterternary"
           }
          ],
          "surface": [
           {
            "colorbar": {
             "outlinewidth": 0,
             "ticks": ""
            },
            "colorscale": [
             [
              0,
              "#0d0887"
             ],
             [
              0.1111111111111111,
              "#46039f"
             ],
             [
              0.2222222222222222,
              "#7201a8"
             ],
             [
              0.3333333333333333,
              "#9c179e"
             ],
             [
              0.4444444444444444,
              "#bd3786"
             ],
             [
              0.5555555555555556,
              "#d8576b"
             ],
             [
              0.6666666666666666,
              "#ed7953"
             ],
             [
              0.7777777777777778,
              "#fb9f3a"
             ],
             [
              0.8888888888888888,
              "#fdca26"
             ],
             [
              1,
              "#f0f921"
             ]
            ],
            "type": "surface"
           }
          ],
          "table": [
           {
            "cells": {
             "fill": {
              "color": "#EBF0F8"
             },
             "line": {
              "color": "white"
             }
            },
            "header": {
             "fill": {
              "color": "#C8D4E3"
             },
             "line": {
              "color": "white"
             }
            },
            "type": "table"
           }
          ]
         },
         "layout": {
          "annotationdefaults": {
           "arrowcolor": "#2a3f5f",
           "arrowhead": 0,
           "arrowwidth": 1
          },
          "autotypenumbers": "strict",
          "coloraxis": {
           "colorbar": {
            "outlinewidth": 0,
            "ticks": ""
           }
          },
          "colorscale": {
           "diverging": [
            [
             0,
             "#8e0152"
            ],
            [
             0.1,
             "#c51b7d"
            ],
            [
             0.2,
             "#de77ae"
            ],
            [
             0.3,
             "#f1b6da"
            ],
            [
             0.4,
             "#fde0ef"
            ],
            [
             0.5,
             "#f7f7f7"
            ],
            [
             0.6,
             "#e6f5d0"
            ],
            [
             0.7,
             "#b8e186"
            ],
            [
             0.8,
             "#7fbc41"
            ],
            [
             0.9,
             "#4d9221"
            ],
            [
             1,
             "#276419"
            ]
           ],
           "sequential": [
            [
             0,
             "#0d0887"
            ],
            [
             0.1111111111111111,
             "#46039f"
            ],
            [
             0.2222222222222222,
             "#7201a8"
            ],
            [
             0.3333333333333333,
             "#9c179e"
            ],
            [
             0.4444444444444444,
             "#bd3786"
            ],
            [
             0.5555555555555556,
             "#d8576b"
            ],
            [
             0.6666666666666666,
             "#ed7953"
            ],
            [
             0.7777777777777778,
             "#fb9f3a"
            ],
            [
             0.8888888888888888,
             "#fdca26"
            ],
            [
             1,
             "#f0f921"
            ]
           ],
           "sequentialminus": [
            [
             0,
             "#0d0887"
            ],
            [
             0.1111111111111111,
             "#46039f"
            ],
            [
             0.2222222222222222,
             "#7201a8"
            ],
            [
             0.3333333333333333,
             "#9c179e"
            ],
            [
             0.4444444444444444,
             "#bd3786"
            ],
            [
             0.5555555555555556,
             "#d8576b"
            ],
            [
             0.6666666666666666,
             "#ed7953"
            ],
            [
             0.7777777777777778,
             "#fb9f3a"
            ],
            [
             0.8888888888888888,
             "#fdca26"
            ],
            [
             1,
             "#f0f921"
            ]
           ]
          },
          "colorway": [
           "#636efa",
           "#EF553B",
           "#00cc96",
           "#ab63fa",
           "#FFA15A",
           "#19d3f3",
           "#FF6692",
           "#B6E880",
           "#FF97FF",
           "#FECB52"
          ],
          "font": {
           "color": "#2a3f5f"
          },
          "geo": {
           "bgcolor": "white",
           "lakecolor": "white",
           "landcolor": "#E5ECF6",
           "showlakes": true,
           "showland": true,
           "subunitcolor": "white"
          },
          "hoverlabel": {
           "align": "left"
          },
          "hovermode": "closest",
          "mapbox": {
           "style": "light"
          },
          "paper_bgcolor": "white",
          "plot_bgcolor": "#E5ECF6",
          "polar": {
           "angularaxis": {
            "gridcolor": "white",
            "linecolor": "white",
            "ticks": ""
           },
           "bgcolor": "#E5ECF6",
           "radialaxis": {
            "gridcolor": "white",
            "linecolor": "white",
            "ticks": ""
           }
          },
          "scene": {
           "xaxis": {
            "backgroundcolor": "#E5ECF6",
            "gridcolor": "white",
            "gridwidth": 2,
            "linecolor": "white",
            "showbackground": true,
            "ticks": "",
            "zerolinecolor": "white"
           },
           "yaxis": {
            "backgroundcolor": "#E5ECF6",
            "gridcolor": "white",
            "gridwidth": 2,
            "linecolor": "white",
            "showbackground": true,
            "ticks": "",
            "zerolinecolor": "white"
           },
           "zaxis": {
            "backgroundcolor": "#E5ECF6",
            "gridcolor": "white",
            "gridwidth": 2,
            "linecolor": "white",
            "showbackground": true,
            "ticks": "",
            "zerolinecolor": "white"
           }
          },
          "shapedefaults": {
           "line": {
            "color": "#2a3f5f"
           }
          },
          "ternary": {
           "aaxis": {
            "gridcolor": "white",
            "linecolor": "white",
            "ticks": ""
           },
           "baxis": {
            "gridcolor": "white",
            "linecolor": "white",
            "ticks": ""
           },
           "bgcolor": "#E5ECF6",
           "caxis": {
            "gridcolor": "white",
            "linecolor": "white",
            "ticks": ""
           }
          },
          "title": {
           "x": 0.05
          },
          "xaxis": {
           "automargin": true,
           "gridcolor": "white",
           "linecolor": "white",
           "ticks": "",
           "title": {
            "standoff": 15
           },
           "zerolinecolor": "white",
           "zerolinewidth": 2
          },
          "yaxis": {
           "automargin": true,
           "gridcolor": "white",
           "linecolor": "white",
           "ticks": "",
           "title": {
            "standoff": 15
           },
           "zerolinecolor": "white",
           "zerolinewidth": 2
          }
         }
        },
        "xaxis": {
         "anchor": "y",
         "domain": [
          0,
          1
         ],
         "title": {
          "text": "Advertiser"
         }
        },
        "yaxis": {
         "anchor": "x",
         "domain": [
          0,
          1
         ],
         "title": {
          "text": "value"
         }
        }
       }
      },
      "text/html": [
       "<div>                            <div id=\"c40a7dc9-1b57-4e6c-a02e-1c10d2b6a9a1\" class=\"plotly-graph-div\" style=\"height:525px; width:100%;\"></div>            <script type=\"text/javascript\">                require([\"plotly\"], function(Plotly) {                    window.PLOTLYENV=window.PLOTLYENV || {};                                    if (document.getElementById(\"c40a7dc9-1b57-4e6c-a02e-1c10d2b6a9a1\")) {                    Plotly.newPlot(                        \"c40a7dc9-1b57-4e6c-a02e-1c10d2b6a9a1\",                        [{\"hovertemplate\": \"variable=GRP<br>Advertiser=%{x}<br>value=%{y}<extra></extra>\", \"legendgroup\": \"GRP\", \"marker\": {\"color\": \"#636efa\", \"symbol\": \"circle\"}, \"mode\": \"markers\", \"name\": \"GRP\", \"orientation\": \"v\", \"showlegend\": true, \"type\": \"scatter\", \"x\": [\"BMW\\ucf54\\ub9ac\\uc544\", \"FCA\\ucf54\\ub9ac\\uc544\", \"FMK\", \"\\uae30\\ud765\\uc778\\ud130\\ub0b4\\uc154\\ub110\", \"\\ub354\\ud074\\ub798\\uc2a4\\ud6a8\\uc131\", \"\\ub3c4\\uc774\\uce58\\ubaa8\\ud130\\uc2a4\", \"\\uba54\\ub974\\uc138\\ub370\\uc2a4\\ubca4\\uce20\\ucf54\\ub9ac\\uc544\", \"\\ubcfc\\ubcf4\\uc790\\ub3d9\\ucc28\\ucf54\\ub9ac\\uc544\", \"\\ube44\\uc6cc\\ud06c\", \"\\uc544\\uc6b0\\ub514\\ucf54\\ub9ac\\uc544\", \"\\uc544\\uc6b0\\ub514\\ud3ed\\uc2a4\\ubc14\\uac90\\ucf54\\ub9ac\\uc544\", \"\\uc5d0\\ud504\\uc528\\uc5d0\\uc774\\ucf54\\ub9ac\\uc544\", \"\\uc7ac\\uaddc\\uc5b4\\ub79c\\ub4dc\\ub85c\\ubc84\\ucf54\\ub9ac\\uc544\", \"\\uc9c0\\uc5e0\\uc544\\uc2dc\\uc544\\ud37c\\uc2dc\\ud53d\\uc9c0\\uc5ed\\ubcf8\\ubd80\", \"\\uc9c0\\uc5e0\\ucf54\\ub9ac\\uc544\", \"\\uce90\\ub51c\\ub77d\\ucf54\\ub9ac\\uc544\", \"\\ud3ec\\ub4dc\\uc138\\uc77c\\uc988\\uc11c\\ube44\\uc2a4\\ucf54\\ub9ac\\uc544\", \"\\ud3ec\\ub974\\uc250\\ucf54\\ub9ac\\uc544\", \"\\ud55c\\uad6d\\ub2db\\uc0b0\", \"\\ud55c\\uad6d\\ud1a0\\uc694\\ud0c0\\uc790\\ub3d9\\ucc28\", \"\\ud55c\\ubd88\\ubaa8\\ud130\\uc2a4\", \"\\ud63c\\ub2e4\\ucf54\\ub9ac\\uc544\"], \"xaxis\": \"x\", \"y\": [52573.60000000004, 9257.0, 11642.100000000002, 469.09999999999997, 1209.3, 83.9, 31360.0, 70174.9, 38.1, 41375.50000000001, 34919.50000000001, 29119.399999999998, 46580.8, 20960.9, 12621.2, 17447.100000000002, 46082.89999999996, 1671.1000000000001, 21125.399999999987, 98713.49999999984, 15084.499999999993, 13858.299999999996], \"yaxis\": \"y\"}, {\"hovertemplate\": \"variable=\\uad11\\uace0\\ud69f\\uc218<br>Advertiser=%{x}<br>value=%{y}<extra></extra>\", \"legendgroup\": \"\\uad11\\uace0\\ud69f\\uc218\", \"marker\": {\"color\": \"#EF553B\", \"symbol\": \"circle\"}, \"mode\": \"markers\", \"name\": \"\\uad11\\uace0\\ud69f\\uc218\", \"orientation\": \"v\", \"showlegend\": true, \"type\": \"scatter\", \"x\": [\"BMW\\ucf54\\ub9ac\\uc544\", \"FCA\\ucf54\\ub9ac\\uc544\", \"FMK\", \"\\uae30\\ud765\\uc778\\ud130\\ub0b4\\uc154\\ub110\", \"\\ub354\\ud074\\ub798\\uc2a4\\ud6a8\\uc131\", \"\\ub3c4\\uc774\\uce58\\ubaa8\\ud130\\uc2a4\", \"\\uba54\\ub974\\uc138\\ub370\\uc2a4\\ubca4\\uce20\\ucf54\\ub9ac\\uc544\", \"\\ubcfc\\ubcf4\\uc790\\ub3d9\\ucc28\\ucf54\\ub9ac\\uc544\", \"\\ube44\\uc6cc\\ud06c\", \"\\uc544\\uc6b0\\ub514\\ucf54\\ub9ac\\uc544\", \"\\uc544\\uc6b0\\ub514\\ud3ed\\uc2a4\\ubc14\\uac90\\ucf54\\ub9ac\\uc544\", \"\\uc5d0\\ud504\\uc528\\uc5d0\\uc774\\ucf54\\ub9ac\\uc544\", \"\\uc7ac\\uaddc\\uc5b4\\ub79c\\ub4dc\\ub85c\\ubc84\\ucf54\\ub9ac\\uc544\", \"\\uc9c0\\uc5e0\\uc544\\uc2dc\\uc544\\ud37c\\uc2dc\\ud53d\\uc9c0\\uc5ed\\ubcf8\\ubd80\", \"\\uc9c0\\uc5e0\\ucf54\\ub9ac\\uc544\", \"\\uce90\\ub51c\\ub77d\\ucf54\\ub9ac\\uc544\", \"\\ud3ec\\ub4dc\\uc138\\uc77c\\uc988\\uc11c\\ube44\\uc2a4\\ucf54\\ub9ac\\uc544\", \"\\ud3ec\\ub974\\uc250\\ucf54\\ub9ac\\uc544\", \"\\ud55c\\uad6d\\ub2db\\uc0b0\", \"\\ud55c\\uad6d\\ud1a0\\uc694\\ud0c0\\uc790\\ub3d9\\ucc28\", \"\\ud55c\\ubd88\\ubaa8\\ud130\\uc2a4\", \"\\ud63c\\ub2e4\\ucf54\\ub9ac\\uc544\"], \"xaxis\": \"x\", \"y\": [287898.0, 32268.0, 168012.0, 108.0, 4494.0, 30.0, 71268.0, 339582.0, 660.0, 137790.0, 115044.0, 89934.0, 157062.0, 167658.0, 129858.0, 248430.0, 250560.0, 3498.0, 134592.0, 763236.0, 141852.0, 78600.0], \"yaxis\": \"y\"}, {\"hovertemplate\": \"variable=\\ub3c4\\ub2ec\\uc790\\uc218<br>Advertiser=%{x}<br>value=%{y}<extra></extra>\", \"legendgroup\": \"\\ub3c4\\ub2ec\\uc790\\uc218\", \"marker\": {\"color\": \"#00cc96\", \"symbol\": \"circle\"}, \"mode\": \"markers\", \"name\": \"\\ub3c4\\ub2ec\\uc790\\uc218\", \"orientation\": \"v\", \"showlegend\": true, \"type\": \"scatter\", \"x\": [\"BMW\\ucf54\\ub9ac\\uc544\", \"FCA\\ucf54\\ub9ac\\uc544\", \"FMK\", \"\\uae30\\ud765\\uc778\\ud130\\ub0b4\\uc154\\ub110\", \"\\ub354\\ud074\\ub798\\uc2a4\\ud6a8\\uc131\", \"\\ub3c4\\uc774\\uce58\\ubaa8\\ud130\\uc2a4\", \"\\uba54\\ub974\\uc138\\ub370\\uc2a4\\ubca4\\uce20\\ucf54\\ub9ac\\uc544\", \"\\ubcfc\\ubcf4\\uc790\\ub3d9\\ucc28\\ucf54\\ub9ac\\uc544\", \"\\ube44\\uc6cc\\ud06c\", \"\\uc544\\uc6b0\\ub514\\ucf54\\ub9ac\\uc544\", \"\\uc544\\uc6b0\\ub514\\ud3ed\\uc2a4\\ubc14\\uac90\\ucf54\\ub9ac\\uc544\", \"\\uc5d0\\ud504\\uc528\\uc5d0\\uc774\\ucf54\\ub9ac\\uc544\", \"\\uc7ac\\uaddc\\uc5b4\\ub79c\\ub4dc\\ub85c\\ubc84\\ucf54\\ub9ac\\uc544\", \"\\uc9c0\\uc5e0\\uc544\\uc2dc\\uc544\\ud37c\\uc2dc\\ud53d\\uc9c0\\uc5ed\\ubcf8\\ubd80\", \"\\uc9c0\\uc5e0\\ucf54\\ub9ac\\uc544\", \"\\uce90\\ub51c\\ub77d\\ucf54\\ub9ac\\uc544\", \"\\ud3ec\\ub4dc\\uc138\\uc77c\\uc988\\uc11c\\ube44\\uc2a4\\ucf54\\ub9ac\\uc544\", \"\\ud3ec\\ub974\\uc250\\ucf54\\ub9ac\\uc544\", \"\\ud55c\\uad6d\\ub2db\\uc0b0\", \"\\ud55c\\uad6d\\ud1a0\\uc694\\ud0c0\\uc790\\ub3d9\\ucc28\", \"\\ud55c\\ubd88\\ubaa8\\ud130\\uc2a4\", \"\\ud63c\\ub2e4\\ucf54\\ub9ac\\uc544\"], \"xaxis\": \"x\", \"y\": [982908993.0, 147606815.0, 261665899.0, 11381072.0, 14996504.0, 1927607.0, 702991830.0, 962904106.0, 1706712.0, 798642082.0, 576557926.0, 517698440.0, 654912390.0, 507582646.0, 264234631.0, 433041133.0, 688478777.0, 36983922.0, 269889409.0, 1969808970.0, 449207365.0, 421579453.0], \"yaxis\": \"y\"}, {\"hovertemplate\": \"variable=\\uc2dc\\uccad\\uc790\\uc218<br>Advertiser=%{x}<br>value=%{y}<extra></extra>\", \"legendgroup\": \"\\uc2dc\\uccad\\uc790\\uc218\", \"marker\": {\"color\": \"#ab63fa\", \"symbol\": \"circle\"}, \"mode\": \"markers\", \"name\": \"\\uc2dc\\uccad\\uc790\\uc218\", \"orientation\": \"v\", \"showlegend\": true, \"type\": \"scatter\", \"x\": [\"BMW\\ucf54\\ub9ac\\uc544\", \"FCA\\ucf54\\ub9ac\\uc544\", \"FMK\", \"\\uae30\\ud765\\uc778\\ud130\\ub0b4\\uc154\\ub110\", \"\\ub354\\ud074\\ub798\\uc2a4\\ud6a8\\uc131\", \"\\ub3c4\\uc774\\uce58\\ubaa8\\ud130\\uc2a4\", \"\\uba54\\ub974\\uc138\\ub370\\uc2a4\\ubca4\\uce20\\ucf54\\ub9ac\\uc544\", \"\\ubcfc\\ubcf4\\uc790\\ub3d9\\ucc28\\ucf54\\ub9ac\\uc544\", \"\\ube44\\uc6cc\\ud06c\", \"\\uc544\\uc6b0\\ub514\\ucf54\\ub9ac\\uc544\", \"\\uc544\\uc6b0\\ub514\\ud3ed\\uc2a4\\ubc14\\uac90\\ucf54\\ub9ac\\uc544\", \"\\uc5d0\\ud504\\uc528\\uc5d0\\uc774\\ucf54\\ub9ac\\uc544\", \"\\uc7ac\\uaddc\\uc5b4\\ub79c\\ub4dc\\ub85c\\ubc84\\ucf54\\ub9ac\\uc544\", \"\\uc9c0\\uc5e0\\uc544\\uc2dc\\uc544\\ud37c\\uc2dc\\ud53d\\uc9c0\\uc5ed\\ubcf8\\ubd80\", \"\\uc9c0\\uc5e0\\ucf54\\ub9ac\\uc544\", \"\\uce90\\ub51c\\ub77d\\ucf54\\ub9ac\\uc544\", \"\\ud3ec\\ub4dc\\uc138\\uc77c\\uc988\\uc11c\\ube44\\uc2a4\\ucf54\\ub9ac\\uc544\", \"\\ud3ec\\ub974\\uc250\\ucf54\\ub9ac\\uc544\", \"\\ud55c\\uad6d\\ub2db\\uc0b0\", \"\\ud55c\\uad6d\\ud1a0\\uc694\\ud0c0\\uc790\\ub3d9\\ucc28\", \"\\ud55c\\ubd88\\ubaa8\\ud130\\uc2a4\", \"\\ud63c\\ub2e4\\ucf54\\ub9ac\\uc544\"], \"xaxis\": \"x\", \"y\": [3637055454.0, 675725057.0, 803217689.0, 33715417.0, 80854464.0, 6022322.0, 2230972533.0, 5020344582.0, 2702507.0, 2908083417.0, 2515129882.0, 2077562972.0, 3177229296.0, 1504519000.0, 864150998.0, 1227905222.0, 3195266801.0, 117396276.0, 1512679583.0, 6842467425.0, 1033016795.0, 997350485.0], \"yaxis\": \"y\"}],                        {\"legend\": {\"title\": {\"text\": \"variable\"}, \"tracegroupgap\": 0}, \"margin\": {\"t\": 60}, \"template\": {\"data\": {\"bar\": [{\"error_x\": {\"color\": \"#2a3f5f\"}, \"error_y\": {\"color\": \"#2a3f5f\"}, \"marker\": {\"line\": {\"color\": \"#E5ECF6\", \"width\": 0.5}}, \"type\": \"bar\"}], \"barpolar\": [{\"marker\": {\"line\": {\"color\": \"#E5ECF6\", \"width\": 0.5}}, \"type\": \"barpolar\"}], \"carpet\": [{\"aaxis\": {\"endlinecolor\": \"#2a3f5f\", \"gridcolor\": \"white\", \"linecolor\": \"white\", \"minorgridcolor\": \"white\", \"startlinecolor\": \"#2a3f5f\"}, \"baxis\": {\"endlinecolor\": \"#2a3f5f\", \"gridcolor\": \"white\", \"linecolor\": \"white\", \"minorgridcolor\": \"white\", \"startlinecolor\": \"#2a3f5f\"}, \"type\": \"carpet\"}], \"choropleth\": [{\"colorbar\": {\"outlinewidth\": 0, \"ticks\": \"\"}, \"type\": \"choropleth\"}], \"contour\": [{\"colorbar\": {\"outlinewidth\": 0, \"ticks\": \"\"}, \"colorscale\": [[0.0, \"#0d0887\"], [0.1111111111111111, \"#46039f\"], [0.2222222222222222, \"#7201a8\"], [0.3333333333333333, \"#9c179e\"], [0.4444444444444444, \"#bd3786\"], [0.5555555555555556, \"#d8576b\"], [0.6666666666666666, \"#ed7953\"], [0.7777777777777778, \"#fb9f3a\"], [0.8888888888888888, \"#fdca26\"], [1.0, \"#f0f921\"]], \"type\": \"contour\"}], \"contourcarpet\": [{\"colorbar\": {\"outlinewidth\": 0, \"ticks\": \"\"}, \"type\": \"contourcarpet\"}], \"heatmap\": [{\"colorbar\": {\"outlinewidth\": 0, \"ticks\": \"\"}, \"colorscale\": [[0.0, \"#0d0887\"], [0.1111111111111111, \"#46039f\"], [0.2222222222222222, \"#7201a8\"], [0.3333333333333333, \"#9c179e\"], [0.4444444444444444, \"#bd3786\"], [0.5555555555555556, \"#d8576b\"], [0.6666666666666666, \"#ed7953\"], [0.7777777777777778, \"#fb9f3a\"], [0.8888888888888888, \"#fdca26\"], [1.0, \"#f0f921\"]], \"type\": \"heatmap\"}], \"heatmapgl\": [{\"colorbar\": {\"outlinewidth\": 0, \"ticks\": \"\"}, \"colorscale\": [[0.0, \"#0d0887\"], [0.1111111111111111, \"#46039f\"], [0.2222222222222222, \"#7201a8\"], [0.3333333333333333, \"#9c179e\"], [0.4444444444444444, \"#bd3786\"], [0.5555555555555556, \"#d8576b\"], [0.6666666666666666, \"#ed7953\"], [0.7777777777777778, \"#fb9f3a\"], [0.8888888888888888, \"#fdca26\"], [1.0, \"#f0f921\"]], \"type\": \"heatmapgl\"}], \"histogram\": [{\"marker\": {\"colorbar\": {\"outlinewidth\": 0, \"ticks\": \"\"}}, \"type\": \"histogram\"}], \"histogram2d\": [{\"colorbar\": {\"outlinewidth\": 0, \"ticks\": \"\"}, \"colorscale\": [[0.0, \"#0d0887\"], [0.1111111111111111, \"#46039f\"], [0.2222222222222222, \"#7201a8\"], [0.3333333333333333, \"#9c179e\"], [0.4444444444444444, \"#bd3786\"], [0.5555555555555556, \"#d8576b\"], [0.6666666666666666, \"#ed7953\"], [0.7777777777777778, \"#fb9f3a\"], [0.8888888888888888, \"#fdca26\"], [1.0, \"#f0f921\"]], \"type\": \"histogram2d\"}], \"histogram2dcontour\": [{\"colorbar\": {\"outlinewidth\": 0, \"ticks\": \"\"}, \"colorscale\": [[0.0, \"#0d0887\"], [0.1111111111111111, \"#46039f\"], [0.2222222222222222, \"#7201a8\"], [0.3333333333333333, \"#9c179e\"], [0.4444444444444444, \"#bd3786\"], [0.5555555555555556, \"#d8576b\"], [0.6666666666666666, \"#ed7953\"], [0.7777777777777778, \"#fb9f3a\"], [0.8888888888888888, \"#fdca26\"], [1.0, \"#f0f921\"]], \"type\": \"histogram2dcontour\"}], \"mesh3d\": [{\"colorbar\": {\"outlinewidth\": 0, \"ticks\": \"\"}, \"type\": \"mesh3d\"}], \"parcoords\": [{\"line\": {\"colorbar\": {\"outlinewidth\": 0, \"ticks\": \"\"}}, \"type\": \"parcoords\"}], \"pie\": [{\"automargin\": true, \"type\": \"pie\"}], \"scatter\": [{\"marker\": {\"colorbar\": {\"outlinewidth\": 0, \"ticks\": \"\"}}, \"type\": \"scatter\"}], \"scatter3d\": [{\"line\": {\"colorbar\": {\"outlinewidth\": 0, \"ticks\": \"\"}}, \"marker\": {\"colorbar\": {\"outlinewidth\": 0, \"ticks\": \"\"}}, \"type\": \"scatter3d\"}], \"scattercarpet\": [{\"marker\": {\"colorbar\": {\"outlinewidth\": 0, \"ticks\": \"\"}}, \"type\": \"scattercarpet\"}], \"scattergeo\": [{\"marker\": {\"colorbar\": {\"outlinewidth\": 0, \"ticks\": \"\"}}, \"type\": \"scattergeo\"}], \"scattergl\": [{\"marker\": {\"colorbar\": {\"outlinewidth\": 0, \"ticks\": \"\"}}, \"type\": \"scattergl\"}], \"scattermapbox\": [{\"marker\": {\"colorbar\": {\"outlinewidth\": 0, \"ticks\": \"\"}}, \"type\": \"scattermapbox\"}], \"scatterpolar\": [{\"marker\": {\"colorbar\": {\"outlinewidth\": 0, \"ticks\": \"\"}}, \"type\": \"scatterpolar\"}], \"scatterpolargl\": [{\"marker\": {\"colorbar\": {\"outlinewidth\": 0, \"ticks\": \"\"}}, \"type\": \"scatterpolargl\"}], \"scatterternary\": [{\"marker\": {\"colorbar\": {\"outlinewidth\": 0, \"ticks\": \"\"}}, \"type\": \"scatterternary\"}], \"surface\": [{\"colorbar\": {\"outlinewidth\": 0, \"ticks\": \"\"}, \"colorscale\": [[0.0, \"#0d0887\"], [0.1111111111111111, \"#46039f\"], [0.2222222222222222, \"#7201a8\"], [0.3333333333333333, \"#9c179e\"], [0.4444444444444444, \"#bd3786\"], [0.5555555555555556, \"#d8576b\"], [0.6666666666666666, \"#ed7953\"], [0.7777777777777778, \"#fb9f3a\"], [0.8888888888888888, \"#fdca26\"], [1.0, \"#f0f921\"]], \"type\": \"surface\"}], \"table\": [{\"cells\": {\"fill\": {\"color\": \"#EBF0F8\"}, \"line\": {\"color\": \"white\"}}, \"header\": {\"fill\": {\"color\": \"#C8D4E3\"}, \"line\": {\"color\": \"white\"}}, \"type\": \"table\"}]}, \"layout\": {\"annotationdefaults\": {\"arrowcolor\": \"#2a3f5f\", \"arrowhead\": 0, \"arrowwidth\": 1}, \"autotypenumbers\": \"strict\", \"coloraxis\": {\"colorbar\": {\"outlinewidth\": 0, \"ticks\": \"\"}}, \"colorscale\": {\"diverging\": [[0, \"#8e0152\"], [0.1, \"#c51b7d\"], [0.2, \"#de77ae\"], [0.3, \"#f1b6da\"], [0.4, \"#fde0ef\"], [0.5, \"#f7f7f7\"], [0.6, \"#e6f5d0\"], [0.7, \"#b8e186\"], [0.8, \"#7fbc41\"], [0.9, \"#4d9221\"], [1, \"#276419\"]], \"sequential\": [[0.0, \"#0d0887\"], [0.1111111111111111, \"#46039f\"], [0.2222222222222222, \"#7201a8\"], [0.3333333333333333, \"#9c179e\"], [0.4444444444444444, \"#bd3786\"], [0.5555555555555556, \"#d8576b\"], [0.6666666666666666, \"#ed7953\"], [0.7777777777777778, \"#fb9f3a\"], [0.8888888888888888, \"#fdca26\"], [1.0, \"#f0f921\"]], \"sequentialminus\": [[0.0, \"#0d0887\"], [0.1111111111111111, \"#46039f\"], [0.2222222222222222, \"#7201a8\"], [0.3333333333333333, \"#9c179e\"], [0.4444444444444444, \"#bd3786\"], [0.5555555555555556, \"#d8576b\"], [0.6666666666666666, \"#ed7953\"], [0.7777777777777778, \"#fb9f3a\"], [0.8888888888888888, \"#fdca26\"], [1.0, \"#f0f921\"]]}, \"colorway\": [\"#636efa\", \"#EF553B\", \"#00cc96\", \"#ab63fa\", \"#FFA15A\", \"#19d3f3\", \"#FF6692\", \"#B6E880\", \"#FF97FF\", \"#FECB52\"], \"font\": {\"color\": \"#2a3f5f\"}, \"geo\": {\"bgcolor\": \"white\", \"lakecolor\": \"white\", \"landcolor\": \"#E5ECF6\", \"showlakes\": true, \"showland\": true, \"subunitcolor\": \"white\"}, \"hoverlabel\": {\"align\": \"left\"}, \"hovermode\": \"closest\", \"mapbox\": {\"style\": \"light\"}, \"paper_bgcolor\": \"white\", \"plot_bgcolor\": \"#E5ECF6\", \"polar\": {\"angularaxis\": {\"gridcolor\": \"white\", \"linecolor\": \"white\", \"ticks\": \"\"}, \"bgcolor\": \"#E5ECF6\", \"radialaxis\": {\"gridcolor\": \"white\", \"linecolor\": \"white\", \"ticks\": \"\"}}, \"scene\": {\"xaxis\": {\"backgroundcolor\": \"#E5ECF6\", \"gridcolor\": \"white\", \"gridwidth\": 2, \"linecolor\": \"white\", \"showbackground\": true, \"ticks\": \"\", \"zerolinecolor\": \"white\"}, \"yaxis\": {\"backgroundcolor\": \"#E5ECF6\", \"gridcolor\": \"white\", \"gridwidth\": 2, \"linecolor\": \"white\", \"showbackground\": true, \"ticks\": \"\", \"zerolinecolor\": \"white\"}, \"zaxis\": {\"backgroundcolor\": \"#E5ECF6\", \"gridcolor\": \"white\", \"gridwidth\": 2, \"linecolor\": \"white\", \"showbackground\": true, \"ticks\": \"\", \"zerolinecolor\": \"white\"}}, \"shapedefaults\": {\"line\": {\"color\": \"#2a3f5f\"}}, \"ternary\": {\"aaxis\": {\"gridcolor\": \"white\", \"linecolor\": \"white\", \"ticks\": \"\"}, \"baxis\": {\"gridcolor\": \"white\", \"linecolor\": \"white\", \"ticks\": \"\"}, \"bgcolor\": \"#E5ECF6\", \"caxis\": {\"gridcolor\": \"white\", \"linecolor\": \"white\", \"ticks\": \"\"}}, \"title\": {\"x\": 0.05}, \"xaxis\": {\"automargin\": true, \"gridcolor\": \"white\", \"linecolor\": \"white\", \"ticks\": \"\", \"title\": {\"standoff\": 15}, \"zerolinecolor\": \"white\", \"zerolinewidth\": 2}, \"yaxis\": {\"automargin\": true, \"gridcolor\": \"white\", \"linecolor\": \"white\", \"ticks\": \"\", \"title\": {\"standoff\": 15}, \"zerolinecolor\": \"white\", \"zerolinewidth\": 2}}}, \"xaxis\": {\"anchor\": \"y\", \"domain\": [0.0, 1.0], \"title\": {\"text\": \"Advertiser\"}}, \"yaxis\": {\"anchor\": \"x\", \"domain\": [0.0, 1.0], \"title\": {\"text\": \"value\"}}},                        {\"responsive\": true}                    ).then(function(){\n",
       "                            \n",
       "var gd = document.getElementById('c40a7dc9-1b57-4e6c-a02e-1c10d2b6a9a1');\n",
       "var x = new MutationObserver(function (mutations, observer) {{\n",
       "        var display = window.getComputedStyle(gd).display;\n",
       "        if (!display || display === 'none') {{\n",
       "            console.log([gd, 'removed!']);\n",
       "            Plotly.purge(gd);\n",
       "            observer.disconnect();\n",
       "        }}\n",
       "}});\n",
       "\n",
       "// Listen for the removal of the full notebook cells\n",
       "var notebookContainer = gd.closest('#notebook-container');\n",
       "if (notebookContainer) {{\n",
       "    x.observe(notebookContainer, {childList: true});\n",
       "}}\n",
       "\n",
       "// Listen for the clearing of the current output cell\n",
       "var outputEl = gd.closest('.output');\n",
       "if (outputEl) {{\n",
       "    x.observe(outputEl, {childList: true});\n",
       "}}\n",
       "\n",
       "                        })                };                });            </script>        </div>"
      ]
     },
     "metadata": {},
     "output_type": "display_data"
    }
   ],
   "source": [
    "import plotly.express as px\n",
    "from sklearn.preprocessing import minmax_scale\n",
    "minmax_scale(br_pivot)\n",
    "px.scatter(br_pivot)"
   ]
  },
  {
   "cell_type": "code",
   "execution_count": 10,
   "id": "9da01105",
   "metadata": {
    "scrolled": false
   },
   "outputs": [
    {
     "data": {
      "application/vnd.plotly.v1+json": {
       "config": {
        "plotlyServerURL": "https://plot.ly"
       },
       "data": [
        {
         "hovertemplate": "Advertiser=BMW코리아<br>시청자수=%{x}<br>도달자수=%{y}<br>광고횟수=%{marker.size}<extra></extra>",
         "legendgroup": "BMW코리아",
         "marker": {
          "color": "#636efa",
          "size": [
           287898
          ],
          "sizemode": "area",
          "sizeref": 1908.09,
          "symbol": "circle"
         },
         "mode": "markers",
         "name": "BMW코리아",
         "orientation": "v",
         "showlegend": true,
         "type": "scatter",
         "x": [
          3637055454
         ],
         "xaxis": "x",
         "y": [
          982908993
         ],
         "yaxis": "y"
        },
        {
         "hovertemplate": "Advertiser=FCA코리아<br>시청자수=%{x}<br>도달자수=%{y}<br>광고횟수=%{marker.size}<extra></extra>",
         "legendgroup": "FCA코리아",
         "marker": {
          "color": "#EF553B",
          "size": [
           32268
          ],
          "sizemode": "area",
          "sizeref": 1908.09,
          "symbol": "circle"
         },
         "mode": "markers",
         "name": "FCA코리아",
         "orientation": "v",
         "showlegend": true,
         "type": "scatter",
         "x": [
          675725057
         ],
         "xaxis": "x",
         "y": [
          147606815
         ],
         "yaxis": "y"
        },
        {
         "hovertemplate": "Advertiser=FMK<br>시청자수=%{x}<br>도달자수=%{y}<br>광고횟수=%{marker.size}<extra></extra>",
         "legendgroup": "FMK",
         "marker": {
          "color": "#00cc96",
          "size": [
           168012
          ],
          "sizemode": "area",
          "sizeref": 1908.09,
          "symbol": "circle"
         },
         "mode": "markers",
         "name": "FMK",
         "orientation": "v",
         "showlegend": true,
         "type": "scatter",
         "x": [
          803217689
         ],
         "xaxis": "x",
         "y": [
          261665899
         ],
         "yaxis": "y"
        },
        {
         "hovertemplate": "Advertiser=기흥인터내셔널<br>시청자수=%{x}<br>도달자수=%{y}<br>광고횟수=%{marker.size}<extra></extra>",
         "legendgroup": "기흥인터내셔널",
         "marker": {
          "color": "#ab63fa",
          "size": [
           108
          ],
          "sizemode": "area",
          "sizeref": 1908.09,
          "symbol": "circle"
         },
         "mode": "markers",
         "name": "기흥인터내셔널",
         "orientation": "v",
         "showlegend": true,
         "type": "scatter",
         "x": [
          33715417
         ],
         "xaxis": "x",
         "y": [
          11381072
         ],
         "yaxis": "y"
        },
        {
         "hovertemplate": "Advertiser=더클래스효성<br>시청자수=%{x}<br>도달자수=%{y}<br>광고횟수=%{marker.size}<extra></extra>",
         "legendgroup": "더클래스효성",
         "marker": {
          "color": "#FFA15A",
          "size": [
           4494
          ],
          "sizemode": "area",
          "sizeref": 1908.09,
          "symbol": "circle"
         },
         "mode": "markers",
         "name": "더클래스효성",
         "orientation": "v",
         "showlegend": true,
         "type": "scatter",
         "x": [
          80854464
         ],
         "xaxis": "x",
         "y": [
          14996504
         ],
         "yaxis": "y"
        },
        {
         "hovertemplate": "Advertiser=도이치모터스<br>시청자수=%{x}<br>도달자수=%{y}<br>광고횟수=%{marker.size}<extra></extra>",
         "legendgroup": "도이치모터스",
         "marker": {
          "color": "#19d3f3",
          "size": [
           30
          ],
          "sizemode": "area",
          "sizeref": 1908.09,
          "symbol": "circle"
         },
         "mode": "markers",
         "name": "도이치모터스",
         "orientation": "v",
         "showlegend": true,
         "type": "scatter",
         "x": [
          6022322
         ],
         "xaxis": "x",
         "y": [
          1927607
         ],
         "yaxis": "y"
        },
        {
         "hovertemplate": "Advertiser=메르세데스벤츠코리아<br>시청자수=%{x}<br>도달자수=%{y}<br>광고횟수=%{marker.size}<extra></extra>",
         "legendgroup": "메르세데스벤츠코리아",
         "marker": {
          "color": "#FF6692",
          "size": [
           71268
          ],
          "sizemode": "area",
          "sizeref": 1908.09,
          "symbol": "circle"
         },
         "mode": "markers",
         "name": "메르세데스벤츠코리아",
         "orientation": "v",
         "showlegend": true,
         "type": "scatter",
         "x": [
          2230972533
         ],
         "xaxis": "x",
         "y": [
          702991830
         ],
         "yaxis": "y"
        },
        {
         "hovertemplate": "Advertiser=볼보자동차코리아<br>시청자수=%{x}<br>도달자수=%{y}<br>광고횟수=%{marker.size}<extra></extra>",
         "legendgroup": "볼보자동차코리아",
         "marker": {
          "color": "#B6E880",
          "size": [
           339582
          ],
          "sizemode": "area",
          "sizeref": 1908.09,
          "symbol": "circle"
         },
         "mode": "markers",
         "name": "볼보자동차코리아",
         "orientation": "v",
         "showlegend": true,
         "type": "scatter",
         "x": [
          5020344582
         ],
         "xaxis": "x",
         "y": [
          962904106
         ],
         "yaxis": "y"
        },
        {
         "hovertemplate": "Advertiser=비워크<br>시청자수=%{x}<br>도달자수=%{y}<br>광고횟수=%{marker.size}<extra></extra>",
         "legendgroup": "비워크",
         "marker": {
          "color": "#FF97FF",
          "size": [
           660
          ],
          "sizemode": "area",
          "sizeref": 1908.09,
          "symbol": "circle"
         },
         "mode": "markers",
         "name": "비워크",
         "orientation": "v",
         "showlegend": true,
         "type": "scatter",
         "x": [
          2702507
         ],
         "xaxis": "x",
         "y": [
          1706712
         ],
         "yaxis": "y"
        },
        {
         "hovertemplate": "Advertiser=아우디코리아<br>시청자수=%{x}<br>도달자수=%{y}<br>광고횟수=%{marker.size}<extra></extra>",
         "legendgroup": "아우디코리아",
         "marker": {
          "color": "#FECB52",
          "size": [
           137790
          ],
          "sizemode": "area",
          "sizeref": 1908.09,
          "symbol": "circle"
         },
         "mode": "markers",
         "name": "아우디코리아",
         "orientation": "v",
         "showlegend": true,
         "type": "scatter",
         "x": [
          2908083417
         ],
         "xaxis": "x",
         "y": [
          798642082
         ],
         "yaxis": "y"
        },
        {
         "hovertemplate": "Advertiser=아우디폭스바겐코리아<br>시청자수=%{x}<br>도달자수=%{y}<br>광고횟수=%{marker.size}<extra></extra>",
         "legendgroup": "아우디폭스바겐코리아",
         "marker": {
          "color": "#636efa",
          "size": [
           115044
          ],
          "sizemode": "area",
          "sizeref": 1908.09,
          "symbol": "circle"
         },
         "mode": "markers",
         "name": "아우디폭스바겐코리아",
         "orientation": "v",
         "showlegend": true,
         "type": "scatter",
         "x": [
          2515129882
         ],
         "xaxis": "x",
         "y": [
          576557926
         ],
         "yaxis": "y"
        },
        {
         "hovertemplate": "Advertiser=에프씨에이코리아<br>시청자수=%{x}<br>도달자수=%{y}<br>광고횟수=%{marker.size}<extra></extra>",
         "legendgroup": "에프씨에이코리아",
         "marker": {
          "color": "#EF553B",
          "size": [
           89934
          ],
          "sizemode": "area",
          "sizeref": 1908.09,
          "symbol": "circle"
         },
         "mode": "markers",
         "name": "에프씨에이코리아",
         "orientation": "v",
         "showlegend": true,
         "type": "scatter",
         "x": [
          2077562972
         ],
         "xaxis": "x",
         "y": [
          517698440
         ],
         "yaxis": "y"
        },
        {
         "hovertemplate": "Advertiser=재규어랜드로버코리아<br>시청자수=%{x}<br>도달자수=%{y}<br>광고횟수=%{marker.size}<extra></extra>",
         "legendgroup": "재규어랜드로버코리아",
         "marker": {
          "color": "#00cc96",
          "size": [
           157062
          ],
          "sizemode": "area",
          "sizeref": 1908.09,
          "symbol": "circle"
         },
         "mode": "markers",
         "name": "재규어랜드로버코리아",
         "orientation": "v",
         "showlegend": true,
         "type": "scatter",
         "x": [
          3177229296
         ],
         "xaxis": "x",
         "y": [
          654912390
         ],
         "yaxis": "y"
        },
        {
         "hovertemplate": "Advertiser=지엠아시아퍼시픽지역본부<br>시청자수=%{x}<br>도달자수=%{y}<br>광고횟수=%{marker.size}<extra></extra>",
         "legendgroup": "지엠아시아퍼시픽지역본부",
         "marker": {
          "color": "#ab63fa",
          "size": [
           167658
          ],
          "sizemode": "area",
          "sizeref": 1908.09,
          "symbol": "circle"
         },
         "mode": "markers",
         "name": "지엠아시아퍼시픽지역본부",
         "orientation": "v",
         "showlegend": true,
         "type": "scatter",
         "x": [
          1504519000
         ],
         "xaxis": "x",
         "y": [
          507582646
         ],
         "yaxis": "y"
        },
        {
         "hovertemplate": "Advertiser=지엠코리아<br>시청자수=%{x}<br>도달자수=%{y}<br>광고횟수=%{marker.size}<extra></extra>",
         "legendgroup": "지엠코리아",
         "marker": {
          "color": "#FFA15A",
          "size": [
           129858
          ],
          "sizemode": "area",
          "sizeref": 1908.09,
          "symbol": "circle"
         },
         "mode": "markers",
         "name": "지엠코리아",
         "orientation": "v",
         "showlegend": true,
         "type": "scatter",
         "x": [
          864150998
         ],
         "xaxis": "x",
         "y": [
          264234631
         ],
         "yaxis": "y"
        },
        {
         "hovertemplate": "Advertiser=캐딜락코리아<br>시청자수=%{x}<br>도달자수=%{y}<br>광고횟수=%{marker.size}<extra></extra>",
         "legendgroup": "캐딜락코리아",
         "marker": {
          "color": "#19d3f3",
          "size": [
           248430
          ],
          "sizemode": "area",
          "sizeref": 1908.09,
          "symbol": "circle"
         },
         "mode": "markers",
         "name": "캐딜락코리아",
         "orientation": "v",
         "showlegend": true,
         "type": "scatter",
         "x": [
          1227905222
         ],
         "xaxis": "x",
         "y": [
          433041133
         ],
         "yaxis": "y"
        },
        {
         "hovertemplate": "Advertiser=포드세일즈서비스코리아<br>시청자수=%{x}<br>도달자수=%{y}<br>광고횟수=%{marker.size}<extra></extra>",
         "legendgroup": "포드세일즈서비스코리아",
         "marker": {
          "color": "#FF6692",
          "size": [
           250560
          ],
          "sizemode": "area",
          "sizeref": 1908.09,
          "symbol": "circle"
         },
         "mode": "markers",
         "name": "포드세일즈서비스코리아",
         "orientation": "v",
         "showlegend": true,
         "type": "scatter",
         "x": [
          3195266801
         ],
         "xaxis": "x",
         "y": [
          688478777
         ],
         "yaxis": "y"
        },
        {
         "hovertemplate": "Advertiser=포르쉐코리아<br>시청자수=%{x}<br>도달자수=%{y}<br>광고횟수=%{marker.size}<extra></extra>",
         "legendgroup": "포르쉐코리아",
         "marker": {
          "color": "#B6E880",
          "size": [
           3498
          ],
          "sizemode": "area",
          "sizeref": 1908.09,
          "symbol": "circle"
         },
         "mode": "markers",
         "name": "포르쉐코리아",
         "orientation": "v",
         "showlegend": true,
         "type": "scatter",
         "x": [
          117396276
         ],
         "xaxis": "x",
         "y": [
          36983922
         ],
         "yaxis": "y"
        },
        {
         "hovertemplate": "Advertiser=한국닛산<br>시청자수=%{x}<br>도달자수=%{y}<br>광고횟수=%{marker.size}<extra></extra>",
         "legendgroup": "한국닛산",
         "marker": {
          "color": "#FF97FF",
          "size": [
           134592
          ],
          "sizemode": "area",
          "sizeref": 1908.09,
          "symbol": "circle"
         },
         "mode": "markers",
         "name": "한국닛산",
         "orientation": "v",
         "showlegend": true,
         "type": "scatter",
         "x": [
          1512679583
         ],
         "xaxis": "x",
         "y": [
          269889409
         ],
         "yaxis": "y"
        },
        {
         "hovertemplate": "Advertiser=한국토요타자동차<br>시청자수=%{x}<br>도달자수=%{y}<br>광고횟수=%{marker.size}<extra></extra>",
         "legendgroup": "한국토요타자동차",
         "marker": {
          "color": "#FECB52",
          "size": [
           763236
          ],
          "sizemode": "area",
          "sizeref": 1908.09,
          "symbol": "circle"
         },
         "mode": "markers",
         "name": "한국토요타자동차",
         "orientation": "v",
         "showlegend": true,
         "type": "scatter",
         "x": [
          6842467425
         ],
         "xaxis": "x",
         "y": [
          1969808970
         ],
         "yaxis": "y"
        },
        {
         "hovertemplate": "Advertiser=한불모터스<br>시청자수=%{x}<br>도달자수=%{y}<br>광고횟수=%{marker.size}<extra></extra>",
         "legendgroup": "한불모터스",
         "marker": {
          "color": "#636efa",
          "size": [
           141852
          ],
          "sizemode": "area",
          "sizeref": 1908.09,
          "symbol": "circle"
         },
         "mode": "markers",
         "name": "한불모터스",
         "orientation": "v",
         "showlegend": true,
         "type": "scatter",
         "x": [
          1033016795
         ],
         "xaxis": "x",
         "y": [
          449207365
         ],
         "yaxis": "y"
        },
        {
         "hovertemplate": "Advertiser=혼다코리아<br>시청자수=%{x}<br>도달자수=%{y}<br>광고횟수=%{marker.size}<extra></extra>",
         "legendgroup": "혼다코리아",
         "marker": {
          "color": "#EF553B",
          "size": [
           78600
          ],
          "sizemode": "area",
          "sizeref": 1908.09,
          "symbol": "circle"
         },
         "mode": "markers",
         "name": "혼다코리아",
         "orientation": "v",
         "showlegend": true,
         "type": "scatter",
         "x": [
          997350485
         ],
         "xaxis": "x",
         "y": [
          421579453
         ],
         "yaxis": "y"
        }
       ],
       "layout": {
        "legend": {
         "itemsizing": "constant",
         "title": {
          "text": "Advertiser"
         },
         "tracegroupgap": 0
        },
        "margin": {
         "t": 60
        },
        "template": {
         "data": {
          "bar": [
           {
            "error_x": {
             "color": "#2a3f5f"
            },
            "error_y": {
             "color": "#2a3f5f"
            },
            "marker": {
             "line": {
              "color": "#E5ECF6",
              "width": 0.5
             }
            },
            "type": "bar"
           }
          ],
          "barpolar": [
           {
            "marker": {
             "line": {
              "color": "#E5ECF6",
              "width": 0.5
             }
            },
            "type": "barpolar"
           }
          ],
          "carpet": [
           {
            "aaxis": {
             "endlinecolor": "#2a3f5f",
             "gridcolor": "white",
             "linecolor": "white",
             "minorgridcolor": "white",
             "startlinecolor": "#2a3f5f"
            },
            "baxis": {
             "endlinecolor": "#2a3f5f",
             "gridcolor": "white",
             "linecolor": "white",
             "minorgridcolor": "white",
             "startlinecolor": "#2a3f5f"
            },
            "type": "carpet"
           }
          ],
          "choropleth": [
           {
            "colorbar": {
             "outlinewidth": 0,
             "ticks": ""
            },
            "type": "choropleth"
           }
          ],
          "contour": [
           {
            "colorbar": {
             "outlinewidth": 0,
             "ticks": ""
            },
            "colorscale": [
             [
              0,
              "#0d0887"
             ],
             [
              0.1111111111111111,
              "#46039f"
             ],
             [
              0.2222222222222222,
              "#7201a8"
             ],
             [
              0.3333333333333333,
              "#9c179e"
             ],
             [
              0.4444444444444444,
              "#bd3786"
             ],
             [
              0.5555555555555556,
              "#d8576b"
             ],
             [
              0.6666666666666666,
              "#ed7953"
             ],
             [
              0.7777777777777778,
              "#fb9f3a"
             ],
             [
              0.8888888888888888,
              "#fdca26"
             ],
             [
              1,
              "#f0f921"
             ]
            ],
            "type": "contour"
           }
          ],
          "contourcarpet": [
           {
            "colorbar": {
             "outlinewidth": 0,
             "ticks": ""
            },
            "type": "contourcarpet"
           }
          ],
          "heatmap": [
           {
            "colorbar": {
             "outlinewidth": 0,
             "ticks": ""
            },
            "colorscale": [
             [
              0,
              "#0d0887"
             ],
             [
              0.1111111111111111,
              "#46039f"
             ],
             [
              0.2222222222222222,
              "#7201a8"
             ],
             [
              0.3333333333333333,
              "#9c179e"
             ],
             [
              0.4444444444444444,
              "#bd3786"
             ],
             [
              0.5555555555555556,
              "#d8576b"
             ],
             [
              0.6666666666666666,
              "#ed7953"
             ],
             [
              0.7777777777777778,
              "#fb9f3a"
             ],
             [
              0.8888888888888888,
              "#fdca26"
             ],
             [
              1,
              "#f0f921"
             ]
            ],
            "type": "heatmap"
           }
          ],
          "heatmapgl": [
           {
            "colorbar": {
             "outlinewidth": 0,
             "ticks": ""
            },
            "colorscale": [
             [
              0,
              "#0d0887"
             ],
             [
              0.1111111111111111,
              "#46039f"
             ],
             [
              0.2222222222222222,
              "#7201a8"
             ],
             [
              0.3333333333333333,
              "#9c179e"
             ],
             [
              0.4444444444444444,
              "#bd3786"
             ],
             [
              0.5555555555555556,
              "#d8576b"
             ],
             [
              0.6666666666666666,
              "#ed7953"
             ],
             [
              0.7777777777777778,
              "#fb9f3a"
             ],
             [
              0.8888888888888888,
              "#fdca26"
             ],
             [
              1,
              "#f0f921"
             ]
            ],
            "type": "heatmapgl"
           }
          ],
          "histogram": [
           {
            "marker": {
             "colorbar": {
              "outlinewidth": 0,
              "ticks": ""
             }
            },
            "type": "histogram"
           }
          ],
          "histogram2d": [
           {
            "colorbar": {
             "outlinewidth": 0,
             "ticks": ""
            },
            "colorscale": [
             [
              0,
              "#0d0887"
             ],
             [
              0.1111111111111111,
              "#46039f"
             ],
             [
              0.2222222222222222,
              "#7201a8"
             ],
             [
              0.3333333333333333,
              "#9c179e"
             ],
             [
              0.4444444444444444,
              "#bd3786"
             ],
             [
              0.5555555555555556,
              "#d8576b"
             ],
             [
              0.6666666666666666,
              "#ed7953"
             ],
             [
              0.7777777777777778,
              "#fb9f3a"
             ],
             [
              0.8888888888888888,
              "#fdca26"
             ],
             [
              1,
              "#f0f921"
             ]
            ],
            "type": "histogram2d"
           }
          ],
          "histogram2dcontour": [
           {
            "colorbar": {
             "outlinewidth": 0,
             "ticks": ""
            },
            "colorscale": [
             [
              0,
              "#0d0887"
             ],
             [
              0.1111111111111111,
              "#46039f"
             ],
             [
              0.2222222222222222,
              "#7201a8"
             ],
             [
              0.3333333333333333,
              "#9c179e"
             ],
             [
              0.4444444444444444,
              "#bd3786"
             ],
             [
              0.5555555555555556,
              "#d8576b"
             ],
             [
              0.6666666666666666,
              "#ed7953"
             ],
             [
              0.7777777777777778,
              "#fb9f3a"
             ],
             [
              0.8888888888888888,
              "#fdca26"
             ],
             [
              1,
              "#f0f921"
             ]
            ],
            "type": "histogram2dcontour"
           }
          ],
          "mesh3d": [
           {
            "colorbar": {
             "outlinewidth": 0,
             "ticks": ""
            },
            "type": "mesh3d"
           }
          ],
          "parcoords": [
           {
            "line": {
             "colorbar": {
              "outlinewidth": 0,
              "ticks": ""
             }
            },
            "type": "parcoords"
           }
          ],
          "pie": [
           {
            "automargin": true,
            "type": "pie"
           }
          ],
          "scatter": [
           {
            "marker": {
             "colorbar": {
              "outlinewidth": 0,
              "ticks": ""
             }
            },
            "type": "scatter"
           }
          ],
          "scatter3d": [
           {
            "line": {
             "colorbar": {
              "outlinewidth": 0,
              "ticks": ""
             }
            },
            "marker": {
             "colorbar": {
              "outlinewidth": 0,
              "ticks": ""
             }
            },
            "type": "scatter3d"
           }
          ],
          "scattercarpet": [
           {
            "marker": {
             "colorbar": {
              "outlinewidth": 0,
              "ticks": ""
             }
            },
            "type": "scattercarpet"
           }
          ],
          "scattergeo": [
           {
            "marker": {
             "colorbar": {
              "outlinewidth": 0,
              "ticks": ""
             }
            },
            "type": "scattergeo"
           }
          ],
          "scattergl": [
           {
            "marker": {
             "colorbar": {
              "outlinewidth": 0,
              "ticks": ""
             }
            },
            "type": "scattergl"
           }
          ],
          "scattermapbox": [
           {
            "marker": {
             "colorbar": {
              "outlinewidth": 0,
              "ticks": ""
             }
            },
            "type": "scattermapbox"
           }
          ],
          "scatterpolar": [
           {
            "marker": {
             "colorbar": {
              "outlinewidth": 0,
              "ticks": ""
             }
            },
            "type": "scatterpolar"
           }
          ],
          "scatterpolargl": [
           {
            "marker": {
             "colorbar": {
              "outlinewidth": 0,
              "ticks": ""
             }
            },
            "type": "scatterpolargl"
           }
          ],
          "scatterternary": [
           {
            "marker": {
             "colorbar": {
              "outlinewidth": 0,
              "ticks": ""
             }
            },
            "type": "scatterternary"
           }
          ],
          "surface": [
           {
            "colorbar": {
             "outlinewidth": 0,
             "ticks": ""
            },
            "colorscale": [
             [
              0,
              "#0d0887"
             ],
             [
              0.1111111111111111,
              "#46039f"
             ],
             [
              0.2222222222222222,
              "#7201a8"
             ],
             [
              0.3333333333333333,
              "#9c179e"
             ],
             [
              0.4444444444444444,
              "#bd3786"
             ],
             [
              0.5555555555555556,
              "#d8576b"
             ],
             [
              0.6666666666666666,
              "#ed7953"
             ],
             [
              0.7777777777777778,
              "#fb9f3a"
             ],
             [
              0.8888888888888888,
              "#fdca26"
             ],
             [
              1,
              "#f0f921"
             ]
            ],
            "type": "surface"
           }
          ],
          "table": [
           {
            "cells": {
             "fill": {
              "color": "#EBF0F8"
             },
             "line": {
              "color": "white"
             }
            },
            "header": {
             "fill": {
              "color": "#C8D4E3"
             },
             "line": {
              "color": "white"
             }
            },
            "type": "table"
           }
          ]
         },
         "layout": {
          "annotationdefaults": {
           "arrowcolor": "#2a3f5f",
           "arrowhead": 0,
           "arrowwidth": 1
          },
          "autotypenumbers": "strict",
          "coloraxis": {
           "colorbar": {
            "outlinewidth": 0,
            "ticks": ""
           }
          },
          "colorscale": {
           "diverging": [
            [
             0,
             "#8e0152"
            ],
            [
             0.1,
             "#c51b7d"
            ],
            [
             0.2,
             "#de77ae"
            ],
            [
             0.3,
             "#f1b6da"
            ],
            [
             0.4,
             "#fde0ef"
            ],
            [
             0.5,
             "#f7f7f7"
            ],
            [
             0.6,
             "#e6f5d0"
            ],
            [
             0.7,
             "#b8e186"
            ],
            [
             0.8,
             "#7fbc41"
            ],
            [
             0.9,
             "#4d9221"
            ],
            [
             1,
             "#276419"
            ]
           ],
           "sequential": [
            [
             0,
             "#0d0887"
            ],
            [
             0.1111111111111111,
             "#46039f"
            ],
            [
             0.2222222222222222,
             "#7201a8"
            ],
            [
             0.3333333333333333,
             "#9c179e"
            ],
            [
             0.4444444444444444,
             "#bd3786"
            ],
            [
             0.5555555555555556,
             "#d8576b"
            ],
            [
             0.6666666666666666,
             "#ed7953"
            ],
            [
             0.7777777777777778,
             "#fb9f3a"
            ],
            [
             0.8888888888888888,
             "#fdca26"
            ],
            [
             1,
             "#f0f921"
            ]
           ],
           "sequentialminus": [
            [
             0,
             "#0d0887"
            ],
            [
             0.1111111111111111,
             "#46039f"
            ],
            [
             0.2222222222222222,
             "#7201a8"
            ],
            [
             0.3333333333333333,
             "#9c179e"
            ],
            [
             0.4444444444444444,
             "#bd3786"
            ],
            [
             0.5555555555555556,
             "#d8576b"
            ],
            [
             0.6666666666666666,
             "#ed7953"
            ],
            [
             0.7777777777777778,
             "#fb9f3a"
            ],
            [
             0.8888888888888888,
             "#fdca26"
            ],
            [
             1,
             "#f0f921"
            ]
           ]
          },
          "colorway": [
           "#636efa",
           "#EF553B",
           "#00cc96",
           "#ab63fa",
           "#FFA15A",
           "#19d3f3",
           "#FF6692",
           "#B6E880",
           "#FF97FF",
           "#FECB52"
          ],
          "font": {
           "color": "#2a3f5f"
          },
          "geo": {
           "bgcolor": "white",
           "lakecolor": "white",
           "landcolor": "#E5ECF6",
           "showlakes": true,
           "showland": true,
           "subunitcolor": "white"
          },
          "hoverlabel": {
           "align": "left"
          },
          "hovermode": "closest",
          "mapbox": {
           "style": "light"
          },
          "paper_bgcolor": "white",
          "plot_bgcolor": "#E5ECF6",
          "polar": {
           "angularaxis": {
            "gridcolor": "white",
            "linecolor": "white",
            "ticks": ""
           },
           "bgcolor": "#E5ECF6",
           "radialaxis": {
            "gridcolor": "white",
            "linecolor": "white",
            "ticks": ""
           }
          },
          "scene": {
           "xaxis": {
            "backgroundcolor": "#E5ECF6",
            "gridcolor": "white",
            "gridwidth": 2,
            "linecolor": "white",
            "showbackground": true,
            "ticks": "",
            "zerolinecolor": "white"
           },
           "yaxis": {
            "backgroundcolor": "#E5ECF6",
            "gridcolor": "white",
            "gridwidth": 2,
            "linecolor": "white",
            "showbackground": true,
            "ticks": "",
            "zerolinecolor": "white"
           },
           "zaxis": {
            "backgroundcolor": "#E5ECF6",
            "gridcolor": "white",
            "gridwidth": 2,
            "linecolor": "white",
            "showbackground": true,
            "ticks": "",
            "zerolinecolor": "white"
           }
          },
          "shapedefaults": {
           "line": {
            "color": "#2a3f5f"
           }
          },
          "ternary": {
           "aaxis": {
            "gridcolor": "white",
            "linecolor": "white",
            "ticks": ""
           },
           "baxis": {
            "gridcolor": "white",
            "linecolor": "white",
            "ticks": ""
           },
           "bgcolor": "#E5ECF6",
           "caxis": {
            "gridcolor": "white",
            "linecolor": "white",
            "ticks": ""
           }
          },
          "title": {
           "x": 0.05
          },
          "xaxis": {
           "automargin": true,
           "gridcolor": "white",
           "linecolor": "white",
           "ticks": "",
           "title": {
            "standoff": 15
           },
           "zerolinecolor": "white",
           "zerolinewidth": 2
          },
          "yaxis": {
           "automargin": true,
           "gridcolor": "white",
           "linecolor": "white",
           "ticks": "",
           "title": {
            "standoff": 15
           },
           "zerolinecolor": "white",
           "zerolinewidth": 2
          }
         }
        },
        "xaxis": {
         "anchor": "y",
         "domain": [
          0,
          1
         ],
         "title": {
          "text": "시청자수"
         }
        },
        "yaxis": {
         "anchor": "x",
         "domain": [
          0,
          1
         ],
         "title": {
          "text": "도달자수"
         }
        }
       }
      },
      "text/html": [
       "<div>                            <div id=\"85ca9628-c471-43fe-810f-378d2c90ca24\" class=\"plotly-graph-div\" style=\"height:525px; width:100%;\"></div>            <script type=\"text/javascript\">                require([\"plotly\"], function(Plotly) {                    window.PLOTLYENV=window.PLOTLYENV || {};                                    if (document.getElementById(\"85ca9628-c471-43fe-810f-378d2c90ca24\")) {                    Plotly.newPlot(                        \"85ca9628-c471-43fe-810f-378d2c90ca24\",                        [{\"hovertemplate\": \"Advertiser=BMW\\ucf54\\ub9ac\\uc544<br>\\uc2dc\\uccad\\uc790\\uc218=%{x}<br>\\ub3c4\\ub2ec\\uc790\\uc218=%{y}<br>\\uad11\\uace0\\ud69f\\uc218=%{marker.size}<extra></extra>\", \"legendgroup\": \"BMW\\ucf54\\ub9ac\\uc544\", \"marker\": {\"color\": \"#636efa\", \"size\": [287898.0], \"sizemode\": \"area\", \"sizeref\": 1908.09, \"symbol\": \"circle\"}, \"mode\": \"markers\", \"name\": \"BMW\\ucf54\\ub9ac\\uc544\", \"orientation\": \"v\", \"showlegend\": true, \"type\": \"scatter\", \"x\": [3637055454.0], \"xaxis\": \"x\", \"y\": [982908993.0], \"yaxis\": \"y\"}, {\"hovertemplate\": \"Advertiser=FCA\\ucf54\\ub9ac\\uc544<br>\\uc2dc\\uccad\\uc790\\uc218=%{x}<br>\\ub3c4\\ub2ec\\uc790\\uc218=%{y}<br>\\uad11\\uace0\\ud69f\\uc218=%{marker.size}<extra></extra>\", \"legendgroup\": \"FCA\\ucf54\\ub9ac\\uc544\", \"marker\": {\"color\": \"#EF553B\", \"size\": [32268.0], \"sizemode\": \"area\", \"sizeref\": 1908.09, \"symbol\": \"circle\"}, \"mode\": \"markers\", \"name\": \"FCA\\ucf54\\ub9ac\\uc544\", \"orientation\": \"v\", \"showlegend\": true, \"type\": \"scatter\", \"x\": [675725057.0], \"xaxis\": \"x\", \"y\": [147606815.0], \"yaxis\": \"y\"}, {\"hovertemplate\": \"Advertiser=FMK<br>\\uc2dc\\uccad\\uc790\\uc218=%{x}<br>\\ub3c4\\ub2ec\\uc790\\uc218=%{y}<br>\\uad11\\uace0\\ud69f\\uc218=%{marker.size}<extra></extra>\", \"legendgroup\": \"FMK\", \"marker\": {\"color\": \"#00cc96\", \"size\": [168012.0], \"sizemode\": \"area\", \"sizeref\": 1908.09, \"symbol\": \"circle\"}, \"mode\": \"markers\", \"name\": \"FMK\", \"orientation\": \"v\", \"showlegend\": true, \"type\": \"scatter\", \"x\": [803217689.0], \"xaxis\": \"x\", \"y\": [261665899.0], \"yaxis\": \"y\"}, {\"hovertemplate\": \"Advertiser=\\uae30\\ud765\\uc778\\ud130\\ub0b4\\uc154\\ub110<br>\\uc2dc\\uccad\\uc790\\uc218=%{x}<br>\\ub3c4\\ub2ec\\uc790\\uc218=%{y}<br>\\uad11\\uace0\\ud69f\\uc218=%{marker.size}<extra></extra>\", \"legendgroup\": \"\\uae30\\ud765\\uc778\\ud130\\ub0b4\\uc154\\ub110\", \"marker\": {\"color\": \"#ab63fa\", \"size\": [108.0], \"sizemode\": \"area\", \"sizeref\": 1908.09, \"symbol\": \"circle\"}, \"mode\": \"markers\", \"name\": \"\\uae30\\ud765\\uc778\\ud130\\ub0b4\\uc154\\ub110\", \"orientation\": \"v\", \"showlegend\": true, \"type\": \"scatter\", \"x\": [33715417.0], \"xaxis\": \"x\", \"y\": [11381072.0], \"yaxis\": \"y\"}, {\"hovertemplate\": \"Advertiser=\\ub354\\ud074\\ub798\\uc2a4\\ud6a8\\uc131<br>\\uc2dc\\uccad\\uc790\\uc218=%{x}<br>\\ub3c4\\ub2ec\\uc790\\uc218=%{y}<br>\\uad11\\uace0\\ud69f\\uc218=%{marker.size}<extra></extra>\", \"legendgroup\": \"\\ub354\\ud074\\ub798\\uc2a4\\ud6a8\\uc131\", \"marker\": {\"color\": \"#FFA15A\", \"size\": [4494.0], \"sizemode\": \"area\", \"sizeref\": 1908.09, \"symbol\": \"circle\"}, \"mode\": \"markers\", \"name\": \"\\ub354\\ud074\\ub798\\uc2a4\\ud6a8\\uc131\", \"orientation\": \"v\", \"showlegend\": true, \"type\": \"scatter\", \"x\": [80854464.0], \"xaxis\": \"x\", \"y\": [14996504.0], \"yaxis\": \"y\"}, {\"hovertemplate\": \"Advertiser=\\ub3c4\\uc774\\uce58\\ubaa8\\ud130\\uc2a4<br>\\uc2dc\\uccad\\uc790\\uc218=%{x}<br>\\ub3c4\\ub2ec\\uc790\\uc218=%{y}<br>\\uad11\\uace0\\ud69f\\uc218=%{marker.size}<extra></extra>\", \"legendgroup\": \"\\ub3c4\\uc774\\uce58\\ubaa8\\ud130\\uc2a4\", \"marker\": {\"color\": \"#19d3f3\", \"size\": [30.0], \"sizemode\": \"area\", \"sizeref\": 1908.09, \"symbol\": \"circle\"}, \"mode\": \"markers\", \"name\": \"\\ub3c4\\uc774\\uce58\\ubaa8\\ud130\\uc2a4\", \"orientation\": \"v\", \"showlegend\": true, \"type\": \"scatter\", \"x\": [6022322.0], \"xaxis\": \"x\", \"y\": [1927607.0], \"yaxis\": \"y\"}, {\"hovertemplate\": \"Advertiser=\\uba54\\ub974\\uc138\\ub370\\uc2a4\\ubca4\\uce20\\ucf54\\ub9ac\\uc544<br>\\uc2dc\\uccad\\uc790\\uc218=%{x}<br>\\ub3c4\\ub2ec\\uc790\\uc218=%{y}<br>\\uad11\\uace0\\ud69f\\uc218=%{marker.size}<extra></extra>\", \"legendgroup\": \"\\uba54\\ub974\\uc138\\ub370\\uc2a4\\ubca4\\uce20\\ucf54\\ub9ac\\uc544\", \"marker\": {\"color\": \"#FF6692\", \"size\": [71268.0], \"sizemode\": \"area\", \"sizeref\": 1908.09, \"symbol\": \"circle\"}, \"mode\": \"markers\", \"name\": \"\\uba54\\ub974\\uc138\\ub370\\uc2a4\\ubca4\\uce20\\ucf54\\ub9ac\\uc544\", \"orientation\": \"v\", \"showlegend\": true, \"type\": \"scatter\", \"x\": [2230972533.0], \"xaxis\": \"x\", \"y\": [702991830.0], \"yaxis\": \"y\"}, {\"hovertemplate\": \"Advertiser=\\ubcfc\\ubcf4\\uc790\\ub3d9\\ucc28\\ucf54\\ub9ac\\uc544<br>\\uc2dc\\uccad\\uc790\\uc218=%{x}<br>\\ub3c4\\ub2ec\\uc790\\uc218=%{y}<br>\\uad11\\uace0\\ud69f\\uc218=%{marker.size}<extra></extra>\", \"legendgroup\": \"\\ubcfc\\ubcf4\\uc790\\ub3d9\\ucc28\\ucf54\\ub9ac\\uc544\", \"marker\": {\"color\": \"#B6E880\", \"size\": [339582.0], \"sizemode\": \"area\", \"sizeref\": 1908.09, \"symbol\": \"circle\"}, \"mode\": \"markers\", \"name\": \"\\ubcfc\\ubcf4\\uc790\\ub3d9\\ucc28\\ucf54\\ub9ac\\uc544\", \"orientation\": \"v\", \"showlegend\": true, \"type\": \"scatter\", \"x\": [5020344582.0], \"xaxis\": \"x\", \"y\": [962904106.0], \"yaxis\": \"y\"}, {\"hovertemplate\": \"Advertiser=\\ube44\\uc6cc\\ud06c<br>\\uc2dc\\uccad\\uc790\\uc218=%{x}<br>\\ub3c4\\ub2ec\\uc790\\uc218=%{y}<br>\\uad11\\uace0\\ud69f\\uc218=%{marker.size}<extra></extra>\", \"legendgroup\": \"\\ube44\\uc6cc\\ud06c\", \"marker\": {\"color\": \"#FF97FF\", \"size\": [660.0], \"sizemode\": \"area\", \"sizeref\": 1908.09, \"symbol\": \"circle\"}, \"mode\": \"markers\", \"name\": \"\\ube44\\uc6cc\\ud06c\", \"orientation\": \"v\", \"showlegend\": true, \"type\": \"scatter\", \"x\": [2702507.0], \"xaxis\": \"x\", \"y\": [1706712.0], \"yaxis\": \"y\"}, {\"hovertemplate\": \"Advertiser=\\uc544\\uc6b0\\ub514\\ucf54\\ub9ac\\uc544<br>\\uc2dc\\uccad\\uc790\\uc218=%{x}<br>\\ub3c4\\ub2ec\\uc790\\uc218=%{y}<br>\\uad11\\uace0\\ud69f\\uc218=%{marker.size}<extra></extra>\", \"legendgroup\": \"\\uc544\\uc6b0\\ub514\\ucf54\\ub9ac\\uc544\", \"marker\": {\"color\": \"#FECB52\", \"size\": [137790.0], \"sizemode\": \"area\", \"sizeref\": 1908.09, \"symbol\": \"circle\"}, \"mode\": \"markers\", \"name\": \"\\uc544\\uc6b0\\ub514\\ucf54\\ub9ac\\uc544\", \"orientation\": \"v\", \"showlegend\": true, \"type\": \"scatter\", \"x\": [2908083417.0], \"xaxis\": \"x\", \"y\": [798642082.0], \"yaxis\": \"y\"}, {\"hovertemplate\": \"Advertiser=\\uc544\\uc6b0\\ub514\\ud3ed\\uc2a4\\ubc14\\uac90\\ucf54\\ub9ac\\uc544<br>\\uc2dc\\uccad\\uc790\\uc218=%{x}<br>\\ub3c4\\ub2ec\\uc790\\uc218=%{y}<br>\\uad11\\uace0\\ud69f\\uc218=%{marker.size}<extra></extra>\", \"legendgroup\": \"\\uc544\\uc6b0\\ub514\\ud3ed\\uc2a4\\ubc14\\uac90\\ucf54\\ub9ac\\uc544\", \"marker\": {\"color\": \"#636efa\", \"size\": [115044.0], \"sizemode\": \"area\", \"sizeref\": 1908.09, \"symbol\": \"circle\"}, \"mode\": \"markers\", \"name\": \"\\uc544\\uc6b0\\ub514\\ud3ed\\uc2a4\\ubc14\\uac90\\ucf54\\ub9ac\\uc544\", \"orientation\": \"v\", \"showlegend\": true, \"type\": \"scatter\", \"x\": [2515129882.0], \"xaxis\": \"x\", \"y\": [576557926.0], \"yaxis\": \"y\"}, {\"hovertemplate\": \"Advertiser=\\uc5d0\\ud504\\uc528\\uc5d0\\uc774\\ucf54\\ub9ac\\uc544<br>\\uc2dc\\uccad\\uc790\\uc218=%{x}<br>\\ub3c4\\ub2ec\\uc790\\uc218=%{y}<br>\\uad11\\uace0\\ud69f\\uc218=%{marker.size}<extra></extra>\", \"legendgroup\": \"\\uc5d0\\ud504\\uc528\\uc5d0\\uc774\\ucf54\\ub9ac\\uc544\", \"marker\": {\"color\": \"#EF553B\", \"size\": [89934.0], \"sizemode\": \"area\", \"sizeref\": 1908.09, \"symbol\": \"circle\"}, \"mode\": \"markers\", \"name\": \"\\uc5d0\\ud504\\uc528\\uc5d0\\uc774\\ucf54\\ub9ac\\uc544\", \"orientation\": \"v\", \"showlegend\": true, \"type\": \"scatter\", \"x\": [2077562972.0], \"xaxis\": \"x\", \"y\": [517698440.0], \"yaxis\": \"y\"}, {\"hovertemplate\": \"Advertiser=\\uc7ac\\uaddc\\uc5b4\\ub79c\\ub4dc\\ub85c\\ubc84\\ucf54\\ub9ac\\uc544<br>\\uc2dc\\uccad\\uc790\\uc218=%{x}<br>\\ub3c4\\ub2ec\\uc790\\uc218=%{y}<br>\\uad11\\uace0\\ud69f\\uc218=%{marker.size}<extra></extra>\", \"legendgroup\": \"\\uc7ac\\uaddc\\uc5b4\\ub79c\\ub4dc\\ub85c\\ubc84\\ucf54\\ub9ac\\uc544\", \"marker\": {\"color\": \"#00cc96\", \"size\": [157062.0], \"sizemode\": \"area\", \"sizeref\": 1908.09, \"symbol\": \"circle\"}, \"mode\": \"markers\", \"name\": \"\\uc7ac\\uaddc\\uc5b4\\ub79c\\ub4dc\\ub85c\\ubc84\\ucf54\\ub9ac\\uc544\", \"orientation\": \"v\", \"showlegend\": true, \"type\": \"scatter\", \"x\": [3177229296.0], \"xaxis\": \"x\", \"y\": [654912390.0], \"yaxis\": \"y\"}, {\"hovertemplate\": \"Advertiser=\\uc9c0\\uc5e0\\uc544\\uc2dc\\uc544\\ud37c\\uc2dc\\ud53d\\uc9c0\\uc5ed\\ubcf8\\ubd80<br>\\uc2dc\\uccad\\uc790\\uc218=%{x}<br>\\ub3c4\\ub2ec\\uc790\\uc218=%{y}<br>\\uad11\\uace0\\ud69f\\uc218=%{marker.size}<extra></extra>\", \"legendgroup\": \"\\uc9c0\\uc5e0\\uc544\\uc2dc\\uc544\\ud37c\\uc2dc\\ud53d\\uc9c0\\uc5ed\\ubcf8\\ubd80\", \"marker\": {\"color\": \"#ab63fa\", \"size\": [167658.0], \"sizemode\": \"area\", \"sizeref\": 1908.09, \"symbol\": \"circle\"}, \"mode\": \"markers\", \"name\": \"\\uc9c0\\uc5e0\\uc544\\uc2dc\\uc544\\ud37c\\uc2dc\\ud53d\\uc9c0\\uc5ed\\ubcf8\\ubd80\", \"orientation\": \"v\", \"showlegend\": true, \"type\": \"scatter\", \"x\": [1504519000.0], \"xaxis\": \"x\", \"y\": [507582646.0], \"yaxis\": \"y\"}, {\"hovertemplate\": \"Advertiser=\\uc9c0\\uc5e0\\ucf54\\ub9ac\\uc544<br>\\uc2dc\\uccad\\uc790\\uc218=%{x}<br>\\ub3c4\\ub2ec\\uc790\\uc218=%{y}<br>\\uad11\\uace0\\ud69f\\uc218=%{marker.size}<extra></extra>\", \"legendgroup\": \"\\uc9c0\\uc5e0\\ucf54\\ub9ac\\uc544\", \"marker\": {\"color\": \"#FFA15A\", \"size\": [129858.0], \"sizemode\": \"area\", \"sizeref\": 1908.09, \"symbol\": \"circle\"}, \"mode\": \"markers\", \"name\": \"\\uc9c0\\uc5e0\\ucf54\\ub9ac\\uc544\", \"orientation\": \"v\", \"showlegend\": true, \"type\": \"scatter\", \"x\": [864150998.0], \"xaxis\": \"x\", \"y\": [264234631.0], \"yaxis\": \"y\"}, {\"hovertemplate\": \"Advertiser=\\uce90\\ub51c\\ub77d\\ucf54\\ub9ac\\uc544<br>\\uc2dc\\uccad\\uc790\\uc218=%{x}<br>\\ub3c4\\ub2ec\\uc790\\uc218=%{y}<br>\\uad11\\uace0\\ud69f\\uc218=%{marker.size}<extra></extra>\", \"legendgroup\": \"\\uce90\\ub51c\\ub77d\\ucf54\\ub9ac\\uc544\", \"marker\": {\"color\": \"#19d3f3\", \"size\": [248430.0], \"sizemode\": \"area\", \"sizeref\": 1908.09, \"symbol\": \"circle\"}, \"mode\": \"markers\", \"name\": \"\\uce90\\ub51c\\ub77d\\ucf54\\ub9ac\\uc544\", \"orientation\": \"v\", \"showlegend\": true, \"type\": \"scatter\", \"x\": [1227905222.0], \"xaxis\": \"x\", \"y\": [433041133.0], \"yaxis\": \"y\"}, {\"hovertemplate\": \"Advertiser=\\ud3ec\\ub4dc\\uc138\\uc77c\\uc988\\uc11c\\ube44\\uc2a4\\ucf54\\ub9ac\\uc544<br>\\uc2dc\\uccad\\uc790\\uc218=%{x}<br>\\ub3c4\\ub2ec\\uc790\\uc218=%{y}<br>\\uad11\\uace0\\ud69f\\uc218=%{marker.size}<extra></extra>\", \"legendgroup\": \"\\ud3ec\\ub4dc\\uc138\\uc77c\\uc988\\uc11c\\ube44\\uc2a4\\ucf54\\ub9ac\\uc544\", \"marker\": {\"color\": \"#FF6692\", \"size\": [250560.0], \"sizemode\": \"area\", \"sizeref\": 1908.09, \"symbol\": \"circle\"}, \"mode\": \"markers\", \"name\": \"\\ud3ec\\ub4dc\\uc138\\uc77c\\uc988\\uc11c\\ube44\\uc2a4\\ucf54\\ub9ac\\uc544\", \"orientation\": \"v\", \"showlegend\": true, \"type\": \"scatter\", \"x\": [3195266801.0], \"xaxis\": \"x\", \"y\": [688478777.0], \"yaxis\": \"y\"}, {\"hovertemplate\": \"Advertiser=\\ud3ec\\ub974\\uc250\\ucf54\\ub9ac\\uc544<br>\\uc2dc\\uccad\\uc790\\uc218=%{x}<br>\\ub3c4\\ub2ec\\uc790\\uc218=%{y}<br>\\uad11\\uace0\\ud69f\\uc218=%{marker.size}<extra></extra>\", \"legendgroup\": \"\\ud3ec\\ub974\\uc250\\ucf54\\ub9ac\\uc544\", \"marker\": {\"color\": \"#B6E880\", \"size\": [3498.0], \"sizemode\": \"area\", \"sizeref\": 1908.09, \"symbol\": \"circle\"}, \"mode\": \"markers\", \"name\": \"\\ud3ec\\ub974\\uc250\\ucf54\\ub9ac\\uc544\", \"orientation\": \"v\", \"showlegend\": true, \"type\": \"scatter\", \"x\": [117396276.0], \"xaxis\": \"x\", \"y\": [36983922.0], \"yaxis\": \"y\"}, {\"hovertemplate\": \"Advertiser=\\ud55c\\uad6d\\ub2db\\uc0b0<br>\\uc2dc\\uccad\\uc790\\uc218=%{x}<br>\\ub3c4\\ub2ec\\uc790\\uc218=%{y}<br>\\uad11\\uace0\\ud69f\\uc218=%{marker.size}<extra></extra>\", \"legendgroup\": \"\\ud55c\\uad6d\\ub2db\\uc0b0\", \"marker\": {\"color\": \"#FF97FF\", \"size\": [134592.0], \"sizemode\": \"area\", \"sizeref\": 1908.09, \"symbol\": \"circle\"}, \"mode\": \"markers\", \"name\": \"\\ud55c\\uad6d\\ub2db\\uc0b0\", \"orientation\": \"v\", \"showlegend\": true, \"type\": \"scatter\", \"x\": [1512679583.0], \"xaxis\": \"x\", \"y\": [269889409.0], \"yaxis\": \"y\"}, {\"hovertemplate\": \"Advertiser=\\ud55c\\uad6d\\ud1a0\\uc694\\ud0c0\\uc790\\ub3d9\\ucc28<br>\\uc2dc\\uccad\\uc790\\uc218=%{x}<br>\\ub3c4\\ub2ec\\uc790\\uc218=%{y}<br>\\uad11\\uace0\\ud69f\\uc218=%{marker.size}<extra></extra>\", \"legendgroup\": \"\\ud55c\\uad6d\\ud1a0\\uc694\\ud0c0\\uc790\\ub3d9\\ucc28\", \"marker\": {\"color\": \"#FECB52\", \"size\": [763236.0], \"sizemode\": \"area\", \"sizeref\": 1908.09, \"symbol\": \"circle\"}, \"mode\": \"markers\", \"name\": \"\\ud55c\\uad6d\\ud1a0\\uc694\\ud0c0\\uc790\\ub3d9\\ucc28\", \"orientation\": \"v\", \"showlegend\": true, \"type\": \"scatter\", \"x\": [6842467425.0], \"xaxis\": \"x\", \"y\": [1969808970.0], \"yaxis\": \"y\"}, {\"hovertemplate\": \"Advertiser=\\ud55c\\ubd88\\ubaa8\\ud130\\uc2a4<br>\\uc2dc\\uccad\\uc790\\uc218=%{x}<br>\\ub3c4\\ub2ec\\uc790\\uc218=%{y}<br>\\uad11\\uace0\\ud69f\\uc218=%{marker.size}<extra></extra>\", \"legendgroup\": \"\\ud55c\\ubd88\\ubaa8\\ud130\\uc2a4\", \"marker\": {\"color\": \"#636efa\", \"size\": [141852.0], \"sizemode\": \"area\", \"sizeref\": 1908.09, \"symbol\": \"circle\"}, \"mode\": \"markers\", \"name\": \"\\ud55c\\ubd88\\ubaa8\\ud130\\uc2a4\", \"orientation\": \"v\", \"showlegend\": true, \"type\": \"scatter\", \"x\": [1033016795.0], \"xaxis\": \"x\", \"y\": [449207365.0], \"yaxis\": \"y\"}, {\"hovertemplate\": \"Advertiser=\\ud63c\\ub2e4\\ucf54\\ub9ac\\uc544<br>\\uc2dc\\uccad\\uc790\\uc218=%{x}<br>\\ub3c4\\ub2ec\\uc790\\uc218=%{y}<br>\\uad11\\uace0\\ud69f\\uc218=%{marker.size}<extra></extra>\", \"legendgroup\": \"\\ud63c\\ub2e4\\ucf54\\ub9ac\\uc544\", \"marker\": {\"color\": \"#EF553B\", \"size\": [78600.0], \"sizemode\": \"area\", \"sizeref\": 1908.09, \"symbol\": \"circle\"}, \"mode\": \"markers\", \"name\": \"\\ud63c\\ub2e4\\ucf54\\ub9ac\\uc544\", \"orientation\": \"v\", \"showlegend\": true, \"type\": \"scatter\", \"x\": [997350485.0], \"xaxis\": \"x\", \"y\": [421579453.0], \"yaxis\": \"y\"}],                        {\"legend\": {\"itemsizing\": \"constant\", \"title\": {\"text\": \"Advertiser\"}, \"tracegroupgap\": 0}, \"margin\": {\"t\": 60}, \"template\": {\"data\": {\"bar\": [{\"error_x\": {\"color\": \"#2a3f5f\"}, \"error_y\": {\"color\": \"#2a3f5f\"}, \"marker\": {\"line\": {\"color\": \"#E5ECF6\", \"width\": 0.5}}, \"type\": \"bar\"}], \"barpolar\": [{\"marker\": {\"line\": {\"color\": \"#E5ECF6\", \"width\": 0.5}}, \"type\": \"barpolar\"}], \"carpet\": [{\"aaxis\": {\"endlinecolor\": \"#2a3f5f\", \"gridcolor\": \"white\", \"linecolor\": \"white\", \"minorgridcolor\": \"white\", \"startlinecolor\": \"#2a3f5f\"}, \"baxis\": {\"endlinecolor\": \"#2a3f5f\", \"gridcolor\": \"white\", \"linecolor\": \"white\", \"minorgridcolor\": \"white\", \"startlinecolor\": \"#2a3f5f\"}, \"type\": \"carpet\"}], \"choropleth\": [{\"colorbar\": {\"outlinewidth\": 0, \"ticks\": \"\"}, \"type\": \"choropleth\"}], \"contour\": [{\"colorbar\": {\"outlinewidth\": 0, \"ticks\": \"\"}, \"colorscale\": [[0.0, \"#0d0887\"], [0.1111111111111111, \"#46039f\"], [0.2222222222222222, \"#7201a8\"], [0.3333333333333333, \"#9c179e\"], [0.4444444444444444, \"#bd3786\"], [0.5555555555555556, \"#d8576b\"], [0.6666666666666666, \"#ed7953\"], [0.7777777777777778, \"#fb9f3a\"], [0.8888888888888888, \"#fdca26\"], [1.0, \"#f0f921\"]], \"type\": \"contour\"}], \"contourcarpet\": [{\"colorbar\": {\"outlinewidth\": 0, \"ticks\": \"\"}, \"type\": \"contourcarpet\"}], \"heatmap\": [{\"colorbar\": {\"outlinewidth\": 0, \"ticks\": \"\"}, \"colorscale\": [[0.0, \"#0d0887\"], [0.1111111111111111, \"#46039f\"], [0.2222222222222222, \"#7201a8\"], [0.3333333333333333, \"#9c179e\"], [0.4444444444444444, \"#bd3786\"], [0.5555555555555556, \"#d8576b\"], [0.6666666666666666, \"#ed7953\"], [0.7777777777777778, \"#fb9f3a\"], [0.8888888888888888, \"#fdca26\"], [1.0, \"#f0f921\"]], \"type\": \"heatmap\"}], \"heatmapgl\": [{\"colorbar\": {\"outlinewidth\": 0, \"ticks\": \"\"}, \"colorscale\": [[0.0, \"#0d0887\"], [0.1111111111111111, \"#46039f\"], [0.2222222222222222, \"#7201a8\"], [0.3333333333333333, \"#9c179e\"], [0.4444444444444444, \"#bd3786\"], [0.5555555555555556, \"#d8576b\"], [0.6666666666666666, \"#ed7953\"], [0.7777777777777778, \"#fb9f3a\"], [0.8888888888888888, \"#fdca26\"], [1.0, \"#f0f921\"]], \"type\": \"heatmapgl\"}], \"histogram\": [{\"marker\": {\"colorbar\": {\"outlinewidth\": 0, \"ticks\": \"\"}}, \"type\": \"histogram\"}], \"histogram2d\": [{\"colorbar\": {\"outlinewidth\": 0, \"ticks\": \"\"}, \"colorscale\": [[0.0, \"#0d0887\"], [0.1111111111111111, \"#46039f\"], [0.2222222222222222, \"#7201a8\"], [0.3333333333333333, \"#9c179e\"], [0.4444444444444444, \"#bd3786\"], [0.5555555555555556, \"#d8576b\"], [0.6666666666666666, \"#ed7953\"], [0.7777777777777778, \"#fb9f3a\"], [0.8888888888888888, \"#fdca26\"], [1.0, \"#f0f921\"]], \"type\": \"histogram2d\"}], \"histogram2dcontour\": [{\"colorbar\": {\"outlinewidth\": 0, \"ticks\": \"\"}, \"colorscale\": [[0.0, \"#0d0887\"], [0.1111111111111111, \"#46039f\"], [0.2222222222222222, \"#7201a8\"], [0.3333333333333333, \"#9c179e\"], [0.4444444444444444, \"#bd3786\"], [0.5555555555555556, \"#d8576b\"], [0.6666666666666666, \"#ed7953\"], [0.7777777777777778, \"#fb9f3a\"], [0.8888888888888888, \"#fdca26\"], [1.0, \"#f0f921\"]], \"type\": \"histogram2dcontour\"}], \"mesh3d\": [{\"colorbar\": {\"outlinewidth\": 0, \"ticks\": \"\"}, \"type\": \"mesh3d\"}], \"parcoords\": [{\"line\": {\"colorbar\": {\"outlinewidth\": 0, \"ticks\": \"\"}}, \"type\": \"parcoords\"}], \"pie\": [{\"automargin\": true, \"type\": \"pie\"}], \"scatter\": [{\"marker\": {\"colorbar\": {\"outlinewidth\": 0, \"ticks\": \"\"}}, \"type\": \"scatter\"}], \"scatter3d\": [{\"line\": {\"colorbar\": {\"outlinewidth\": 0, \"ticks\": \"\"}}, \"marker\": {\"colorbar\": {\"outlinewidth\": 0, \"ticks\": \"\"}}, \"type\": \"scatter3d\"}], \"scattercarpet\": [{\"marker\": {\"colorbar\": {\"outlinewidth\": 0, \"ticks\": \"\"}}, \"type\": \"scattercarpet\"}], \"scattergeo\": [{\"marker\": {\"colorbar\": {\"outlinewidth\": 0, \"ticks\": \"\"}}, \"type\": \"scattergeo\"}], \"scattergl\": [{\"marker\": {\"colorbar\": {\"outlinewidth\": 0, \"ticks\": \"\"}}, \"type\": \"scattergl\"}], \"scattermapbox\": [{\"marker\": {\"colorbar\": {\"outlinewidth\": 0, \"ticks\": \"\"}}, \"type\": \"scattermapbox\"}], \"scatterpolar\": [{\"marker\": {\"colorbar\": {\"outlinewidth\": 0, \"ticks\": \"\"}}, \"type\": \"scatterpolar\"}], \"scatterpolargl\": [{\"marker\": {\"colorbar\": {\"outlinewidth\": 0, \"ticks\": \"\"}}, \"type\": \"scatterpolargl\"}], \"scatterternary\": [{\"marker\": {\"colorbar\": {\"outlinewidth\": 0, \"ticks\": \"\"}}, \"type\": \"scatterternary\"}], \"surface\": [{\"colorbar\": {\"outlinewidth\": 0, \"ticks\": \"\"}, \"colorscale\": [[0.0, \"#0d0887\"], [0.1111111111111111, \"#46039f\"], [0.2222222222222222, \"#7201a8\"], [0.3333333333333333, \"#9c179e\"], [0.4444444444444444, \"#bd3786\"], [0.5555555555555556, \"#d8576b\"], [0.6666666666666666, \"#ed7953\"], [0.7777777777777778, \"#fb9f3a\"], [0.8888888888888888, \"#fdca26\"], [1.0, \"#f0f921\"]], \"type\": \"surface\"}], \"table\": [{\"cells\": {\"fill\": {\"color\": \"#EBF0F8\"}, \"line\": {\"color\": \"white\"}}, \"header\": {\"fill\": {\"color\": \"#C8D4E3\"}, \"line\": {\"color\": \"white\"}}, \"type\": \"table\"}]}, \"layout\": {\"annotationdefaults\": {\"arrowcolor\": \"#2a3f5f\", \"arrowhead\": 0, \"arrowwidth\": 1}, \"autotypenumbers\": \"strict\", \"coloraxis\": {\"colorbar\": {\"outlinewidth\": 0, \"ticks\": \"\"}}, \"colorscale\": {\"diverging\": [[0, \"#8e0152\"], [0.1, \"#c51b7d\"], [0.2, \"#de77ae\"], [0.3, \"#f1b6da\"], [0.4, \"#fde0ef\"], [0.5, \"#f7f7f7\"], [0.6, \"#e6f5d0\"], [0.7, \"#b8e186\"], [0.8, \"#7fbc41\"], [0.9, \"#4d9221\"], [1, \"#276419\"]], \"sequential\": [[0.0, \"#0d0887\"], [0.1111111111111111, \"#46039f\"], [0.2222222222222222, \"#7201a8\"], [0.3333333333333333, \"#9c179e\"], [0.4444444444444444, \"#bd3786\"], [0.5555555555555556, \"#d8576b\"], [0.6666666666666666, \"#ed7953\"], [0.7777777777777778, \"#fb9f3a\"], [0.8888888888888888, \"#fdca26\"], [1.0, \"#f0f921\"]], \"sequentialminus\": [[0.0, \"#0d0887\"], [0.1111111111111111, \"#46039f\"], [0.2222222222222222, \"#7201a8\"], [0.3333333333333333, \"#9c179e\"], [0.4444444444444444, \"#bd3786\"], [0.5555555555555556, \"#d8576b\"], [0.6666666666666666, \"#ed7953\"], [0.7777777777777778, \"#fb9f3a\"], [0.8888888888888888, \"#fdca26\"], [1.0, \"#f0f921\"]]}, \"colorway\": [\"#636efa\", \"#EF553B\", \"#00cc96\", \"#ab63fa\", \"#FFA15A\", \"#19d3f3\", \"#FF6692\", \"#B6E880\", \"#FF97FF\", \"#FECB52\"], \"font\": {\"color\": \"#2a3f5f\"}, \"geo\": {\"bgcolor\": \"white\", \"lakecolor\": \"white\", \"landcolor\": \"#E5ECF6\", \"showlakes\": true, \"showland\": true, \"subunitcolor\": \"white\"}, \"hoverlabel\": {\"align\": \"left\"}, \"hovermode\": \"closest\", \"mapbox\": {\"style\": \"light\"}, \"paper_bgcolor\": \"white\", \"plot_bgcolor\": \"#E5ECF6\", \"polar\": {\"angularaxis\": {\"gridcolor\": \"white\", \"linecolor\": \"white\", \"ticks\": \"\"}, \"bgcolor\": \"#E5ECF6\", \"radialaxis\": {\"gridcolor\": \"white\", \"linecolor\": \"white\", \"ticks\": \"\"}}, \"scene\": {\"xaxis\": {\"backgroundcolor\": \"#E5ECF6\", \"gridcolor\": \"white\", \"gridwidth\": 2, \"linecolor\": \"white\", \"showbackground\": true, \"ticks\": \"\", \"zerolinecolor\": \"white\"}, \"yaxis\": {\"backgroundcolor\": \"#E5ECF6\", \"gridcolor\": \"white\", \"gridwidth\": 2, \"linecolor\": \"white\", \"showbackground\": true, \"ticks\": \"\", \"zerolinecolor\": \"white\"}, \"zaxis\": {\"backgroundcolor\": \"#E5ECF6\", \"gridcolor\": \"white\", \"gridwidth\": 2, \"linecolor\": \"white\", \"showbackground\": true, \"ticks\": \"\", \"zerolinecolor\": \"white\"}}, \"shapedefaults\": {\"line\": {\"color\": \"#2a3f5f\"}}, \"ternary\": {\"aaxis\": {\"gridcolor\": \"white\", \"linecolor\": \"white\", \"ticks\": \"\"}, \"baxis\": {\"gridcolor\": \"white\", \"linecolor\": \"white\", \"ticks\": \"\"}, \"bgcolor\": \"#E5ECF6\", \"caxis\": {\"gridcolor\": \"white\", \"linecolor\": \"white\", \"ticks\": \"\"}}, \"title\": {\"x\": 0.05}, \"xaxis\": {\"automargin\": true, \"gridcolor\": \"white\", \"linecolor\": \"white\", \"ticks\": \"\", \"title\": {\"standoff\": 15}, \"zerolinecolor\": \"white\", \"zerolinewidth\": 2}, \"yaxis\": {\"automargin\": true, \"gridcolor\": \"white\", \"linecolor\": \"white\", \"ticks\": \"\", \"title\": {\"standoff\": 15}, \"zerolinecolor\": \"white\", \"zerolinewidth\": 2}}}, \"xaxis\": {\"anchor\": \"y\", \"domain\": [0.0, 1.0], \"title\": {\"text\": \"\\uc2dc\\uccad\\uc790\\uc218\"}}, \"yaxis\": {\"anchor\": \"x\", \"domain\": [0.0, 1.0], \"title\": {\"text\": \"\\ub3c4\\ub2ec\\uc790\\uc218\"}}},                        {\"responsive\": true}                    ).then(function(){\n",
       "                            \n",
       "var gd = document.getElementById('85ca9628-c471-43fe-810f-378d2c90ca24');\n",
       "var x = new MutationObserver(function (mutations, observer) {{\n",
       "        var display = window.getComputedStyle(gd).display;\n",
       "        if (!display || display === 'none') {{\n",
       "            console.log([gd, 'removed!']);\n",
       "            Plotly.purge(gd);\n",
       "            observer.disconnect();\n",
       "        }}\n",
       "}});\n",
       "\n",
       "// Listen for the removal of the full notebook cells\n",
       "var notebookContainer = gd.closest('#notebook-container');\n",
       "if (notebookContainer) {{\n",
       "    x.observe(notebookContainer, {childList: true});\n",
       "}}\n",
       "\n",
       "// Listen for the clearing of the current output cell\n",
       "var outputEl = gd.closest('.output');\n",
       "if (outputEl) {{\n",
       "    x.observe(outputEl, {childList: true});\n",
       "}}\n",
       "\n",
       "                        })                };                });            </script>        </div>"
      ]
     },
     "metadata": {},
     "output_type": "display_data"
    }
   ],
   "source": [
    "# 브랜드별 도달자수&시청자수\n",
    "# 도달자수와 시청자수는 대체로 비례하는 편\n",
    "# 굉고횟수가 많을수록 도달자 및 시청자가 많다\n",
    "# 도요타가 압도적 1등\n",
    "fig = px.scatter(br_pivot, size = br_pivot['광고횟수'],y= br_pivot['도달자수'], x=br_pivot['시청자수'],\n",
    "                 color=br_pivot.index, labels={'x':\"시청자수\",\n",
    "                                              'y':\"도달자수\",\n",
    "                                              'species':\"Brand\"})\n",
    "fig.show()"
   ]
  },
  {
   "cell_type": "code",
   "execution_count": 6,
   "id": "0f51caac",
   "metadata": {},
   "outputs": [
    {
     "data": {
      "text/html": [
       "<div>\n",
       "<style scoped>\n",
       "    .dataframe tbody tr th:only-of-type {\n",
       "        vertical-align: middle;\n",
       "    }\n",
       "\n",
       "    .dataframe tbody tr th {\n",
       "        vertical-align: top;\n",
       "    }\n",
       "\n",
       "    .dataframe thead th {\n",
       "        text-align: right;\n",
       "    }\n",
       "</style>\n",
       "<table border=\"1\" class=\"dataframe\">\n",
       "  <thead>\n",
       "    <tr style=\"text-align: right;\">\n",
       "      <th></th>\n",
       "      <th></th>\n",
       "      <th>GRP</th>\n",
       "      <th>광고횟수</th>\n",
       "      <th>도달자수</th>\n",
       "      <th>시청자수</th>\n",
       "    </tr>\n",
       "    <tr>\n",
       "      <th>Advertiser</th>\n",
       "      <th>Product</th>\n",
       "      <th></th>\n",
       "      <th></th>\n",
       "      <th></th>\n",
       "      <th></th>\n",
       "    </tr>\n",
       "  </thead>\n",
       "  <tbody>\n",
       "    <tr>\n",
       "      <th rowspan=\"5\" valign=\"top\">BMW코리아</th>\n",
       "      <th>BMW3시리즈</th>\n",
       "      <td>77.063333</td>\n",
       "      <td>814.400000</td>\n",
       "      <td>1614442.0</td>\n",
       "      <td>5497157.0</td>\n",
       "    </tr>\n",
       "    <tr>\n",
       "      <th>BMW6시리즈그란투리스모</th>\n",
       "      <td>83.833333</td>\n",
       "      <td>404.500000</td>\n",
       "      <td>1770112.0</td>\n",
       "      <td>5879246.0</td>\n",
       "    </tr>\n",
       "    <tr>\n",
       "      <th>BMWI8</th>\n",
       "      <td>80.133333</td>\n",
       "      <td>8.000000</td>\n",
       "      <td>1247837.0</td>\n",
       "      <td>4886355.0</td>\n",
       "    </tr>\n",
       "    <tr>\n",
       "      <th>BMWM5</th>\n",
       "      <td>113.204167</td>\n",
       "      <td>808.000000</td>\n",
       "      <td>2200534.0</td>\n",
       "      <td>8039469.0</td>\n",
       "    </tr>\n",
       "    <tr>\n",
       "      <th>BMWX</th>\n",
       "      <td>24.091667</td>\n",
       "      <td>200.000000</td>\n",
       "      <td>1040607.0</td>\n",
       "      <td>1744158.0</td>\n",
       "    </tr>\n",
       "    <tr>\n",
       "      <th>...</th>\n",
       "      <th>...</th>\n",
       "      <td>...</td>\n",
       "      <td>...</td>\n",
       "      <td>...</td>\n",
       "      <td>...</td>\n",
       "    </tr>\n",
       "    <tr>\n",
       "      <th>한불모터스</th>\n",
       "      <th>한불푸조308</th>\n",
       "      <td>35.083333</td>\n",
       "      <td>122.333333</td>\n",
       "      <td>1117382.0</td>\n",
       "      <td>2125444.0</td>\n",
       "    </tr>\n",
       "    <tr>\n",
       "      <th rowspan=\"4\" valign=\"top\">혼다코리아</th>\n",
       "      <th>혼다ACCORD</th>\n",
       "      <td>44.434783</td>\n",
       "      <td>205.913043</td>\n",
       "      <td>1153806.0</td>\n",
       "      <td>3202897.0</td>\n",
       "    </tr>\n",
       "    <tr>\n",
       "      <th>혼다CR-V</th>\n",
       "      <td>46.661905</td>\n",
       "      <td>433.000000</td>\n",
       "      <td>1457364.0</td>\n",
       "      <td>3410130.0</td>\n",
       "    </tr>\n",
       "    <tr>\n",
       "      <th>혼다CR-V&amp;파일럿</th>\n",
       "      <td>32.245833</td>\n",
       "      <td>209.750000</td>\n",
       "      <td>1136581.0</td>\n",
       "      <td>2315791.0</td>\n",
       "    </tr>\n",
       "    <tr>\n",
       "      <th>혼다파일럿</th>\n",
       "      <td>33.697778</td>\n",
       "      <td>97.533333</td>\n",
       "      <td>1251752.0</td>\n",
       "      <td>2370231.0</td>\n",
       "    </tr>\n",
       "  </tbody>\n",
       "</table>\n",
       "<p>155 rows × 4 columns</p>\n",
       "</div>"
      ],
      "text/plain": [
       "                                 GRP        광고횟수       도달자수       시청자수\n",
       "Advertiser Product                                                    \n",
       "BMW코리아     BMW3시리즈         77.063333  814.400000  1614442.0  5497157.0\n",
       "           BMW6시리즈그란투리스모   83.833333  404.500000  1770112.0  5879246.0\n",
       "           BMWI8           80.133333    8.000000  1247837.0  4886355.0\n",
       "           BMWM5          113.204167  808.000000  2200534.0  8039469.0\n",
       "           BMWX            24.091667  200.000000  1040607.0  1744158.0\n",
       "...                              ...         ...        ...        ...\n",
       "한불모터스      한불푸조308         35.083333  122.333333  1117382.0  2125444.0\n",
       "혼다코리아      혼다ACCORD        44.434783  205.913043  1153806.0  3202897.0\n",
       "           혼다CR-V          46.661905  433.000000  1457364.0  3410130.0\n",
       "           혼다CR-V&파일럿      32.245833  209.750000  1136581.0  2315791.0\n",
       "           혼다파일럿           33.697778   97.533333  1251752.0  2370231.0\n",
       "\n",
       "[155 rows x 4 columns]"
      ]
     },
     "execution_count": 6,
     "metadata": {},
     "output_type": "execute_result"
    }
   ],
   "source": [
    "# brand, products\n",
    "br_pr = original[[\"Advertiser\",\"Product\",\"광고횟수\",\"GRP\",\"도달자수\",\"시청자수\"]].copy()\n",
    "br_pr_pivot = pd.pivot_table(br_pr,index=['Advertiser','Product'],\n",
    "                             aggfunc={\"광고횟수\":'mean',\"GRP\":'mean',\"도달자수\":'mean',\"시청자수\":'mean'})\n",
    "br_pr_pivot['도달자수'] = round(br_pr_pivot['도달자수'])\n",
    "br_pr_pivot['시청자수'] = round(br_pr_pivot['시청자수'])\n",
    "br_pr_pivot"
   ]
  },
  {
   "cell_type": "code",
   "execution_count": 17,
   "id": "d4a5d9ad",
   "metadata": {},
   "outputs": [
    {
     "data": {
      "text/plain": [
       "'BMW코리아'"
      ]
     },
     "execution_count": 17,
     "metadata": {},
     "output_type": "execute_result"
    }
   ],
   "source": [
    "br_pr_pivot.index[3][0]"
   ]
  },
  {
   "cell_type": "code",
   "execution_count": 27,
   "id": "3a293ed1",
   "metadata": {},
   "outputs": [
    {
     "data": {
      "application/vnd.plotly.v1+json": {
       "config": {
        "plotlyServerURL": "https://plot.ly"
       },
       "data": [
        {
         "hovertemplate": "color=BMW코리아<br>광고횟수=%{x}<br>시청자수=%{y}<br>GRP=%{marker.size}<extra></extra>",
         "legendgroup": "BMW코리아",
         "marker": {
          "color": "#636efa",
          "size": [
           77.06333333333333,
           83.83333333333334,
           80.13333333333331,
           113.20416666666667,
           24.09166666666667,
           73.44999999999999,
           3.116666666666667,
           46.86666666666667,
           33.98333333333333,
           83.46249999999999,
           53.54999999999999,
           255.1916666666667,
           138.28000000000003,
           218.98333333333338,
           134.62499999999997,
           103.21851851851854,
           109.31250000000001,
           102.22333333333331
          ],
          "sizemode": "area",
          "sizeref": 0.9413958333333333,
          "symbol": "circle"
         },
         "mode": "markers",
         "name": "BMW코리아",
         "orientation": "v",
         "showlegend": true,
         "type": "scatter",
         "x": [
          814.4,
          404.5,
          8,
          808,
          200,
          325.5,
          2,
          314,
          394.25,
          78.5,
          71.5,
          1393.5,
          886.4,
          1468.5,
          1084.5,
          645,
          298.375,
          400.1333333333333
         ],
         "xaxis": "x",
         "y": [
          5497157,
          5879246,
          4886355,
          8039469,
          1744158,
          5166464,
          230023,
          3395226,
          2412478,
          5971090,
          3563930,
          18650103,
          8698327,
          15456804,
          9559603,
          7139107,
          7786005,
          6775548
         ],
         "yaxis": "y"
        },
        {
         "hovertemplate": "color=FCA코리아<br>광고횟수=%{x}<br>시청자수=%{y}<br>GRP=%{marker.size}<extra></extra>",
         "legendgroup": "FCA코리아",
         "marker": {
          "color": "#EF553B",
          "size": [
           207.85555555555553,
           147.85
          ],
          "sizemode": "area",
          "sizeref": 0.9413958333333333,
          "symbol": "circle"
         },
         "mode": "markers",
         "name": "FCA코리아",
         "orientation": "v",
         "showlegend": true,
         "type": "scatter",
         "x": [
          780.5,
          347.5
         ],
         "xaxis": "x",
         "y": [
          15175397,
          10784230
         ],
         "yaxis": "y"
        },
        {
         "hovertemplate": "color=FMK<br>광고횟수=%{x}<br>시청자수=%{y}<br>GRP=%{marker.size}<extra></extra>",
         "legendgroup": "FMK",
         "marker": {
          "color": "#00cc96",
          "size": [
           44.6452380952381,
           6.449999999999999,
           55.66111111111111,
           28.92476190476191,
           26.051388888888884,
           7.788888888888887,
           23.261111111111106
          ],
          "sizemode": "area",
          "sizeref": 0.9413958333333333,
          "symbol": "circle"
         },
         "mode": "markers",
         "name": "FMK",
         "orientation": "v",
         "showlegend": true,
         "type": "scatter",
         "x": [
          489.85714285714283,
          316.3333333333333,
          175,
          461.9428571428571,
          271.8333333333333,
          328.6666666666667,
          565.6666666666666
         ],
         "xaxis": "x",
         "y": [
          2655569,
          455451,
          3981050,
          2045607,
          1833962,
          561488,
          1666141
         ],
         "yaxis": "y"
        },
        {
         "hovertemplate": "color=기흥인터내셔널<br>광고횟수=%{x}<br>시청자수=%{y}<br>GRP=%{marker.size}<extra></extra>",
         "legendgroup": "기흥인터내셔널",
         "marker": {
          "color": "#ab63fa",
          "size": [
           7.750000000000001,
           35.21666666666666
          ],
          "sizemode": "area",
          "sizeref": 0.9413958333333333,
          "symbol": "circle"
         },
         "mode": "markers",
         "name": "기흥인터내셔널",
         "orientation": "v",
         "showlegend": true,
         "type": "scatter",
         "x": [
          1,
          8.5
         ],
         "xaxis": "x",
         "y": [
          567503,
          2525867
         ],
         "yaxis": "y"
        },
        {
         "hovertemplate": "color=더클래스효성<br>광고횟수=%{x}<br>시청자수=%{y}<br>GRP=%{marker.size}<extra></extra>",
         "legendgroup": "더클래스효성",
         "marker": {
          "color": "#FFA15A",
          "size": [
           26.072222222222226,
           26.191666666666663,
           23.65
          ],
          "sizemode": "area",
          "sizeref": 0.9413958333333333,
          "symbol": "circle"
         },
         "mode": "markers",
         "name": "더클래스효성",
         "orientation": "v",
         "showlegend": true,
         "type": "scatter",
         "x": [
          97.33333333333333,
          104,
          83
         ],
         "xaxis": "x",
         "y": [
          1660171,
          1787059,
          1640370
         ],
         "yaxis": "y"
        },
        {
         "hovertemplate": "color=도이치모터스<br>광고횟수=%{x}<br>시청자수=%{y}<br>GRP=%{marker.size}<extra></extra>",
         "legendgroup": "도이치모터스",
         "marker": {
          "color": "#19d3f3",
          "size": [
           13.983333333333334
          ],
          "sizemode": "area",
          "sizeref": 0.9413958333333333,
          "symbol": "circle"
         },
         "mode": "markers",
         "name": "도이치모터스",
         "orientation": "v",
         "showlegend": true,
         "type": "scatter",
         "x": [
          5
         ],
         "xaxis": "x",
         "y": [
          1003720
         ],
         "yaxis": "y"
        },
        {
         "hovertemplate": "color=메르세데스벤츠코리아<br>광고횟수=%{x}<br>시청자수=%{y}<br>GRP=%{marker.size}<extra></extra>",
         "legendgroup": "메르세데스벤츠코리아",
         "marker": {
          "color": "#FF6692",
          "size": [
           87.0148148148148,
           163.99444444444444,
           80.31666666666666,
           43.26111111111111,
           37.550000000000004,
           78.63333333333334,
           125.83076923076922,
           41.16111111111111,
           86.64999999999999,
           45.94166666666667,
           68.40833333333335
          ],
          "sizemode": "area",
          "sizeref": 0.9413958333333333,
          "symbol": "circle"
         },
         "mode": "markers",
         "name": "메르세데스벤츠코리아",
         "orientation": "v",
         "showlegend": true,
         "type": "scatter",
         "x": [
          151.05555555555554,
          284.3333333333333,
          119.5,
          83.66666666666667,
          327,
          107,
          266.3076923076923,
          202,
          102,
          293.5,
          144.33333333333334
         ],
         "xaxis": "x",
         "y": [
          6278819,
          11713037,
          5787337,
          3069545,
          2265134,
          5573775,
          8849486,
          2952616,
          6308496,
          3271723,
          4842412
         ],
         "yaxis": "y"
        },
        {
         "hovertemplate": "color=볼보자동차코리아<br>광고횟수=%{x}<br>시청자수=%{y}<br>GRP=%{marker.size}<extra></extra>",
         "legendgroup": "볼보자동차코리아",
         "marker": {
          "color": "#B6E880",
          "size": [
           172.56,
           371.6611111111111,
           177.5901960784314,
           60.01999999999999,
           133.23039215686276,
           66.25252525252526,
           60.36538461538463
          ],
          "sizemode": "area",
          "sizeref": 0.9413958333333333,
          "symbol": "circle"
         },
         "mode": "markers",
         "name": "볼보자동차코리아",
         "orientation": "v",
         "showlegend": true,
         "type": "scatter",
         "x": [
          233.1,
          1415.6666666666667,
          854.7647058823529,
          324.6,
          657.9411764705883,
          387.8787878787879,
          635.1538461538462
         ],
         "xaxis": "x",
         "y": [
          12553505,
          26678243,
          12789156,
          4268330,
          9530226,
          4658295,
          4255214
         ],
         "yaxis": "y"
        },
        {
         "hovertemplate": "color=비워크<br>광고횟수=%{x}<br>시청자수=%{y}<br>GRP=%{marker.size}<extra></extra>",
         "legendgroup": "비워크",
         "marker": {
          "color": "#FF97FF",
          "size": [
           3.1750000000000003
          ],
          "sizemode": "area",
          "sizeref": 0.9413958333333333,
          "symbol": "circle"
         },
         "mode": "markers",
         "name": "비워크",
         "orientation": "v",
         "showlegend": true,
         "type": "scatter",
         "x": [
          55
         ],
         "xaxis": "x",
         "y": [
          225209
         ],
         "yaxis": "y"
        },
        {
         "hovertemplate": "color=아우디코리아<br>광고횟수=%{x}<br>시청자수=%{y}<br>GRP=%{marker.size}<extra></extra>",
         "legendgroup": "아우디코리아",
         "marker": {
          "color": "#FECB52",
          "size": [
           29.375000000000004,
           100.00666666666667,
           9.316666666666668,
           84.88333333333334,
           175.1814814814815,
           66.475,
           16.733333333333334,
           126.41666666666669,
           136.5,
           70.47916666666666,
           82.59999999999998,
           132.29166666666666,
           131.93854166666668
          ],
          "sizemode": "area",
          "sizeref": 0.9413958333333333,
          "symbol": "circle"
         },
         "mode": "markers",
         "name": "아우디코리아",
         "orientation": "v",
         "showlegend": true,
         "type": "scatter",
         "x": [
          216.5,
          210.4,
          26,
          388.5,
          490.44444444444446,
          157,
          14,
          252.5,
          408.6666666666667,
          486,
          340.5,
          448.25,
          434.5
         ],
         "xaxis": "x",
         "y": [
          1980859,
          6534044,
          682709,
          6119054,
          12584806,
          4222844,
          1050772,
          9343571,
          9247659,
          5175621,
          5463719,
          9744939,
          9328570
         ],
         "yaxis": "y"
        },
        {
         "hovertemplate": "color=아우디폭스바겐코리아<br>광고횟수=%{x}<br>시청자수=%{y}<br>GRP=%{marker.size}<extra></extra>",
         "legendgroup": "아우디폭스바겐코리아",
         "marker": {
          "color": "#636efa",
          "size": [
           94.28333333333335,
           115.64999999999999,
           151.75138888888887,
           157.6541666666667,
           14.533333333333331,
           126.96190476190473,
           57.549999999999976,
           31.745833333333334,
           376.55833333333334
          ],
          "sizemode": "area",
          "sizeref": 0.9413958333333333,
          "symbol": "circle"
         },
         "mode": "markers",
         "name": "아우디폭스바겐코리아",
         "orientation": "v",
         "showlegend": true,
         "type": "scatter",
         "x": [
          297.2,
          181,
          431.1666666666667,
          804.25,
          203,
          290.42857142857144,
          256,
          116.25,
          1297
         ],
         "xaxis": "x",
         "y": [
          6669392,
          8464882,
          10891257,
          11567163,
          958234,
          9135124,
          4243343,
          1925263,
          27468995
         ],
         "yaxis": "y"
        },
        {
         "hovertemplate": "color=에프씨에이코리아<br>광고횟수=%{x}<br>시청자수=%{y}<br>GRP=%{marker.size}<extra></extra>",
         "legendgroup": "에프씨에이코리아",
         "marker": {
          "color": "#EF553B",
          "size": [
           159.26333333333338,
           117.23636363636362,
           73.91111111111111,
           132.10833333333332,
           101.39166666666667
          ],
          "sizemode": "area",
          "sizeref": 0.9413958333333333,
          "symbol": "circle"
         },
         "mode": "markers",
         "name": "에프씨에이코리아",
         "orientation": "v",
         "showlegend": true,
         "type": "scatter",
         "x": [
          425.53333333333336,
          281.3636363636364,
          396.1666666666667,
          448.25,
          670.5
         ],
         "xaxis": "x",
         "y": [
          11417909,
          8420689,
          5333310,
          9415262,
          6351684
         ],
         "yaxis": "y"
        },
        {
         "hovertemplate": "color=재규어랜드로버코리아<br>광고횟수=%{x}<br>시청자수=%{y}<br>GRP=%{marker.size}<extra></extra>",
         "legendgroup": "재규어랜드로버코리아",
         "marker": {
          "color": "#00cc96",
          "size": [
           283.1791666666666,
           161.19444444444446,
           112.30000000000001,
           155.88833333333338,
           91.26666666666667,
           65.68194444444445,
           102.23666666666665,
           1.5916666666666666,
           19.77156862745098,
           272.10833333333335,
           23.677777777777788,
           161.79583333333335,
           80.49166666666666
          ],
          "sizemode": "area",
          "sizeref": 0.9413958333333333,
          "symbol": "circle"
         },
         "mode": "markers",
         "name": "재규어랜드로버코리아",
         "orientation": "v",
         "showlegend": true,
         "type": "scatter",
         "x": [
          324.75,
          508.6666666666667,
          483.5,
          527.4,
          217,
          325.75,
          204.8,
          2,
          140.88235294117646,
          1184.75,
          274.6666666666667,
          98.75,
          822
         ],
         "xaxis": "x",
         "y": [
          20182390,
          10288269,
          6873972,
          10059493,
          5719571,
          4634822,
          7375747,
          115655,
          1412776,
          19220585,
          1624462,
          11685585,
          5167142
         ],
         "yaxis": "y"
        },
        {
         "hovertemplate": "color=지엠아시아퍼시픽지역본부<br>광고횟수=%{x}<br>시청자수=%{y}<br>GRP=%{marker.size}<extra></extra>",
         "legendgroup": "지엠아시아퍼시픽지역본부",
         "marker": {
          "color": "#ab63fa",
          "size": [
           158.76666666666668,
           155.56666666666666,
           92.52121212121209,
           51.91203703703704,
           54.54583333333335
          ],
          "sizemode": "area",
          "sizeref": 0.9413958333333333,
          "symbol": "circle"
         },
         "mode": "markers",
         "name": "지엠아시아퍼시픽지역본부",
         "orientation": "v",
         "showlegend": true,
         "type": "scatter",
         "x": [
          953.6,
          756,
          919.7272727272727,
          399.22222222222223,
          545
         ],
         "xaxis": "x",
         "y": [
          11558817,
          11312352,
          6569107,
          3712801,
          3905473
         ],
         "yaxis": "y"
        },
        {
         "hovertemplate": "color=지엠코리아<br>광고횟수=%{x}<br>시청자수=%{y}<br>GRP=%{marker.size}<extra></extra>",
         "legendgroup": "지엠코리아",
         "marker": {
          "color": "#FFA15A",
          "size": [
           113.29705882352943,
           22.185416666666658
          ],
          "sizemode": "area",
          "sizeref": 0.9413958333333333,
          "symbol": "circle"
         },
         "mode": "markers",
         "name": "지엠코리아",
         "orientation": "v",
         "showlegend": true,
         "type": "scatter",
         "x": [
          1116.4117647058824,
          333
         ],
         "xaxis": "x",
         "y": [
          7728220,
          1580678
         ],
         "yaxis": "y"
        },
        {
         "hovertemplate": "color=캐딜락코리아<br>광고횟수=%{x}<br>시청자수=%{y}<br>GRP=%{marker.size}<extra></extra>",
         "legendgroup": "캐딜락코리아",
         "marker": {
          "color": "#19d3f3",
          "size": [
           71.48623188405796,
           84.24444444444444
          ],
          "sizemode": "area",
          "sizeref": 0.9413958333333333,
          "symbol": "circle"
         },
         "mode": "markers",
         "name": "캐딜락코리아",
         "orientation": "v",
         "showlegend": true,
         "type": "scatter",
         "x": [
          1009.9130434782609,
          1211.8
         ],
         "xaxis": "x",
         "y": [
          5011982,
          5958352
         ],
         "yaxis": "y"
        },
        {
         "hovertemplate": "color=포드세일즈서비스코리아<br>광고횟수=%{x}<br>시청자수=%{y}<br>GRP=%{marker.size}<extra></extra>",
         "legendgroup": "포드세일즈서비스코리아",
         "marker": {
          "color": "#FF6692",
          "size": [
           193.97222222222223,
           204.17962962962963,
           7.750000000000001,
           0,
           57.64,
           132.79821428571427,
           206.7600000000001,
           70.94999999999999
          ],
          "sizemode": "area",
          "sizeref": 0.9413958333333333,
          "symbol": "circle"
         },
         "mode": "markers",
         "name": "포드세일즈서비스코리아",
         "orientation": "v",
         "showlegend": true,
         "type": "scatter",
         "x": [
          1014.3333333333334,
          635.1111111111111,
          88,
          2,
          222.4,
          996.2857142857143,
          663.2,
          195.66666666666666
         ],
         "xaxis": "x",
         "y": [
          14381233,
          13903303,
          590438,
          0,
          3681835,
          9474979,
          13218480,
          4626542
         ],
         "yaxis": "y"
        },
        {
         "hovertemplate": "color=포르쉐코리아<br>광고횟수=%{x}<br>시청자수=%{y}<br>GRP=%{marker.size}<extra></extra>",
         "legendgroup": "포르쉐코리아",
         "marker": {
          "color": "#B6E880",
          "size": [
           92.8388888888889
          ],
          "sizemode": "area",
          "sizeref": 0.9413958333333333,
          "symbol": "circle"
         },
         "mode": "markers",
         "name": "포르쉐코리아",
         "orientation": "v",
         "showlegend": true,
         "type": "scatter",
         "x": [
          194.33333333333334
         ],
         "xaxis": "x",
         "y": [
          6522015
         ],
         "yaxis": "y"
        },
        {
         "hovertemplate": "color=한국닛산<br>광고횟수=%{x}<br>시청자수=%{y}<br>GRP=%{marker.size}<extra></extra>",
         "legendgroup": "한국닛산",
         "marker": {
          "color": "#FF97FF",
          "size": [
           107.6357142857143,
           129.90238095238092,
           45.208333333333336,
           29.877777777777776,
           186.45370370370372
          ],
          "sizemode": "area",
          "sizeref": 0.9413958333333333,
          "symbol": "circle"
         },
         "mode": "markers",
         "name": "한국닛산",
         "orientation": "v",
         "showlegend": true,
         "type": "scatter",
         "x": [
          1151.2857142857142,
          807,
          504,
          230,
          780.6666666666666
         ],
         "xaxis": "x",
         "y": [
          7573381,
          9344539,
          3133500,
          2030448,
          13481053
         ],
         "yaxis": "y"
        },
        {
         "hovertemplate": "color=한국토요타자동차<br>광고횟수=%{x}<br>시청자수=%{y}<br>GRP=%{marker.size}<extra></extra>",
         "legendgroup": "한국토요타자동차",
         "marker": {
          "color": "#FECB52",
          "size": [
           0.7933333333333332,
           64.89270833333332,
           113.98500000000003,
           163.72000000000006,
           133.88333333333333,
           71.06666666666666,
           59.103333333333346,
           135.43666666666667,
           117.35000000000001,
           83.1416666666667,
           85.34074074074073,
           23.944444444444443,
           133.32777777777778,
           184.3416666666667,
           35.016666666666666,
           27.450000000000003,
           109.26333333333332,
           149.74250000000004,
           101.98472222222225,
           137.92222222222225,
           83.10937499999999,
           63.8,
           65.9875
          ],
          "sizemode": "area",
          "sizeref": 0.9413958333333333,
          "symbol": "circle"
         },
         "mode": "markers",
         "name": "한국토요타자동차",
         "orientation": "v",
         "showlegend": true,
         "type": "scatter",
         "x": [
          12.8,
          314.875,
          1069.55,
          899.4,
          864,
          569,
          1153.2,
          628,
          873.6666666666666,
          538.75,
          678.4444444444445,
          640.3333333333334,
          1719.5,
          1018.75,
          989,
          276,
          549.6,
          1318.45,
          543.5833333333334,
          1289.3333333333333,
          340.4375,
          603.6666666666666,
          354.25
         ],
         "xaxis": "x",
         "y": [
          57407,
          4321953,
          8154904,
          10271005,
          8322055,
          4962430,
          4251794,
          9599186,
          8441969,
          5666326,
          5330261,
          1736527,
          9429987,
          13186485,
          2601241,
          1995897,
          7777785,
          10633714,
          7206431,
          10002972,
          5353584,
          4515841,
          4590264
         ],
         "yaxis": "y"
        },
        {
         "hovertemplate": "color=한불모터스<br>광고횟수=%{x}<br>시청자수=%{y}<br>GRP=%{marker.size}<extra></extra>",
         "legendgroup": "한불모터스",
         "marker": {
          "color": "#636efa",
          "size": [
           44.67333333333332,
           6.261111111111112,
           57.03958333333333,
           13.383333333333335,
           12.25,
           11.15625,
           22.748611111111103,
           42.330000000000005,
           41.83333333333333,
           13.988888888888887,
           32.740277777777784,
           21.942592592592593,
           35.083333333333336
          ],
          "sizemode": "area",
          "sizeref": 0.9413958333333333,
          "symbol": "circle"
         },
         "mode": "markers",
         "name": "한불모터스",
         "orientation": "v",
         "showlegend": true,
         "type": "scatter",
         "x": [
          512,
          103.33333333333333,
          229.625,
          299.5,
          245,
          262.875,
          254.41666666666666,
          335.73333333333335,
          88,
          266.6666666666667,
          241.66666666666666,
          416,
          122.33333333333333
         ],
         "xaxis": "x",
         "y": [
          3213932,
          452958,
          3719058,
          964216,
          879486,
          791548,
          1492460,
          2953452,
          2675466,
          989732,
          2291386,
          1568804,
          2125444
         ],
         "yaxis": "y"
        },
        {
         "hovertemplate": "color=혼다코리아<br>광고횟수=%{x}<br>시청자수=%{y}<br>GRP=%{marker.size}<extra></extra>",
         "legendgroup": "혼다코리아",
         "marker": {
          "color": "#EF553B",
          "size": [
           44.434782608695656,
           46.66190476190478,
           32.24583333333334,
           33.69777777777779
          ],
          "sizemode": "area",
          "sizeref": 0.9413958333333333,
          "symbol": "circle"
         },
         "mode": "markers",
         "name": "혼다코리아",
         "orientation": "v",
         "showlegend": true,
         "type": "scatter",
         "x": [
          205.91304347826087,
          433,
          209.75,
          97.53333333333333
         ],
         "xaxis": "x",
         "y": [
          3202897,
          3410130,
          2315791,
          2370231
         ],
         "yaxis": "y"
        }
       ],
       "layout": {
        "legend": {
         "itemsizing": "constant",
         "title": {
          "text": "color"
         },
         "tracegroupgap": 0
        },
        "margin": {
         "t": 60
        },
        "template": {
         "data": {
          "bar": [
           {
            "error_x": {
             "color": "#2a3f5f"
            },
            "error_y": {
             "color": "#2a3f5f"
            },
            "marker": {
             "line": {
              "color": "#E5ECF6",
              "width": 0.5
             }
            },
            "type": "bar"
           }
          ],
          "barpolar": [
           {
            "marker": {
             "line": {
              "color": "#E5ECF6",
              "width": 0.5
             }
            },
            "type": "barpolar"
           }
          ],
          "carpet": [
           {
            "aaxis": {
             "endlinecolor": "#2a3f5f",
             "gridcolor": "white",
             "linecolor": "white",
             "minorgridcolor": "white",
             "startlinecolor": "#2a3f5f"
            },
            "baxis": {
             "endlinecolor": "#2a3f5f",
             "gridcolor": "white",
             "linecolor": "white",
             "minorgridcolor": "white",
             "startlinecolor": "#2a3f5f"
            },
            "type": "carpet"
           }
          ],
          "choropleth": [
           {
            "colorbar": {
             "outlinewidth": 0,
             "ticks": ""
            },
            "type": "choropleth"
           }
          ],
          "contour": [
           {
            "colorbar": {
             "outlinewidth": 0,
             "ticks": ""
            },
            "colorscale": [
             [
              0,
              "#0d0887"
             ],
             [
              0.1111111111111111,
              "#46039f"
             ],
             [
              0.2222222222222222,
              "#7201a8"
             ],
             [
              0.3333333333333333,
              "#9c179e"
             ],
             [
              0.4444444444444444,
              "#bd3786"
             ],
             [
              0.5555555555555556,
              "#d8576b"
             ],
             [
              0.6666666666666666,
              "#ed7953"
             ],
             [
              0.7777777777777778,
              "#fb9f3a"
             ],
             [
              0.8888888888888888,
              "#fdca26"
             ],
             [
              1,
              "#f0f921"
             ]
            ],
            "type": "contour"
           }
          ],
          "contourcarpet": [
           {
            "colorbar": {
             "outlinewidth": 0,
             "ticks": ""
            },
            "type": "contourcarpet"
           }
          ],
          "heatmap": [
           {
            "colorbar": {
             "outlinewidth": 0,
             "ticks": ""
            },
            "colorscale": [
             [
              0,
              "#0d0887"
             ],
             [
              0.1111111111111111,
              "#46039f"
             ],
             [
              0.2222222222222222,
              "#7201a8"
             ],
             [
              0.3333333333333333,
              "#9c179e"
             ],
             [
              0.4444444444444444,
              "#bd3786"
             ],
             [
              0.5555555555555556,
              "#d8576b"
             ],
             [
              0.6666666666666666,
              "#ed7953"
             ],
             [
              0.7777777777777778,
              "#fb9f3a"
             ],
             [
              0.8888888888888888,
              "#fdca26"
             ],
             [
              1,
              "#f0f921"
             ]
            ],
            "type": "heatmap"
           }
          ],
          "heatmapgl": [
           {
            "colorbar": {
             "outlinewidth": 0,
             "ticks": ""
            },
            "colorscale": [
             [
              0,
              "#0d0887"
             ],
             [
              0.1111111111111111,
              "#46039f"
             ],
             [
              0.2222222222222222,
              "#7201a8"
             ],
             [
              0.3333333333333333,
              "#9c179e"
             ],
             [
              0.4444444444444444,
              "#bd3786"
             ],
             [
              0.5555555555555556,
              "#d8576b"
             ],
             [
              0.6666666666666666,
              "#ed7953"
             ],
             [
              0.7777777777777778,
              "#fb9f3a"
             ],
             [
              0.8888888888888888,
              "#fdca26"
             ],
             [
              1,
              "#f0f921"
             ]
            ],
            "type": "heatmapgl"
           }
          ],
          "histogram": [
           {
            "marker": {
             "colorbar": {
              "outlinewidth": 0,
              "ticks": ""
             }
            },
            "type": "histogram"
           }
          ],
          "histogram2d": [
           {
            "colorbar": {
             "outlinewidth": 0,
             "ticks": ""
            },
            "colorscale": [
             [
              0,
              "#0d0887"
             ],
             [
              0.1111111111111111,
              "#46039f"
             ],
             [
              0.2222222222222222,
              "#7201a8"
             ],
             [
              0.3333333333333333,
              "#9c179e"
             ],
             [
              0.4444444444444444,
              "#bd3786"
             ],
             [
              0.5555555555555556,
              "#d8576b"
             ],
             [
              0.6666666666666666,
              "#ed7953"
             ],
             [
              0.7777777777777778,
              "#fb9f3a"
             ],
             [
              0.8888888888888888,
              "#fdca26"
             ],
             [
              1,
              "#f0f921"
             ]
            ],
            "type": "histogram2d"
           }
          ],
          "histogram2dcontour": [
           {
            "colorbar": {
             "outlinewidth": 0,
             "ticks": ""
            },
            "colorscale": [
             [
              0,
              "#0d0887"
             ],
             [
              0.1111111111111111,
              "#46039f"
             ],
             [
              0.2222222222222222,
              "#7201a8"
             ],
             [
              0.3333333333333333,
              "#9c179e"
             ],
             [
              0.4444444444444444,
              "#bd3786"
             ],
             [
              0.5555555555555556,
              "#d8576b"
             ],
             [
              0.6666666666666666,
              "#ed7953"
             ],
             [
              0.7777777777777778,
              "#fb9f3a"
             ],
             [
              0.8888888888888888,
              "#fdca26"
             ],
             [
              1,
              "#f0f921"
             ]
            ],
            "type": "histogram2dcontour"
           }
          ],
          "mesh3d": [
           {
            "colorbar": {
             "outlinewidth": 0,
             "ticks": ""
            },
            "type": "mesh3d"
           }
          ],
          "parcoords": [
           {
            "line": {
             "colorbar": {
              "outlinewidth": 0,
              "ticks": ""
             }
            },
            "type": "parcoords"
           }
          ],
          "pie": [
           {
            "automargin": true,
            "type": "pie"
           }
          ],
          "scatter": [
           {
            "marker": {
             "colorbar": {
              "outlinewidth": 0,
              "ticks": ""
             }
            },
            "type": "scatter"
           }
          ],
          "scatter3d": [
           {
            "line": {
             "colorbar": {
              "outlinewidth": 0,
              "ticks": ""
             }
            },
            "marker": {
             "colorbar": {
              "outlinewidth": 0,
              "ticks": ""
             }
            },
            "type": "scatter3d"
           }
          ],
          "scattercarpet": [
           {
            "marker": {
             "colorbar": {
              "outlinewidth": 0,
              "ticks": ""
             }
            },
            "type": "scattercarpet"
           }
          ],
          "scattergeo": [
           {
            "marker": {
             "colorbar": {
              "outlinewidth": 0,
              "ticks": ""
             }
            },
            "type": "scattergeo"
           }
          ],
          "scattergl": [
           {
            "marker": {
             "colorbar": {
              "outlinewidth": 0,
              "ticks": ""
             }
            },
            "type": "scattergl"
           }
          ],
          "scattermapbox": [
           {
            "marker": {
             "colorbar": {
              "outlinewidth": 0,
              "ticks": ""
             }
            },
            "type": "scattermapbox"
           }
          ],
          "scatterpolar": [
           {
            "marker": {
             "colorbar": {
              "outlinewidth": 0,
              "ticks": ""
             }
            },
            "type": "scatterpolar"
           }
          ],
          "scatterpolargl": [
           {
            "marker": {
             "colorbar": {
              "outlinewidth": 0,
              "ticks": ""
             }
            },
            "type": "scatterpolargl"
           }
          ],
          "scatterternary": [
           {
            "marker": {
             "colorbar": {
              "outlinewidth": 0,
              "ticks": ""
             }
            },
            "type": "scatterternary"
           }
          ],
          "surface": [
           {
            "colorbar": {
             "outlinewidth": 0,
             "ticks": ""
            },
            "colorscale": [
             [
              0,
              "#0d0887"
             ],
             [
              0.1111111111111111,
              "#46039f"
             ],
             [
              0.2222222222222222,
              "#7201a8"
             ],
             [
              0.3333333333333333,
              "#9c179e"
             ],
             [
              0.4444444444444444,
              "#bd3786"
             ],
             [
              0.5555555555555556,
              "#d8576b"
             ],
             [
              0.6666666666666666,
              "#ed7953"
             ],
             [
              0.7777777777777778,
              "#fb9f3a"
             ],
             [
              0.8888888888888888,
              "#fdca26"
             ],
             [
              1,
              "#f0f921"
             ]
            ],
            "type": "surface"
           }
          ],
          "table": [
           {
            "cells": {
             "fill": {
              "color": "#EBF0F8"
             },
             "line": {
              "color": "white"
             }
            },
            "header": {
             "fill": {
              "color": "#C8D4E3"
             },
             "line": {
              "color": "white"
             }
            },
            "type": "table"
           }
          ]
         },
         "layout": {
          "annotationdefaults": {
           "arrowcolor": "#2a3f5f",
           "arrowhead": 0,
           "arrowwidth": 1
          },
          "autotypenumbers": "strict",
          "coloraxis": {
           "colorbar": {
            "outlinewidth": 0,
            "ticks": ""
           }
          },
          "colorscale": {
           "diverging": [
            [
             0,
             "#8e0152"
            ],
            [
             0.1,
             "#c51b7d"
            ],
            [
             0.2,
             "#de77ae"
            ],
            [
             0.3,
             "#f1b6da"
            ],
            [
             0.4,
             "#fde0ef"
            ],
            [
             0.5,
             "#f7f7f7"
            ],
            [
             0.6,
             "#e6f5d0"
            ],
            [
             0.7,
             "#b8e186"
            ],
            [
             0.8,
             "#7fbc41"
            ],
            [
             0.9,
             "#4d9221"
            ],
            [
             1,
             "#276419"
            ]
           ],
           "sequential": [
            [
             0,
             "#0d0887"
            ],
            [
             0.1111111111111111,
             "#46039f"
            ],
            [
             0.2222222222222222,
             "#7201a8"
            ],
            [
             0.3333333333333333,
             "#9c179e"
            ],
            [
             0.4444444444444444,
             "#bd3786"
            ],
            [
             0.5555555555555556,
             "#d8576b"
            ],
            [
             0.6666666666666666,
             "#ed7953"
            ],
            [
             0.7777777777777778,
             "#fb9f3a"
            ],
            [
             0.8888888888888888,
             "#fdca26"
            ],
            [
             1,
             "#f0f921"
            ]
           ],
           "sequentialminus": [
            [
             0,
             "#0d0887"
            ],
            [
             0.1111111111111111,
             "#46039f"
            ],
            [
             0.2222222222222222,
             "#7201a8"
            ],
            [
             0.3333333333333333,
             "#9c179e"
            ],
            [
             0.4444444444444444,
             "#bd3786"
            ],
            [
             0.5555555555555556,
             "#d8576b"
            ],
            [
             0.6666666666666666,
             "#ed7953"
            ],
            [
             0.7777777777777778,
             "#fb9f3a"
            ],
            [
             0.8888888888888888,
             "#fdca26"
            ],
            [
             1,
             "#f0f921"
            ]
           ]
          },
          "colorway": [
           "#636efa",
           "#EF553B",
           "#00cc96",
           "#ab63fa",
           "#FFA15A",
           "#19d3f3",
           "#FF6692",
           "#B6E880",
           "#FF97FF",
           "#FECB52"
          ],
          "font": {
           "color": "#2a3f5f"
          },
          "geo": {
           "bgcolor": "white",
           "lakecolor": "white",
           "landcolor": "#E5ECF6",
           "showlakes": true,
           "showland": true,
           "subunitcolor": "white"
          },
          "hoverlabel": {
           "align": "left"
          },
          "hovermode": "closest",
          "mapbox": {
           "style": "light"
          },
          "paper_bgcolor": "white",
          "plot_bgcolor": "#E5ECF6",
          "polar": {
           "angularaxis": {
            "gridcolor": "white",
            "linecolor": "white",
            "ticks": ""
           },
           "bgcolor": "#E5ECF6",
           "radialaxis": {
            "gridcolor": "white",
            "linecolor": "white",
            "ticks": ""
           }
          },
          "scene": {
           "xaxis": {
            "backgroundcolor": "#E5ECF6",
            "gridcolor": "white",
            "gridwidth": 2,
            "linecolor": "white",
            "showbackground": true,
            "ticks": "",
            "zerolinecolor": "white"
           },
           "yaxis": {
            "backgroundcolor": "#E5ECF6",
            "gridcolor": "white",
            "gridwidth": 2,
            "linecolor": "white",
            "showbackground": true,
            "ticks": "",
            "zerolinecolor": "white"
           },
           "zaxis": {
            "backgroundcolor": "#E5ECF6",
            "gridcolor": "white",
            "gridwidth": 2,
            "linecolor": "white",
            "showbackground": true,
            "ticks": "",
            "zerolinecolor": "white"
           }
          },
          "shapedefaults": {
           "line": {
            "color": "#2a3f5f"
           }
          },
          "ternary": {
           "aaxis": {
            "gridcolor": "white",
            "linecolor": "white",
            "ticks": ""
           },
           "baxis": {
            "gridcolor": "white",
            "linecolor": "white",
            "ticks": ""
           },
           "bgcolor": "#E5ECF6",
           "caxis": {
            "gridcolor": "white",
            "linecolor": "white",
            "ticks": ""
           }
          },
          "title": {
           "x": 0.05
          },
          "xaxis": {
           "automargin": true,
           "gridcolor": "white",
           "linecolor": "white",
           "ticks": "",
           "title": {
            "standoff": 15
           },
           "zerolinecolor": "white",
           "zerolinewidth": 2
          },
          "yaxis": {
           "automargin": true,
           "gridcolor": "white",
           "linecolor": "white",
           "ticks": "",
           "title": {
            "standoff": 15
           },
           "zerolinecolor": "white",
           "zerolinewidth": 2
          }
         }
        },
        "xaxis": {
         "anchor": "y",
         "domain": [
          0,
          1
         ],
         "title": {
          "text": "광고횟수"
         }
        },
        "yaxis": {
         "anchor": "x",
         "domain": [
          0,
          1
         ],
         "title": {
          "text": "시청자수"
         }
        }
       }
      },
      "text/html": [
       "<div>                            <div id=\"630b3cb9-41bd-409e-9836-1f98c581c29c\" class=\"plotly-graph-div\" style=\"height:525px; width:100%;\"></div>            <script type=\"text/javascript\">                require([\"plotly\"], function(Plotly) {                    window.PLOTLYENV=window.PLOTLYENV || {};                                    if (document.getElementById(\"630b3cb9-41bd-409e-9836-1f98c581c29c\")) {                    Plotly.newPlot(                        \"630b3cb9-41bd-409e-9836-1f98c581c29c\",                        [{\"hovertemplate\": \"color=BMW\\ucf54\\ub9ac\\uc544<br>\\uad11\\uace0\\ud69f\\uc218=%{x}<br>\\uc2dc\\uccad\\uc790\\uc218=%{y}<br>GRP=%{marker.size}<extra></extra>\", \"legendgroup\": \"BMW\\ucf54\\ub9ac\\uc544\", \"marker\": {\"color\": \"#636efa\", \"size\": [77.06333333333333, 83.83333333333334, 80.13333333333331, 113.20416666666667, 24.09166666666667, 73.44999999999999, 3.116666666666667, 46.86666666666667, 33.98333333333333, 83.46249999999999, 53.54999999999999, 255.1916666666667, 138.28000000000003, 218.98333333333338, 134.62499999999997, 103.21851851851854, 109.31250000000001, 102.22333333333331], \"sizemode\": \"area\", \"sizeref\": 0.9413958333333333, \"symbol\": \"circle\"}, \"mode\": \"markers\", \"name\": \"BMW\\ucf54\\ub9ac\\uc544\", \"orientation\": \"v\", \"showlegend\": true, \"type\": \"scatter\", \"x\": [814.4, 404.5, 8.0, 808.0, 200.0, 325.5, 2.0, 314.0, 394.25, 78.5, 71.5, 1393.5, 886.4, 1468.5, 1084.5, 645.0, 298.375, 400.1333333333333], \"xaxis\": \"x\", \"y\": [5497157.0, 5879246.0, 4886355.0, 8039469.0, 1744158.0, 5166464.0, 230023.0, 3395226.0, 2412478.0, 5971090.0, 3563930.0, 18650103.0, 8698327.0, 15456804.0, 9559603.0, 7139107.0, 7786005.0, 6775548.0], \"yaxis\": \"y\"}, {\"hovertemplate\": \"color=FCA\\ucf54\\ub9ac\\uc544<br>\\uad11\\uace0\\ud69f\\uc218=%{x}<br>\\uc2dc\\uccad\\uc790\\uc218=%{y}<br>GRP=%{marker.size}<extra></extra>\", \"legendgroup\": \"FCA\\ucf54\\ub9ac\\uc544\", \"marker\": {\"color\": \"#EF553B\", \"size\": [207.85555555555553, 147.85], \"sizemode\": \"area\", \"sizeref\": 0.9413958333333333, \"symbol\": \"circle\"}, \"mode\": \"markers\", \"name\": \"FCA\\ucf54\\ub9ac\\uc544\", \"orientation\": \"v\", \"showlegend\": true, \"type\": \"scatter\", \"x\": [780.5, 347.5], \"xaxis\": \"x\", \"y\": [15175397.0, 10784230.0], \"yaxis\": \"y\"}, {\"hovertemplate\": \"color=FMK<br>\\uad11\\uace0\\ud69f\\uc218=%{x}<br>\\uc2dc\\uccad\\uc790\\uc218=%{y}<br>GRP=%{marker.size}<extra></extra>\", \"legendgroup\": \"FMK\", \"marker\": {\"color\": \"#00cc96\", \"size\": [44.6452380952381, 6.449999999999999, 55.66111111111111, 28.92476190476191, 26.051388888888884, 7.788888888888887, 23.261111111111106], \"sizemode\": \"area\", \"sizeref\": 0.9413958333333333, \"symbol\": \"circle\"}, \"mode\": \"markers\", \"name\": \"FMK\", \"orientation\": \"v\", \"showlegend\": true, \"type\": \"scatter\", \"x\": [489.85714285714283, 316.3333333333333, 175.0, 461.9428571428571, 271.8333333333333, 328.6666666666667, 565.6666666666666], \"xaxis\": \"x\", \"y\": [2655569.0, 455451.0, 3981050.0, 2045607.0, 1833962.0, 561488.0, 1666141.0], \"yaxis\": \"y\"}, {\"hovertemplate\": \"color=\\uae30\\ud765\\uc778\\ud130\\ub0b4\\uc154\\ub110<br>\\uad11\\uace0\\ud69f\\uc218=%{x}<br>\\uc2dc\\uccad\\uc790\\uc218=%{y}<br>GRP=%{marker.size}<extra></extra>\", \"legendgroup\": \"\\uae30\\ud765\\uc778\\ud130\\ub0b4\\uc154\\ub110\", \"marker\": {\"color\": \"#ab63fa\", \"size\": [7.750000000000001, 35.21666666666666], \"sizemode\": \"area\", \"sizeref\": 0.9413958333333333, \"symbol\": \"circle\"}, \"mode\": \"markers\", \"name\": \"\\uae30\\ud765\\uc778\\ud130\\ub0b4\\uc154\\ub110\", \"orientation\": \"v\", \"showlegend\": true, \"type\": \"scatter\", \"x\": [1.0, 8.5], \"xaxis\": \"x\", \"y\": [567503.0, 2525867.0], \"yaxis\": \"y\"}, {\"hovertemplate\": \"color=\\ub354\\ud074\\ub798\\uc2a4\\ud6a8\\uc131<br>\\uad11\\uace0\\ud69f\\uc218=%{x}<br>\\uc2dc\\uccad\\uc790\\uc218=%{y}<br>GRP=%{marker.size}<extra></extra>\", \"legendgroup\": \"\\ub354\\ud074\\ub798\\uc2a4\\ud6a8\\uc131\", \"marker\": {\"color\": \"#FFA15A\", \"size\": [26.072222222222226, 26.191666666666663, 23.65], \"sizemode\": \"area\", \"sizeref\": 0.9413958333333333, \"symbol\": \"circle\"}, \"mode\": \"markers\", \"name\": \"\\ub354\\ud074\\ub798\\uc2a4\\ud6a8\\uc131\", \"orientation\": \"v\", \"showlegend\": true, \"type\": \"scatter\", \"x\": [97.33333333333333, 104.0, 83.0], \"xaxis\": \"x\", \"y\": [1660171.0, 1787059.0, 1640370.0], \"yaxis\": \"y\"}, {\"hovertemplate\": \"color=\\ub3c4\\uc774\\uce58\\ubaa8\\ud130\\uc2a4<br>\\uad11\\uace0\\ud69f\\uc218=%{x}<br>\\uc2dc\\uccad\\uc790\\uc218=%{y}<br>GRP=%{marker.size}<extra></extra>\", \"legendgroup\": \"\\ub3c4\\uc774\\uce58\\ubaa8\\ud130\\uc2a4\", \"marker\": {\"color\": \"#19d3f3\", \"size\": [13.983333333333334], \"sizemode\": \"area\", \"sizeref\": 0.9413958333333333, \"symbol\": \"circle\"}, \"mode\": \"markers\", \"name\": \"\\ub3c4\\uc774\\uce58\\ubaa8\\ud130\\uc2a4\", \"orientation\": \"v\", \"showlegend\": true, \"type\": \"scatter\", \"x\": [5.0], \"xaxis\": \"x\", \"y\": [1003720.0], \"yaxis\": \"y\"}, {\"hovertemplate\": \"color=\\uba54\\ub974\\uc138\\ub370\\uc2a4\\ubca4\\uce20\\ucf54\\ub9ac\\uc544<br>\\uad11\\uace0\\ud69f\\uc218=%{x}<br>\\uc2dc\\uccad\\uc790\\uc218=%{y}<br>GRP=%{marker.size}<extra></extra>\", \"legendgroup\": \"\\uba54\\ub974\\uc138\\ub370\\uc2a4\\ubca4\\uce20\\ucf54\\ub9ac\\uc544\", \"marker\": {\"color\": \"#FF6692\", \"size\": [87.0148148148148, 163.99444444444444, 80.31666666666666, 43.26111111111111, 37.550000000000004, 78.63333333333334, 125.83076923076922, 41.16111111111111, 86.64999999999999, 45.94166666666667, 68.40833333333335], \"sizemode\": \"area\", \"sizeref\": 0.9413958333333333, \"symbol\": \"circle\"}, \"mode\": \"markers\", \"name\": \"\\uba54\\ub974\\uc138\\ub370\\uc2a4\\ubca4\\uce20\\ucf54\\ub9ac\\uc544\", \"orientation\": \"v\", \"showlegend\": true, \"type\": \"scatter\", \"x\": [151.05555555555554, 284.3333333333333, 119.5, 83.66666666666667, 327.0, 107.0, 266.3076923076923, 202.0, 102.0, 293.5, 144.33333333333334], \"xaxis\": \"x\", \"y\": [6278819.0, 11713037.0, 5787337.0, 3069545.0, 2265134.0, 5573775.0, 8849486.0, 2952616.0, 6308496.0, 3271723.0, 4842412.0], \"yaxis\": \"y\"}, {\"hovertemplate\": \"color=\\ubcfc\\ubcf4\\uc790\\ub3d9\\ucc28\\ucf54\\ub9ac\\uc544<br>\\uad11\\uace0\\ud69f\\uc218=%{x}<br>\\uc2dc\\uccad\\uc790\\uc218=%{y}<br>GRP=%{marker.size}<extra></extra>\", \"legendgroup\": \"\\ubcfc\\ubcf4\\uc790\\ub3d9\\ucc28\\ucf54\\ub9ac\\uc544\", \"marker\": {\"color\": \"#B6E880\", \"size\": [172.56, 371.6611111111111, 177.5901960784314, 60.01999999999999, 133.23039215686276, 66.25252525252526, 60.36538461538463], \"sizemode\": \"area\", \"sizeref\": 0.9413958333333333, \"symbol\": \"circle\"}, \"mode\": \"markers\", \"name\": \"\\ubcfc\\ubcf4\\uc790\\ub3d9\\ucc28\\ucf54\\ub9ac\\uc544\", \"orientation\": \"v\", \"showlegend\": true, \"type\": \"scatter\", \"x\": [233.1, 1415.6666666666667, 854.7647058823529, 324.6, 657.9411764705883, 387.8787878787879, 635.1538461538462], \"xaxis\": \"x\", \"y\": [12553505.0, 26678243.0, 12789156.0, 4268330.0, 9530226.0, 4658295.0, 4255214.0], \"yaxis\": \"y\"}, {\"hovertemplate\": \"color=\\ube44\\uc6cc\\ud06c<br>\\uad11\\uace0\\ud69f\\uc218=%{x}<br>\\uc2dc\\uccad\\uc790\\uc218=%{y}<br>GRP=%{marker.size}<extra></extra>\", \"legendgroup\": \"\\ube44\\uc6cc\\ud06c\", \"marker\": {\"color\": \"#FF97FF\", \"size\": [3.1750000000000003], \"sizemode\": \"area\", \"sizeref\": 0.9413958333333333, \"symbol\": \"circle\"}, \"mode\": \"markers\", \"name\": \"\\ube44\\uc6cc\\ud06c\", \"orientation\": \"v\", \"showlegend\": true, \"type\": \"scatter\", \"x\": [55.0], \"xaxis\": \"x\", \"y\": [225209.0], \"yaxis\": \"y\"}, {\"hovertemplate\": \"color=\\uc544\\uc6b0\\ub514\\ucf54\\ub9ac\\uc544<br>\\uad11\\uace0\\ud69f\\uc218=%{x}<br>\\uc2dc\\uccad\\uc790\\uc218=%{y}<br>GRP=%{marker.size}<extra></extra>\", \"legendgroup\": \"\\uc544\\uc6b0\\ub514\\ucf54\\ub9ac\\uc544\", \"marker\": {\"color\": \"#FECB52\", \"size\": [29.375000000000004, 100.00666666666667, 9.316666666666668, 84.88333333333334, 175.1814814814815, 66.475, 16.733333333333334, 126.41666666666669, 136.5, 70.47916666666666, 82.59999999999998, 132.29166666666666, 131.93854166666668], \"sizemode\": \"area\", \"sizeref\": 0.9413958333333333, \"symbol\": \"circle\"}, \"mode\": \"markers\", \"name\": \"\\uc544\\uc6b0\\ub514\\ucf54\\ub9ac\\uc544\", \"orientation\": \"v\", \"showlegend\": true, \"type\": \"scatter\", \"x\": [216.5, 210.4, 26.0, 388.5, 490.44444444444446, 157.0, 14.0, 252.5, 408.6666666666667, 486.0, 340.5, 448.25, 434.5], \"xaxis\": \"x\", \"y\": [1980859.0, 6534044.0, 682709.0, 6119054.0, 12584806.0, 4222844.0, 1050772.0, 9343571.0, 9247659.0, 5175621.0, 5463719.0, 9744939.0, 9328570.0], \"yaxis\": \"y\"}, {\"hovertemplate\": \"color=\\uc544\\uc6b0\\ub514\\ud3ed\\uc2a4\\ubc14\\uac90\\ucf54\\ub9ac\\uc544<br>\\uad11\\uace0\\ud69f\\uc218=%{x}<br>\\uc2dc\\uccad\\uc790\\uc218=%{y}<br>GRP=%{marker.size}<extra></extra>\", \"legendgroup\": \"\\uc544\\uc6b0\\ub514\\ud3ed\\uc2a4\\ubc14\\uac90\\ucf54\\ub9ac\\uc544\", \"marker\": {\"color\": \"#636efa\", \"size\": [94.28333333333335, 115.64999999999999, 151.75138888888887, 157.6541666666667, 14.533333333333331, 126.96190476190473, 57.549999999999976, 31.745833333333334, 376.55833333333334], \"sizemode\": \"area\", \"sizeref\": 0.9413958333333333, \"symbol\": \"circle\"}, \"mode\": \"markers\", \"name\": \"\\uc544\\uc6b0\\ub514\\ud3ed\\uc2a4\\ubc14\\uac90\\ucf54\\ub9ac\\uc544\", \"orientation\": \"v\", \"showlegend\": true, \"type\": \"scatter\", \"x\": [297.2, 181.0, 431.1666666666667, 804.25, 203.0, 290.42857142857144, 256.0, 116.25, 1297.0], \"xaxis\": \"x\", \"y\": [6669392.0, 8464882.0, 10891257.0, 11567163.0, 958234.0, 9135124.0, 4243343.0, 1925263.0, 27468995.0], \"yaxis\": \"y\"}, {\"hovertemplate\": \"color=\\uc5d0\\ud504\\uc528\\uc5d0\\uc774\\ucf54\\ub9ac\\uc544<br>\\uad11\\uace0\\ud69f\\uc218=%{x}<br>\\uc2dc\\uccad\\uc790\\uc218=%{y}<br>GRP=%{marker.size}<extra></extra>\", \"legendgroup\": \"\\uc5d0\\ud504\\uc528\\uc5d0\\uc774\\ucf54\\ub9ac\\uc544\", \"marker\": {\"color\": \"#EF553B\", \"size\": [159.26333333333338, 117.23636363636362, 73.91111111111111, 132.10833333333332, 101.39166666666667], \"sizemode\": \"area\", \"sizeref\": 0.9413958333333333, \"symbol\": \"circle\"}, \"mode\": \"markers\", \"name\": \"\\uc5d0\\ud504\\uc528\\uc5d0\\uc774\\ucf54\\ub9ac\\uc544\", \"orientation\": \"v\", \"showlegend\": true, \"type\": \"scatter\", \"x\": [425.53333333333336, 281.3636363636364, 396.1666666666667, 448.25, 670.5], \"xaxis\": \"x\", \"y\": [11417909.0, 8420689.0, 5333310.0, 9415262.0, 6351684.0], \"yaxis\": \"y\"}, {\"hovertemplate\": \"color=\\uc7ac\\uaddc\\uc5b4\\ub79c\\ub4dc\\ub85c\\ubc84\\ucf54\\ub9ac\\uc544<br>\\uad11\\uace0\\ud69f\\uc218=%{x}<br>\\uc2dc\\uccad\\uc790\\uc218=%{y}<br>GRP=%{marker.size}<extra></extra>\", \"legendgroup\": \"\\uc7ac\\uaddc\\uc5b4\\ub79c\\ub4dc\\ub85c\\ubc84\\ucf54\\ub9ac\\uc544\", \"marker\": {\"color\": \"#00cc96\", \"size\": [283.1791666666666, 161.19444444444446, 112.30000000000001, 155.88833333333338, 91.26666666666667, 65.68194444444445, 102.23666666666665, 1.5916666666666666, 19.77156862745098, 272.10833333333335, 23.677777777777788, 161.79583333333335, 80.49166666666666], \"sizemode\": \"area\", \"sizeref\": 0.9413958333333333, \"symbol\": \"circle\"}, \"mode\": \"markers\", \"name\": \"\\uc7ac\\uaddc\\uc5b4\\ub79c\\ub4dc\\ub85c\\ubc84\\ucf54\\ub9ac\\uc544\", \"orientation\": \"v\", \"showlegend\": true, \"type\": \"scatter\", \"x\": [324.75, 508.6666666666667, 483.5, 527.4, 217.0, 325.75, 204.8, 2.0, 140.88235294117646, 1184.75, 274.6666666666667, 98.75, 822.0], \"xaxis\": \"x\", \"y\": [20182390.0, 10288269.0, 6873972.0, 10059493.0, 5719571.0, 4634822.0, 7375747.0, 115655.0, 1412776.0, 19220585.0, 1624462.0, 11685585.0, 5167142.0], \"yaxis\": \"y\"}, {\"hovertemplate\": \"color=\\uc9c0\\uc5e0\\uc544\\uc2dc\\uc544\\ud37c\\uc2dc\\ud53d\\uc9c0\\uc5ed\\ubcf8\\ubd80<br>\\uad11\\uace0\\ud69f\\uc218=%{x}<br>\\uc2dc\\uccad\\uc790\\uc218=%{y}<br>GRP=%{marker.size}<extra></extra>\", \"legendgroup\": \"\\uc9c0\\uc5e0\\uc544\\uc2dc\\uc544\\ud37c\\uc2dc\\ud53d\\uc9c0\\uc5ed\\ubcf8\\ubd80\", \"marker\": {\"color\": \"#ab63fa\", \"size\": [158.76666666666668, 155.56666666666666, 92.52121212121209, 51.91203703703704, 54.54583333333335], \"sizemode\": \"area\", \"sizeref\": 0.9413958333333333, \"symbol\": \"circle\"}, \"mode\": \"markers\", \"name\": \"\\uc9c0\\uc5e0\\uc544\\uc2dc\\uc544\\ud37c\\uc2dc\\ud53d\\uc9c0\\uc5ed\\ubcf8\\ubd80\", \"orientation\": \"v\", \"showlegend\": true, \"type\": \"scatter\", \"x\": [953.6, 756.0, 919.7272727272727, 399.22222222222223, 545.0], \"xaxis\": \"x\", \"y\": [11558817.0, 11312352.0, 6569107.0, 3712801.0, 3905473.0], \"yaxis\": \"y\"}, {\"hovertemplate\": \"color=\\uc9c0\\uc5e0\\ucf54\\ub9ac\\uc544<br>\\uad11\\uace0\\ud69f\\uc218=%{x}<br>\\uc2dc\\uccad\\uc790\\uc218=%{y}<br>GRP=%{marker.size}<extra></extra>\", \"legendgroup\": \"\\uc9c0\\uc5e0\\ucf54\\ub9ac\\uc544\", \"marker\": {\"color\": \"#FFA15A\", \"size\": [113.29705882352943, 22.185416666666658], \"sizemode\": \"area\", \"sizeref\": 0.9413958333333333, \"symbol\": \"circle\"}, \"mode\": \"markers\", \"name\": \"\\uc9c0\\uc5e0\\ucf54\\ub9ac\\uc544\", \"orientation\": \"v\", \"showlegend\": true, \"type\": \"scatter\", \"x\": [1116.4117647058824, 333.0], \"xaxis\": \"x\", \"y\": [7728220.0, 1580678.0], \"yaxis\": \"y\"}, {\"hovertemplate\": \"color=\\uce90\\ub51c\\ub77d\\ucf54\\ub9ac\\uc544<br>\\uad11\\uace0\\ud69f\\uc218=%{x}<br>\\uc2dc\\uccad\\uc790\\uc218=%{y}<br>GRP=%{marker.size}<extra></extra>\", \"legendgroup\": \"\\uce90\\ub51c\\ub77d\\ucf54\\ub9ac\\uc544\", \"marker\": {\"color\": \"#19d3f3\", \"size\": [71.48623188405796, 84.24444444444444], \"sizemode\": \"area\", \"sizeref\": 0.9413958333333333, \"symbol\": \"circle\"}, \"mode\": \"markers\", \"name\": \"\\uce90\\ub51c\\ub77d\\ucf54\\ub9ac\\uc544\", \"orientation\": \"v\", \"showlegend\": true, \"type\": \"scatter\", \"x\": [1009.9130434782609, 1211.8], \"xaxis\": \"x\", \"y\": [5011982.0, 5958352.0], \"yaxis\": \"y\"}, {\"hovertemplate\": \"color=\\ud3ec\\ub4dc\\uc138\\uc77c\\uc988\\uc11c\\ube44\\uc2a4\\ucf54\\ub9ac\\uc544<br>\\uad11\\uace0\\ud69f\\uc218=%{x}<br>\\uc2dc\\uccad\\uc790\\uc218=%{y}<br>GRP=%{marker.size}<extra></extra>\", \"legendgroup\": \"\\ud3ec\\ub4dc\\uc138\\uc77c\\uc988\\uc11c\\ube44\\uc2a4\\ucf54\\ub9ac\\uc544\", \"marker\": {\"color\": \"#FF6692\", \"size\": [193.97222222222223, 204.17962962962963, 7.750000000000001, 0.0, 57.64, 132.79821428571427, 206.7600000000001, 70.94999999999999], \"sizemode\": \"area\", \"sizeref\": 0.9413958333333333, \"symbol\": \"circle\"}, \"mode\": \"markers\", \"name\": \"\\ud3ec\\ub4dc\\uc138\\uc77c\\uc988\\uc11c\\ube44\\uc2a4\\ucf54\\ub9ac\\uc544\", \"orientation\": \"v\", \"showlegend\": true, \"type\": \"scatter\", \"x\": [1014.3333333333334, 635.1111111111111, 88.0, 2.0, 222.4, 996.2857142857143, 663.2, 195.66666666666666], \"xaxis\": \"x\", \"y\": [14381233.0, 13903303.0, 590438.0, 0.0, 3681835.0, 9474979.0, 13218480.0, 4626542.0], \"yaxis\": \"y\"}, {\"hovertemplate\": \"color=\\ud3ec\\ub974\\uc250\\ucf54\\ub9ac\\uc544<br>\\uad11\\uace0\\ud69f\\uc218=%{x}<br>\\uc2dc\\uccad\\uc790\\uc218=%{y}<br>GRP=%{marker.size}<extra></extra>\", \"legendgroup\": \"\\ud3ec\\ub974\\uc250\\ucf54\\ub9ac\\uc544\", \"marker\": {\"color\": \"#B6E880\", \"size\": [92.8388888888889], \"sizemode\": \"area\", \"sizeref\": 0.9413958333333333, \"symbol\": \"circle\"}, \"mode\": \"markers\", \"name\": \"\\ud3ec\\ub974\\uc250\\ucf54\\ub9ac\\uc544\", \"orientation\": \"v\", \"showlegend\": true, \"type\": \"scatter\", \"x\": [194.33333333333334], \"xaxis\": \"x\", \"y\": [6522015.0], \"yaxis\": \"y\"}, {\"hovertemplate\": \"color=\\ud55c\\uad6d\\ub2db\\uc0b0<br>\\uad11\\uace0\\ud69f\\uc218=%{x}<br>\\uc2dc\\uccad\\uc790\\uc218=%{y}<br>GRP=%{marker.size}<extra></extra>\", \"legendgroup\": \"\\ud55c\\uad6d\\ub2db\\uc0b0\", \"marker\": {\"color\": \"#FF97FF\", \"size\": [107.6357142857143, 129.90238095238092, 45.208333333333336, 29.877777777777776, 186.45370370370372], \"sizemode\": \"area\", \"sizeref\": 0.9413958333333333, \"symbol\": \"circle\"}, \"mode\": \"markers\", \"name\": \"\\ud55c\\uad6d\\ub2db\\uc0b0\", \"orientation\": \"v\", \"showlegend\": true, \"type\": \"scatter\", \"x\": [1151.2857142857142, 807.0, 504.0, 230.0, 780.6666666666666], \"xaxis\": \"x\", \"y\": [7573381.0, 9344539.0, 3133500.0, 2030448.0, 13481053.0], \"yaxis\": \"y\"}, {\"hovertemplate\": \"color=\\ud55c\\uad6d\\ud1a0\\uc694\\ud0c0\\uc790\\ub3d9\\ucc28<br>\\uad11\\uace0\\ud69f\\uc218=%{x}<br>\\uc2dc\\uccad\\uc790\\uc218=%{y}<br>GRP=%{marker.size}<extra></extra>\", \"legendgroup\": \"\\ud55c\\uad6d\\ud1a0\\uc694\\ud0c0\\uc790\\ub3d9\\ucc28\", \"marker\": {\"color\": \"#FECB52\", \"size\": [0.7933333333333332, 64.89270833333332, 113.98500000000003, 163.72000000000006, 133.88333333333333, 71.06666666666666, 59.103333333333346, 135.43666666666667, 117.35000000000001, 83.1416666666667, 85.34074074074073, 23.944444444444443, 133.32777777777778, 184.3416666666667, 35.016666666666666, 27.450000000000003, 109.26333333333332, 149.74250000000004, 101.98472222222225, 137.92222222222225, 83.10937499999999, 63.8, 65.9875], \"sizemode\": \"area\", \"sizeref\": 0.9413958333333333, \"symbol\": \"circle\"}, \"mode\": \"markers\", \"name\": \"\\ud55c\\uad6d\\ud1a0\\uc694\\ud0c0\\uc790\\ub3d9\\ucc28\", \"orientation\": \"v\", \"showlegend\": true, \"type\": \"scatter\", \"x\": [12.8, 314.875, 1069.55, 899.4, 864.0, 569.0, 1153.2, 628.0, 873.6666666666666, 538.75, 678.4444444444445, 640.3333333333334, 1719.5, 1018.75, 989.0, 276.0, 549.6, 1318.45, 543.5833333333334, 1289.3333333333333, 340.4375, 603.6666666666666, 354.25], \"xaxis\": \"x\", \"y\": [57407.0, 4321953.0, 8154904.0, 10271005.0, 8322055.0, 4962430.0, 4251794.0, 9599186.0, 8441969.0, 5666326.0, 5330261.0, 1736527.0, 9429987.0, 13186485.0, 2601241.0, 1995897.0, 7777785.0, 10633714.0, 7206431.0, 10002972.0, 5353584.0, 4515841.0, 4590264.0], \"yaxis\": \"y\"}, {\"hovertemplate\": \"color=\\ud55c\\ubd88\\ubaa8\\ud130\\uc2a4<br>\\uad11\\uace0\\ud69f\\uc218=%{x}<br>\\uc2dc\\uccad\\uc790\\uc218=%{y}<br>GRP=%{marker.size}<extra></extra>\", \"legendgroup\": \"\\ud55c\\ubd88\\ubaa8\\ud130\\uc2a4\", \"marker\": {\"color\": \"#636efa\", \"size\": [44.67333333333332, 6.261111111111112, 57.03958333333333, 13.383333333333335, 12.25, 11.15625, 22.748611111111103, 42.330000000000005, 41.83333333333333, 13.988888888888887, 32.740277777777784, 21.942592592592593, 35.083333333333336], \"sizemode\": \"area\", \"sizeref\": 0.9413958333333333, \"symbol\": \"circle\"}, \"mode\": \"markers\", \"name\": \"\\ud55c\\ubd88\\ubaa8\\ud130\\uc2a4\", \"orientation\": \"v\", \"showlegend\": true, \"type\": \"scatter\", \"x\": [512.0, 103.33333333333333, 229.625, 299.5, 245.0, 262.875, 254.41666666666666, 335.73333333333335, 88.0, 266.6666666666667, 241.66666666666666, 416.0, 122.33333333333333], \"xaxis\": \"x\", \"y\": [3213932.0, 452958.0, 3719058.0, 964216.0, 879486.0, 791548.0, 1492460.0, 2953452.0, 2675466.0, 989732.0, 2291386.0, 1568804.0, 2125444.0], \"yaxis\": \"y\"}, {\"hovertemplate\": \"color=\\ud63c\\ub2e4\\ucf54\\ub9ac\\uc544<br>\\uad11\\uace0\\ud69f\\uc218=%{x}<br>\\uc2dc\\uccad\\uc790\\uc218=%{y}<br>GRP=%{marker.size}<extra></extra>\", \"legendgroup\": \"\\ud63c\\ub2e4\\ucf54\\ub9ac\\uc544\", \"marker\": {\"color\": \"#EF553B\", \"size\": [44.434782608695656, 46.66190476190478, 32.24583333333334, 33.69777777777779], \"sizemode\": \"area\", \"sizeref\": 0.9413958333333333, \"symbol\": \"circle\"}, \"mode\": \"markers\", \"name\": \"\\ud63c\\ub2e4\\ucf54\\ub9ac\\uc544\", \"orientation\": \"v\", \"showlegend\": true, \"type\": \"scatter\", \"x\": [205.91304347826087, 433.0, 209.75, 97.53333333333333], \"xaxis\": \"x\", \"y\": [3202897.0, 3410130.0, 2315791.0, 2370231.0], \"yaxis\": \"y\"}],                        {\"legend\": {\"itemsizing\": \"constant\", \"title\": {\"text\": \"color\"}, \"tracegroupgap\": 0}, \"margin\": {\"t\": 60}, \"template\": {\"data\": {\"bar\": [{\"error_x\": {\"color\": \"#2a3f5f\"}, \"error_y\": {\"color\": \"#2a3f5f\"}, \"marker\": {\"line\": {\"color\": \"#E5ECF6\", \"width\": 0.5}}, \"type\": \"bar\"}], \"barpolar\": [{\"marker\": {\"line\": {\"color\": \"#E5ECF6\", \"width\": 0.5}}, \"type\": \"barpolar\"}], \"carpet\": [{\"aaxis\": {\"endlinecolor\": \"#2a3f5f\", \"gridcolor\": \"white\", \"linecolor\": \"white\", \"minorgridcolor\": \"white\", \"startlinecolor\": \"#2a3f5f\"}, \"baxis\": {\"endlinecolor\": \"#2a3f5f\", \"gridcolor\": \"white\", \"linecolor\": \"white\", \"minorgridcolor\": \"white\", \"startlinecolor\": \"#2a3f5f\"}, \"type\": \"carpet\"}], \"choropleth\": [{\"colorbar\": {\"outlinewidth\": 0, \"ticks\": \"\"}, \"type\": \"choropleth\"}], \"contour\": [{\"colorbar\": {\"outlinewidth\": 0, \"ticks\": \"\"}, \"colorscale\": [[0.0, \"#0d0887\"], [0.1111111111111111, \"#46039f\"], [0.2222222222222222, \"#7201a8\"], [0.3333333333333333, \"#9c179e\"], [0.4444444444444444, \"#bd3786\"], [0.5555555555555556, \"#d8576b\"], [0.6666666666666666, \"#ed7953\"], [0.7777777777777778, \"#fb9f3a\"], [0.8888888888888888, \"#fdca26\"], [1.0, \"#f0f921\"]], \"type\": \"contour\"}], \"contourcarpet\": [{\"colorbar\": {\"outlinewidth\": 0, \"ticks\": \"\"}, \"type\": \"contourcarpet\"}], \"heatmap\": [{\"colorbar\": {\"outlinewidth\": 0, \"ticks\": \"\"}, \"colorscale\": [[0.0, \"#0d0887\"], [0.1111111111111111, \"#46039f\"], [0.2222222222222222, \"#7201a8\"], [0.3333333333333333, \"#9c179e\"], [0.4444444444444444, \"#bd3786\"], [0.5555555555555556, \"#d8576b\"], [0.6666666666666666, \"#ed7953\"], [0.7777777777777778, \"#fb9f3a\"], [0.8888888888888888, \"#fdca26\"], [1.0, \"#f0f921\"]], \"type\": \"heatmap\"}], \"heatmapgl\": [{\"colorbar\": {\"outlinewidth\": 0, \"ticks\": \"\"}, \"colorscale\": [[0.0, \"#0d0887\"], [0.1111111111111111, \"#46039f\"], [0.2222222222222222, \"#7201a8\"], [0.3333333333333333, \"#9c179e\"], [0.4444444444444444, \"#bd3786\"], [0.5555555555555556, \"#d8576b\"], [0.6666666666666666, \"#ed7953\"], [0.7777777777777778, \"#fb9f3a\"], [0.8888888888888888, \"#fdca26\"], [1.0, \"#f0f921\"]], \"type\": \"heatmapgl\"}], \"histogram\": [{\"marker\": {\"colorbar\": {\"outlinewidth\": 0, \"ticks\": \"\"}}, \"type\": \"histogram\"}], \"histogram2d\": [{\"colorbar\": {\"outlinewidth\": 0, \"ticks\": \"\"}, \"colorscale\": [[0.0, \"#0d0887\"], [0.1111111111111111, \"#46039f\"], [0.2222222222222222, \"#7201a8\"], [0.3333333333333333, \"#9c179e\"], [0.4444444444444444, \"#bd3786\"], [0.5555555555555556, \"#d8576b\"], [0.6666666666666666, \"#ed7953\"], [0.7777777777777778, \"#fb9f3a\"], [0.8888888888888888, \"#fdca26\"], [1.0, \"#f0f921\"]], \"type\": \"histogram2d\"}], \"histogram2dcontour\": [{\"colorbar\": {\"outlinewidth\": 0, \"ticks\": \"\"}, \"colorscale\": [[0.0, \"#0d0887\"], [0.1111111111111111, \"#46039f\"], [0.2222222222222222, \"#7201a8\"], [0.3333333333333333, \"#9c179e\"], [0.4444444444444444, \"#bd3786\"], [0.5555555555555556, \"#d8576b\"], [0.6666666666666666, \"#ed7953\"], [0.7777777777777778, \"#fb9f3a\"], [0.8888888888888888, \"#fdca26\"], [1.0, \"#f0f921\"]], \"type\": \"histogram2dcontour\"}], \"mesh3d\": [{\"colorbar\": {\"outlinewidth\": 0, \"ticks\": \"\"}, \"type\": \"mesh3d\"}], \"parcoords\": [{\"line\": {\"colorbar\": {\"outlinewidth\": 0, \"ticks\": \"\"}}, \"type\": \"parcoords\"}], \"pie\": [{\"automargin\": true, \"type\": \"pie\"}], \"scatter\": [{\"marker\": {\"colorbar\": {\"outlinewidth\": 0, \"ticks\": \"\"}}, \"type\": \"scatter\"}], \"scatter3d\": [{\"line\": {\"colorbar\": {\"outlinewidth\": 0, \"ticks\": \"\"}}, \"marker\": {\"colorbar\": {\"outlinewidth\": 0, \"ticks\": \"\"}}, \"type\": \"scatter3d\"}], \"scattercarpet\": [{\"marker\": {\"colorbar\": {\"outlinewidth\": 0, \"ticks\": \"\"}}, \"type\": \"scattercarpet\"}], \"scattergeo\": [{\"marker\": {\"colorbar\": {\"outlinewidth\": 0, \"ticks\": \"\"}}, \"type\": \"scattergeo\"}], \"scattergl\": [{\"marker\": {\"colorbar\": {\"outlinewidth\": 0, \"ticks\": \"\"}}, \"type\": \"scattergl\"}], \"scattermapbox\": [{\"marker\": {\"colorbar\": {\"outlinewidth\": 0, \"ticks\": \"\"}}, \"type\": \"scattermapbox\"}], \"scatterpolar\": [{\"marker\": {\"colorbar\": {\"outlinewidth\": 0, \"ticks\": \"\"}}, \"type\": \"scatterpolar\"}], \"scatterpolargl\": [{\"marker\": {\"colorbar\": {\"outlinewidth\": 0, \"ticks\": \"\"}}, \"type\": \"scatterpolargl\"}], \"scatterternary\": [{\"marker\": {\"colorbar\": {\"outlinewidth\": 0, \"ticks\": \"\"}}, \"type\": \"scatterternary\"}], \"surface\": [{\"colorbar\": {\"outlinewidth\": 0, \"ticks\": \"\"}, \"colorscale\": [[0.0, \"#0d0887\"], [0.1111111111111111, \"#46039f\"], [0.2222222222222222, \"#7201a8\"], [0.3333333333333333, \"#9c179e\"], [0.4444444444444444, \"#bd3786\"], [0.5555555555555556, \"#d8576b\"], [0.6666666666666666, \"#ed7953\"], [0.7777777777777778, \"#fb9f3a\"], [0.8888888888888888, \"#fdca26\"], [1.0, \"#f0f921\"]], \"type\": \"surface\"}], \"table\": [{\"cells\": {\"fill\": {\"color\": \"#EBF0F8\"}, \"line\": {\"color\": \"white\"}}, \"header\": {\"fill\": {\"color\": \"#C8D4E3\"}, \"line\": {\"color\": \"white\"}}, \"type\": \"table\"}]}, \"layout\": {\"annotationdefaults\": {\"arrowcolor\": \"#2a3f5f\", \"arrowhead\": 0, \"arrowwidth\": 1}, \"autotypenumbers\": \"strict\", \"coloraxis\": {\"colorbar\": {\"outlinewidth\": 0, \"ticks\": \"\"}}, \"colorscale\": {\"diverging\": [[0, \"#8e0152\"], [0.1, \"#c51b7d\"], [0.2, \"#de77ae\"], [0.3, \"#f1b6da\"], [0.4, \"#fde0ef\"], [0.5, \"#f7f7f7\"], [0.6, \"#e6f5d0\"], [0.7, \"#b8e186\"], [0.8, \"#7fbc41\"], [0.9, \"#4d9221\"], [1, \"#276419\"]], \"sequential\": [[0.0, \"#0d0887\"], [0.1111111111111111, \"#46039f\"], [0.2222222222222222, \"#7201a8\"], [0.3333333333333333, \"#9c179e\"], [0.4444444444444444, \"#bd3786\"], [0.5555555555555556, \"#d8576b\"], [0.6666666666666666, \"#ed7953\"], [0.7777777777777778, \"#fb9f3a\"], [0.8888888888888888, \"#fdca26\"], [1.0, \"#f0f921\"]], \"sequentialminus\": [[0.0, \"#0d0887\"], [0.1111111111111111, \"#46039f\"], [0.2222222222222222, \"#7201a8\"], [0.3333333333333333, \"#9c179e\"], [0.4444444444444444, \"#bd3786\"], [0.5555555555555556, \"#d8576b\"], [0.6666666666666666, \"#ed7953\"], [0.7777777777777778, \"#fb9f3a\"], [0.8888888888888888, \"#fdca26\"], [1.0, \"#f0f921\"]]}, \"colorway\": [\"#636efa\", \"#EF553B\", \"#00cc96\", \"#ab63fa\", \"#FFA15A\", \"#19d3f3\", \"#FF6692\", \"#B6E880\", \"#FF97FF\", \"#FECB52\"], \"font\": {\"color\": \"#2a3f5f\"}, \"geo\": {\"bgcolor\": \"white\", \"lakecolor\": \"white\", \"landcolor\": \"#E5ECF6\", \"showlakes\": true, \"showland\": true, \"subunitcolor\": \"white\"}, \"hoverlabel\": {\"align\": \"left\"}, \"hovermode\": \"closest\", \"mapbox\": {\"style\": \"light\"}, \"paper_bgcolor\": \"white\", \"plot_bgcolor\": \"#E5ECF6\", \"polar\": {\"angularaxis\": {\"gridcolor\": \"white\", \"linecolor\": \"white\", \"ticks\": \"\"}, \"bgcolor\": \"#E5ECF6\", \"radialaxis\": {\"gridcolor\": \"white\", \"linecolor\": \"white\", \"ticks\": \"\"}}, \"scene\": {\"xaxis\": {\"backgroundcolor\": \"#E5ECF6\", \"gridcolor\": \"white\", \"gridwidth\": 2, \"linecolor\": \"white\", \"showbackground\": true, \"ticks\": \"\", \"zerolinecolor\": \"white\"}, \"yaxis\": {\"backgroundcolor\": \"#E5ECF6\", \"gridcolor\": \"white\", \"gridwidth\": 2, \"linecolor\": \"white\", \"showbackground\": true, \"ticks\": \"\", \"zerolinecolor\": \"white\"}, \"zaxis\": {\"backgroundcolor\": \"#E5ECF6\", \"gridcolor\": \"white\", \"gridwidth\": 2, \"linecolor\": \"white\", \"showbackground\": true, \"ticks\": \"\", \"zerolinecolor\": \"white\"}}, \"shapedefaults\": {\"line\": {\"color\": \"#2a3f5f\"}}, \"ternary\": {\"aaxis\": {\"gridcolor\": \"white\", \"linecolor\": \"white\", \"ticks\": \"\"}, \"baxis\": {\"gridcolor\": \"white\", \"linecolor\": \"white\", \"ticks\": \"\"}, \"bgcolor\": \"#E5ECF6\", \"caxis\": {\"gridcolor\": \"white\", \"linecolor\": \"white\", \"ticks\": \"\"}}, \"title\": {\"x\": 0.05}, \"xaxis\": {\"automargin\": true, \"gridcolor\": \"white\", \"linecolor\": \"white\", \"ticks\": \"\", \"title\": {\"standoff\": 15}, \"zerolinecolor\": \"white\", \"zerolinewidth\": 2}, \"yaxis\": {\"automargin\": true, \"gridcolor\": \"white\", \"linecolor\": \"white\", \"ticks\": \"\", \"title\": {\"standoff\": 15}, \"zerolinecolor\": \"white\", \"zerolinewidth\": 2}}}, \"xaxis\": {\"anchor\": \"y\", \"domain\": [0.0, 1.0], \"title\": {\"text\": \"\\uad11\\uace0\\ud69f\\uc218\"}}, \"yaxis\": {\"anchor\": \"x\", \"domain\": [0.0, 1.0], \"title\": {\"text\": \"\\uc2dc\\uccad\\uc790\\uc218\"}}},                        {\"responsive\": true}                    ).then(function(){\n",
       "                            \n",
       "var gd = document.getElementById('630b3cb9-41bd-409e-9836-1f98c581c29c');\n",
       "var x = new MutationObserver(function (mutations, observer) {{\n",
       "        var display = window.getComputedStyle(gd).display;\n",
       "        if (!display || display === 'none') {{\n",
       "            console.log([gd, 'removed!']);\n",
       "            Plotly.purge(gd);\n",
       "            observer.disconnect();\n",
       "        }}\n",
       "}});\n",
       "\n",
       "// Listen for the removal of the full notebook cells\n",
       "var notebookContainer = gd.closest('#notebook-container');\n",
       "if (notebookContainer) {{\n",
       "    x.observe(notebookContainer, {childList: true});\n",
       "}}\n",
       "\n",
       "// Listen for the clearing of the current output cell\n",
       "var outputEl = gd.closest('.output');\n",
       "if (outputEl) {{\n",
       "    x.observe(outputEl, {childList: true});\n",
       "}}\n",
       "\n",
       "                        })                };                });            </script>        </div>"
      ]
     },
     "metadata": {},
     "output_type": "display_data"
    }
   ],
   "source": [
    "\n",
    "fig = px.scatter(br_pr_pivot, size = br_pr_pivot['GRP'],y= br_pr_pivot['시청자수'], x=br_pr_pivot['광고횟수'],\n",
    "                 color=[br_pr_pivot.index[i][0] for i in range(len(br_pr_pivot))], labels={'x':\"시청자수\",\n",
    "                                              'y':\"도달자수\",\n",
    "                                              'species':\"Brand\"})\n",
    "fig.show()"
   ]
  },
  {
   "cell_type": "code",
   "execution_count": 39,
   "id": "5d64032c",
   "metadata": {},
   "outputs": [
    {
     "data": {
      "text/html": [
       "<div>\n",
       "<style scoped>\n",
       "    .dataframe tbody tr th:only-of-type {\n",
       "        vertical-align: middle;\n",
       "    }\n",
       "\n",
       "    .dataframe tbody tr th {\n",
       "        vertical-align: top;\n",
       "    }\n",
       "\n",
       "    .dataframe thead th {\n",
       "        text-align: right;\n",
       "    }\n",
       "</style>\n",
       "<table border=\"1\" class=\"dataframe\">\n",
       "  <thead>\n",
       "    <tr style=\"text-align: right;\">\n",
       "      <th></th>\n",
       "      <th>년</th>\n",
       "      <th>월</th>\n",
       "      <th>광고횟수</th>\n",
       "      <th>시청자수</th>\n",
       "      <th>GRP</th>\n",
       "      <th>도달자수</th>\n",
       "      <th>도달율 1+</th>\n",
       "      <th>도달율 3+</th>\n",
       "      <th>도달율 5+</th>\n",
       "      <th>도달율 7+</th>\n",
       "      <th>도달율 9+</th>\n",
       "    </tr>\n",
       "    <tr>\n",
       "      <th>연령대</th>\n",
       "      <th></th>\n",
       "      <th></th>\n",
       "      <th></th>\n",
       "      <th></th>\n",
       "      <th></th>\n",
       "      <th></th>\n",
       "      <th></th>\n",
       "      <th></th>\n",
       "      <th></th>\n",
       "      <th></th>\n",
       "      <th></th>\n",
       "    </tr>\n",
       "  </thead>\n",
       "  <tbody>\n",
       "    <tr>\n",
       "      <th>20대</th>\n",
       "      <td>2018.044805</td>\n",
       "      <td>18.706387</td>\n",
       "      <td>527.873213</td>\n",
       "      <td>1.198170e+06</td>\n",
       "      <td>35.385987</td>\n",
       "      <td>4.509231e+05</td>\n",
       "      <td>13.324976</td>\n",
       "      <td>4.033651</td>\n",
       "      <td>1.808580</td>\n",
       "      <td>0.987417</td>\n",
       "      <td>0.576644</td>\n",
       "    </tr>\n",
       "    <tr>\n",
       "      <th>30대</th>\n",
       "      <td>2018.044805</td>\n",
       "      <td>18.706387</td>\n",
       "      <td>527.873213</td>\n",
       "      <td>2.542071e+06</td>\n",
       "      <td>65.406959</td>\n",
       "      <td>7.872388e+05</td>\n",
       "      <td>20.218875</td>\n",
       "      <td>7.638227</td>\n",
       "      <td>3.935939</td>\n",
       "      <td>2.288942</td>\n",
       "      <td>1.436320</td>\n",
       "    </tr>\n",
       "    <tr>\n",
       "      <th>40대</th>\n",
       "      <td>2018.044805</td>\n",
       "      <td>18.706387</td>\n",
       "      <td>527.873213</td>\n",
       "      <td>5.026076e+06</td>\n",
       "      <td>118.858723</td>\n",
       "      <td>1.249407e+06</td>\n",
       "      <td>29.542612</td>\n",
       "      <td>13.739085</td>\n",
       "      <td>7.807245</td>\n",
       "      <td>4.863966</td>\n",
       "      <td>3.194852</td>\n",
       "    </tr>\n",
       "    <tr>\n",
       "      <th>50대</th>\n",
       "      <td>2018.044805</td>\n",
       "      <td>18.706387</td>\n",
       "      <td>527.873213</td>\n",
       "      <td>4.980454e+06</td>\n",
       "      <td>130.598761</td>\n",
       "      <td>1.178707e+06</td>\n",
       "      <td>31.034414</td>\n",
       "      <td>14.680172</td>\n",
       "      <td>8.490848</td>\n",
       "      <td>5.359581</td>\n",
       "      <td>3.615539</td>\n",
       "    </tr>\n",
       "    <tr>\n",
       "      <th>60대</th>\n",
       "      <td>2018.044805</td>\n",
       "      <td>18.706387</td>\n",
       "      <td>527.873213</td>\n",
       "      <td>4.822765e+06</td>\n",
       "      <td>114.254242</td>\n",
       "      <td>1.141571e+06</td>\n",
       "      <td>27.242421</td>\n",
       "      <td>12.548332</td>\n",
       "      <td>7.262345</td>\n",
       "      <td>4.621354</td>\n",
       "      <td>3.134032</td>\n",
       "    </tr>\n",
       "    <tr>\n",
       "      <th>개인</th>\n",
       "      <td>2018.044805</td>\n",
       "      <td>18.706387</td>\n",
       "      <td>527.873213</td>\n",
       "      <td>2.000374e+07</td>\n",
       "      <td>84.940610</td>\n",
       "      <td>5.370139e+06</td>\n",
       "      <td>22.830696</td>\n",
       "      <td>9.632984</td>\n",
       "      <td>5.295424</td>\n",
       "      <td>3.251192</td>\n",
       "      <td>2.136416</td>\n",
       "    </tr>\n",
       "  </tbody>\n",
       "</table>\n",
       "</div>"
      ],
      "text/plain": [
       "               년          월        광고횟수          시청자수         GRP  \\\n",
       "연령대                                                                 \n",
       "20대  2018.044805  18.706387  527.873213  1.198170e+06   35.385987   \n",
       "30대  2018.044805  18.706387  527.873213  2.542071e+06   65.406959   \n",
       "40대  2018.044805  18.706387  527.873213  5.026076e+06  118.858723   \n",
       "50대  2018.044805  18.706387  527.873213  4.980454e+06  130.598761   \n",
       "60대  2018.044805  18.706387  527.873213  4.822765e+06  114.254242   \n",
       "개인   2018.044805  18.706387  527.873213  2.000374e+07   84.940610   \n",
       "\n",
       "             도달자수     도달율 1+     도달율 3+    도달율 5+    도달율 7+    도달율 9+  \n",
       "연령대                                                                    \n",
       "20대  4.509231e+05  13.324976   4.033651  1.808580  0.987417  0.576644  \n",
       "30대  7.872388e+05  20.218875   7.638227  3.935939  2.288942  1.436320  \n",
       "40대  1.249407e+06  29.542612  13.739085  7.807245  4.863966  3.194852  \n",
       "50대  1.178707e+06  31.034414  14.680172  8.490848  5.359581  3.615539  \n",
       "60대  1.141571e+06  27.242421  12.548332  7.262345  4.621354  3.134032  \n",
       "개인   5.370139e+06  22.830696   9.632984  5.295424  3.251192  2.136416  "
      ]
     },
     "execution_count": 39,
     "metadata": {},
     "output_type": "execute_result"
    }
   ],
   "source": [
    "age_df = original.groupby('연령대').mean()\n",
    "age_df"
   ]
  },
  {
   "cell_type": "code",
   "execution_count": 41,
   "id": "90b27f7e",
   "metadata": {},
   "outputs": [
    {
     "data": {
      "text/html": [
       "<div>\n",
       "<style scoped>\n",
       "    .dataframe tbody tr th:only-of-type {\n",
       "        vertical-align: middle;\n",
       "    }\n",
       "\n",
       "    .dataframe tbody tr th {\n",
       "        vertical-align: top;\n",
       "    }\n",
       "\n",
       "    .dataframe thead th {\n",
       "        text-align: right;\n",
       "    }\n",
       "</style>\n",
       "<table border=\"1\" class=\"dataframe\">\n",
       "  <thead>\n",
       "    <tr style=\"text-align: right;\">\n",
       "      <th></th>\n",
       "      <th>도달자수</th>\n",
       "      <th>시청자수</th>\n",
       "      <th>도달율 1+</th>\n",
       "      <th>도달율 3+</th>\n",
       "    </tr>\n",
       "    <tr>\n",
       "      <th>연령대</th>\n",
       "      <th></th>\n",
       "      <th></th>\n",
       "      <th></th>\n",
       "      <th></th>\n",
       "    </tr>\n",
       "  </thead>\n",
       "  <tbody>\n",
       "    <tr>\n",
       "      <th>20대</th>\n",
       "      <td>4.509231e+05</td>\n",
       "      <td>1.198170e+06</td>\n",
       "      <td>13.324976</td>\n",
       "      <td>4.033651</td>\n",
       "    </tr>\n",
       "    <tr>\n",
       "      <th>30대</th>\n",
       "      <td>7.872388e+05</td>\n",
       "      <td>2.542071e+06</td>\n",
       "      <td>20.218875</td>\n",
       "      <td>7.638227</td>\n",
       "    </tr>\n",
       "    <tr>\n",
       "      <th>40대</th>\n",
       "      <td>1.249407e+06</td>\n",
       "      <td>5.026076e+06</td>\n",
       "      <td>29.542612</td>\n",
       "      <td>13.739085</td>\n",
       "    </tr>\n",
       "    <tr>\n",
       "      <th>50대</th>\n",
       "      <td>1.178707e+06</td>\n",
       "      <td>4.980454e+06</td>\n",
       "      <td>31.034414</td>\n",
       "      <td>14.680172</td>\n",
       "    </tr>\n",
       "    <tr>\n",
       "      <th>60대</th>\n",
       "      <td>1.141571e+06</td>\n",
       "      <td>4.822765e+06</td>\n",
       "      <td>27.242421</td>\n",
       "      <td>12.548332</td>\n",
       "    </tr>\n",
       "    <tr>\n",
       "      <th>개인</th>\n",
       "      <td>5.370139e+06</td>\n",
       "      <td>2.000374e+07</td>\n",
       "      <td>22.830696</td>\n",
       "      <td>9.632984</td>\n",
       "    </tr>\n",
       "  </tbody>\n",
       "</table>\n",
       "</div>"
      ],
      "text/plain": [
       "             도달자수          시청자수     도달율 1+     도달율 3+\n",
       "연령대                                                  \n",
       "20대  4.509231e+05  1.198170e+06  13.324976   4.033651\n",
       "30대  7.872388e+05  2.542071e+06  20.218875   7.638227\n",
       "40대  1.249407e+06  5.026076e+06  29.542612  13.739085\n",
       "50대  1.178707e+06  4.980454e+06  31.034414  14.680172\n",
       "60대  1.141571e+06  4.822765e+06  27.242421  12.548332\n",
       "개인   5.370139e+06  2.000374e+07  22.830696   9.632984"
      ]
     },
     "execution_count": 41,
     "metadata": {},
     "output_type": "execute_result"
    }
   ],
   "source": [
    "age_df[['도달자수', '시청자수', \"도달율 1+\",\"도달율 3+\"]]"
   ]
  }
 ],
 "metadata": {
  "kernelspec": {
   "display_name": "Python 3",
   "language": "python",
   "name": "python3"
  },
  "language_info": {
   "codemirror_mode": {
    "name": "ipython",
    "version": 3
   },
   "file_extension": ".py",
   "mimetype": "text/x-python",
   "name": "python",
   "nbconvert_exporter": "python",
   "pygments_lexer": "ipython3",
   "version": "3.7.10"
  }
 },
 "nbformat": 4,
 "nbformat_minor": 5
}
